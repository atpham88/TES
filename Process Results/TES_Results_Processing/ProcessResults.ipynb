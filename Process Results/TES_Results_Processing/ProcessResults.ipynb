{
 "cells": [
  {
   "cell_type": "code",
   "execution_count": 2,
   "outputs": [],
   "source": [
    "import pandas as pd\n",
    "import matplotlib.pyplot as plt"
   ],
   "metadata": {
    "collapsed": false,
    "pycharm": {
     "name": "#%%\n"
    }
   }
  },
  {
   "cell_type": "code",
   "execution_count": null,
   "outputs": [],
   "source": [
    "B = list(range(400))\n",
    "for b in B:\n",
    "    building_id = b\n",
    "\n",
    "    # Read resstock results summary folder:\n",
    "    resstock_results = pd.read_csv(model_dir + load_folder + 'results.csv')\n",
    "    resstock_building_id = building_id + 1\n",
    "\n",
    "    folder_id = resstock_results.loc[resstock_results['build_existing_model.building_id'] == resstock_building_id, '_id']\n",
    "    folder_id = folder_id.reset_index()\n",
    "    folder_id = folder_id.drop(['index'], axis=1)\n",
    "    folder_id = folder_id.iloc[0,0]\n",
    "\n",
    "    if super_comp == 0:\n",
    "        archive = zipfile.ZipFile(model_dir + load_folder + folder_id + '\\\\' + 'data_point.zip')\n",
    "    elif super_comp == 1:\n",
    "        archive = zipfile.ZipFile(model_dir + load_folder + folder_id + '/' + 'data_point.zip')\n",
    "\n",
    "    load_data_path = archive.extract('enduse_timeseries.csv', model_dir + load_folder + folder_id + '\\\\')\n",
    "    load_data_raw = pd.read_csv(load_data_path)\n",
    "    archive.close()\n",
    "\n",
    "    # Hourly load\n",
    "    load_data_annual = load_data_raw['electricity_heating_kwh']\n",
    "    load_data_annual = load_data_annual.iloc[starting_hour:starting_hour+hour]\n",
    "    load_data_annual = load_data_annual.reset_index()\n",
    "    load_data_annual = load_data_annual.drop(['index'], axis=1)\n",
    "    load_data_annual = load_data_annual.rename(columns={'electricity_heating_kwh':0})\n",
    "\n",
    "    peakLoad = float(load_data_annual.max())\n",
    "\n",
    "    d_heating_temp = {(r, c): load_data_annual.at[r, c] for r in T for c in list(range(1))}\n",
    "    d_heating = dict.fromkeys((range(hour)))\n",
    "    for t in T:\n",
    "        d_heating[t] = d_heating_temp[t,0]"
   ],
   "metadata": {
    "collapsed": false,
    "pycharm": {
     "name": "#%%\n"
    }
   }
  }
 ],
 "metadata": {
  "kernelspec": {
   "display_name": "Python 3",
   "language": "python",
   "name": "python3"
  },
  "language_info": {
   "codemirror_mode": {
    "name": "ipython",
    "version": 3
   },
   "file_extension": ".py",
   "mimetype": "text/x-python",
   "name": "python",
   "nbconvert_exporter": "python",
   "pygments_lexer": "ipython3",
   "version": "3.7.3"
  }
 },
 "nbformat": 4,
 "nbformat_minor": 1
}