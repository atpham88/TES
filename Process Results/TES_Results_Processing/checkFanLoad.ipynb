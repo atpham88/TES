{
 "cells": [
  {
   "cell_type": "code",
   "execution_count": 19,
   "metadata": {
    "collapsed": true,
    "pycharm": {
     "name": "#%%\n"
    }
   },
   "outputs": [],
   "source": [
    "import pandas as pd\n",
    "import matplotlib.pyplot as plt\n",
    "import zipfile\n",
    "from datetime import datetime"
   ]
  },
  {
   "cell_type": "code",
   "execution_count": 25,
   "outputs": [
    {
     "name": "stdout",
     "output_type": "stream",
     "text": [
      "0.07627139451597671 0.39441550073481685\n"
     ]
    },
    {
     "name": "stderr",
     "output_type": "stream",
     "text": [
      "C:\\Users\\atpha\\AppData\\Local\\Temp\\ipykernel_21116\\657607755.py:51: FutureWarning: The frame.append method is deprecated and will be removed from pandas in a future version. Use pandas.concat instead.\n",
      "  df2 = df2.append({'building id' : building_id, 'fan/heating ratio' : load_heating_annual}, ignore_index = True)\n",
      "C:\\Users\\atpha\\AppData\\Local\\Temp\\ipykernel_21116\\657607755.py:51: FutureWarning: The frame.append method is deprecated and will be removed from pandas in a future version. Use pandas.concat instead.\n",
      "  df2 = df2.append({'building id' : building_id, 'fan/heating ratio' : load_heating_annual}, ignore_index = True)\n"
     ]
    },
    {
     "name": "stdout",
     "output_type": "stream",
     "text": [
      "0.07868432568945637 0.3929540290431919\n",
      "0.0701614814864755 0.39087695346518814\n"
     ]
    },
    {
     "name": "stderr",
     "output_type": "stream",
     "text": [
      "C:\\Users\\atpha\\AppData\\Local\\Temp\\ipykernel_21116\\657607755.py:51: FutureWarning: The frame.append method is deprecated and will be removed from pandas in a future version. Use pandas.concat instead.\n",
      "  df2 = df2.append({'building id' : building_id, 'fan/heating ratio' : load_heating_annual}, ignore_index = True)\n"
     ]
    },
    {
     "name": "stdout",
     "output_type": "stream",
     "text": [
      "0.07983367026744975 0.3930542886503346\n"
     ]
    },
    {
     "name": "stderr",
     "output_type": "stream",
     "text": [
      "C:\\Users\\atpha\\AppData\\Local\\Temp\\ipykernel_21116\\657607755.py:51: FutureWarning: The frame.append method is deprecated and will be removed from pandas in a future version. Use pandas.concat instead.\n",
      "  df2 = df2.append({'building id' : building_id, 'fan/heating ratio' : load_heating_annual}, ignore_index = True)\n"
     ]
    },
    {
     "name": "stdout",
     "output_type": "stream",
     "text": [
      "0.06703234801427789 0.3900961425459584\n",
      "0.07906224273163019 0.3769967547025029\n"
     ]
    },
    {
     "name": "stderr",
     "output_type": "stream",
     "text": [
      "C:\\Users\\atpha\\AppData\\Local\\Temp\\ipykernel_21116\\657607755.py:51: FutureWarning: The frame.append method is deprecated and will be removed from pandas in a future version. Use pandas.concat instead.\n",
      "  df2 = df2.append({'building id' : building_id, 'fan/heating ratio' : load_heating_annual}, ignore_index = True)\n",
      "C:\\Users\\atpha\\AppData\\Local\\Temp\\ipykernel_21116\\657607755.py:51: FutureWarning: The frame.append method is deprecated and will be removed from pandas in a future version. Use pandas.concat instead.\n",
      "  df2 = df2.append({'building id' : building_id, 'fan/heating ratio' : load_heating_annual}, ignore_index = True)\n"
     ]
    },
    {
     "name": "stdout",
     "output_type": "stream",
     "text": [
      "0.0742314573521599 0.3993526065430397\n"
     ]
    },
    {
     "name": "stderr",
     "output_type": "stream",
     "text": [
      "C:\\Users\\atpha\\AppData\\Local\\Temp\\ipykernel_21116\\657607755.py:51: FutureWarning: The frame.append method is deprecated and will be removed from pandas in a future version. Use pandas.concat instead.\n",
      "  df2 = df2.append({'building id' : building_id, 'fan/heating ratio' : load_heating_annual}, ignore_index = True)\n"
     ]
    },
    {
     "name": "stdout",
     "output_type": "stream",
     "text": [
      "0.08210393785999374 0.39867826855653715\n"
     ]
    },
    {
     "name": "stderr",
     "output_type": "stream",
     "text": [
      "C:\\Users\\atpha\\AppData\\Local\\Temp\\ipykernel_21116\\657607755.py:51: FutureWarning: The frame.append method is deprecated and will be removed from pandas in a future version. Use pandas.concat instead.\n",
      "  df2 = df2.append({'building id' : building_id, 'fan/heating ratio' : load_heating_annual}, ignore_index = True)\n"
     ]
    },
    {
     "name": "stdout",
     "output_type": "stream",
     "text": [
      "0.09322793319878947 0.3981444593108742\n"
     ]
    },
    {
     "name": "stderr",
     "output_type": "stream",
     "text": [
      "C:\\Users\\atpha\\AppData\\Local\\Temp\\ipykernel_21116\\657607755.py:51: FutureWarning: The frame.append method is deprecated and will be removed from pandas in a future version. Use pandas.concat instead.\n",
      "  df2 = df2.append({'building id' : building_id, 'fan/heating ratio' : load_heating_annual}, ignore_index = True)\n"
     ]
    },
    {
     "name": "stdout",
     "output_type": "stream",
     "text": [
      "0.07935163848758878 0.3937253764062983\n"
     ]
    },
    {
     "name": "stderr",
     "output_type": "stream",
     "text": [
      "C:\\Users\\atpha\\AppData\\Local\\Temp\\ipykernel_21116\\657607755.py:51: FutureWarning: The frame.append method is deprecated and will be removed from pandas in a future version. Use pandas.concat instead.\n",
      "  df2 = df2.append({'building id' : building_id, 'fan/heating ratio' : load_heating_annual}, ignore_index = True)\n"
     ]
    },
    {
     "name": "stdout",
     "output_type": "stream",
     "text": [
      "0.09683635475941904 0.3979745384660467\n"
     ]
    },
    {
     "name": "stderr",
     "output_type": "stream",
     "text": [
      "C:\\Users\\atpha\\AppData\\Local\\Temp\\ipykernel_21116\\657607755.py:51: FutureWarning: The frame.append method is deprecated and will be removed from pandas in a future version. Use pandas.concat instead.\n",
      "  df2 = df2.append({'building id' : building_id, 'fan/heating ratio' : load_heating_annual}, ignore_index = True)\n"
     ]
    },
    {
     "name": "stdout",
     "output_type": "stream",
     "text": [
      "0.07235786384354619 0.3600654736930306\n"
     ]
    },
    {
     "name": "stderr",
     "output_type": "stream",
     "text": [
      "C:\\Users\\atpha\\AppData\\Local\\Temp\\ipykernel_21116\\657607755.py:51: FutureWarning: The frame.append method is deprecated and will be removed from pandas in a future version. Use pandas.concat instead.\n",
      "  df2 = df2.append({'building id' : building_id, 'fan/heating ratio' : load_heating_annual}, ignore_index = True)\n"
     ]
    },
    {
     "name": "stdout",
     "output_type": "stream",
     "text": [
      "0.11790958639851527 0.39782717382722005\n"
     ]
    },
    {
     "name": "stderr",
     "output_type": "stream",
     "text": [
      "C:\\Users\\atpha\\AppData\\Local\\Temp\\ipykernel_21116\\657607755.py:51: FutureWarning: The frame.append method is deprecated and will be removed from pandas in a future version. Use pandas.concat instead.\n",
      "  df2 = df2.append({'building id' : building_id, 'fan/heating ratio' : load_heating_annual}, ignore_index = True)\n",
      "C:\\Users\\atpha\\AppData\\Local\\Temp\\ipykernel_21116\\657607755.py:51: FutureWarning: The frame.append method is deprecated and will be removed from pandas in a future version. Use pandas.concat instead.\n",
      "  df2 = df2.append({'building id' : building_id, 'fan/heating ratio' : load_heating_annual}, ignore_index = True)\n"
     ]
    },
    {
     "name": "stdout",
     "output_type": "stream",
     "text": [
      "0.1508684167823177 0.3952792136113654\n",
      "0.08746096259888035 0.36991347297673505\n"
     ]
    },
    {
     "name": "stderr",
     "output_type": "stream",
     "text": [
      "C:\\Users\\atpha\\AppData\\Local\\Temp\\ipykernel_21116\\657607755.py:51: FutureWarning: The frame.append method is deprecated and will be removed from pandas in a future version. Use pandas.concat instead.\n",
      "  df2 = df2.append({'building id' : building_id, 'fan/heating ratio' : load_heating_annual}, ignore_index = True)\n",
      "C:\\Users\\atpha\\AppData\\Local\\Temp\\ipykernel_21116\\657607755.py:51: FutureWarning: The frame.append method is deprecated and will be removed from pandas in a future version. Use pandas.concat instead.\n",
      "  df2 = df2.append({'building id' : building_id, 'fan/heating ratio' : load_heating_annual}, ignore_index = True)\n"
     ]
    },
    {
     "name": "stdout",
     "output_type": "stream",
     "text": [
      "0.1121001613788003 0.40088123665246034\n",
      "0.09122775962030406 0.3968424492152516\n",
      "0.08328715222004542 0.4020032088687198\n"
     ]
    },
    {
     "name": "stderr",
     "output_type": "stream",
     "text": [
      "C:\\Users\\atpha\\AppData\\Local\\Temp\\ipykernel_21116\\657607755.py:51: FutureWarning: The frame.append method is deprecated and will be removed from pandas in a future version. Use pandas.concat instead.\n",
      "  df2 = df2.append({'building id' : building_id, 'fan/heating ratio' : load_heating_annual}, ignore_index = True)\n",
      "C:\\Users\\atpha\\AppData\\Local\\Temp\\ipykernel_21116\\657607755.py:51: FutureWarning: The frame.append method is deprecated and will be removed from pandas in a future version. Use pandas.concat instead.\n",
      "  df2 = df2.append({'building id' : building_id, 'fan/heating ratio' : load_heating_annual}, ignore_index = True)\n"
     ]
    },
    {
     "name": "stdout",
     "output_type": "stream",
     "text": [
      "0.09239507344651354 0.400248391647749\n",
      "0.08271119940291251 0.39952365225483666\n"
     ]
    },
    {
     "name": "stderr",
     "output_type": "stream",
     "text": [
      "C:\\Users\\atpha\\AppData\\Local\\Temp\\ipykernel_21116\\657607755.py:51: FutureWarning: The frame.append method is deprecated and will be removed from pandas in a future version. Use pandas.concat instead.\n",
      "  df2 = df2.append({'building id' : building_id, 'fan/heating ratio' : load_heating_annual}, ignore_index = True)\n",
      "C:\\Users\\atpha\\AppData\\Local\\Temp\\ipykernel_21116\\657607755.py:51: FutureWarning: The frame.append method is deprecated and will be removed from pandas in a future version. Use pandas.concat instead.\n",
      "  df2 = df2.append({'building id' : building_id, 'fan/heating ratio' : load_heating_annual}, ignore_index = True)\n"
     ]
    },
    {
     "name": "stdout",
     "output_type": "stream",
     "text": [
      "0.07221591121304996 0.39358984937130476\n",
      "0.08728866633835365 0.3271304671557432\n"
     ]
    },
    {
     "name": "stderr",
     "output_type": "stream",
     "text": [
      "C:\\Users\\atpha\\AppData\\Local\\Temp\\ipykernel_21116\\657607755.py:51: FutureWarning: The frame.append method is deprecated and will be removed from pandas in a future version. Use pandas.concat instead.\n",
      "  df2 = df2.append({'building id' : building_id, 'fan/heating ratio' : load_heating_annual}, ignore_index = True)\n",
      "C:\\Users\\atpha\\AppData\\Local\\Temp\\ipykernel_21116\\657607755.py:51: FutureWarning: The frame.append method is deprecated and will be removed from pandas in a future version. Use pandas.concat instead.\n",
      "  df2 = df2.append({'building id' : building_id, 'fan/heating ratio' : load_heating_annual}, ignore_index = True)\n"
     ]
    },
    {
     "name": "stdout",
     "output_type": "stream",
     "text": [
      "0.09680945226691356 0.3991184987539772\n",
      "0.04684084619387478 0.3252056933758041\n"
     ]
    },
    {
     "name": "stderr",
     "output_type": "stream",
     "text": [
      "C:\\Users\\atpha\\AppData\\Local\\Temp\\ipykernel_21116\\657607755.py:51: FutureWarning: The frame.append method is deprecated and will be removed from pandas in a future version. Use pandas.concat instead.\n",
      "  df2 = df2.append({'building id' : building_id, 'fan/heating ratio' : load_heating_annual}, ignore_index = True)\n",
      "C:\\Users\\atpha\\AppData\\Local\\Temp\\ipykernel_21116\\657607755.py:51: FutureWarning: The frame.append method is deprecated and will be removed from pandas in a future version. Use pandas.concat instead.\n",
      "  df2 = df2.append({'building id' : building_id, 'fan/heating ratio' : load_heating_annual}, ignore_index = True)\n"
     ]
    },
    {
     "name": "stdout",
     "output_type": "stream",
     "text": [
      "0.09527270863756783 0.39672851643178997\n",
      "0.06375882132438394 0.32500333117020835\n"
     ]
    },
    {
     "name": "stderr",
     "output_type": "stream",
     "text": [
      "C:\\Users\\atpha\\AppData\\Local\\Temp\\ipykernel_21116\\657607755.py:51: FutureWarning: The frame.append method is deprecated and will be removed from pandas in a future version. Use pandas.concat instead.\n",
      "  df2 = df2.append({'building id' : building_id, 'fan/heating ratio' : load_heating_annual}, ignore_index = True)\n",
      "C:\\Users\\atpha\\AppData\\Local\\Temp\\ipykernel_21116\\657607755.py:51: FutureWarning: The frame.append method is deprecated and will be removed from pandas in a future version. Use pandas.concat instead.\n",
      "  df2 = df2.append({'building id' : building_id, 'fan/heating ratio' : load_heating_annual}, ignore_index = True)\n"
     ]
    },
    {
     "name": "stdout",
     "output_type": "stream",
     "text": [
      "0.11436215410871702 0.39552532006651403\n",
      "0.1023829281490546 0.40005515584306495\n"
     ]
    },
    {
     "name": "stderr",
     "output_type": "stream",
     "text": [
      "C:\\Users\\atpha\\AppData\\Local\\Temp\\ipykernel_21116\\657607755.py:51: FutureWarning: The frame.append method is deprecated and will be removed from pandas in a future version. Use pandas.concat instead.\n",
      "  df2 = df2.append({'building id' : building_id, 'fan/heating ratio' : load_heating_annual}, ignore_index = True)\n",
      "C:\\Users\\atpha\\AppData\\Local\\Temp\\ipykernel_21116\\657607755.py:51: FutureWarning: The frame.append method is deprecated and will be removed from pandas in a future version. Use pandas.concat instead.\n",
      "  df2 = df2.append({'building id' : building_id, 'fan/heating ratio' : load_heating_annual}, ignore_index = True)\n"
     ]
    },
    {
     "name": "stdout",
     "output_type": "stream",
     "text": [
      "0.07345087864743365 0.3933310880291955\n"
     ]
    },
    {
     "name": "stderr",
     "output_type": "stream",
     "text": [
      "C:\\Users\\atpha\\AppData\\Local\\Temp\\ipykernel_21116\\657607755.py:51: FutureWarning: The frame.append method is deprecated and will be removed from pandas in a future version. Use pandas.concat instead.\n",
      "  df2 = df2.append({'building id' : building_id, 'fan/heating ratio' : load_heating_annual}, ignore_index = True)\n"
     ]
    },
    {
     "name": "stdout",
     "output_type": "stream",
     "text": [
      "0.07920394648484928 0.3949843628739371\n"
     ]
    },
    {
     "name": "stderr",
     "output_type": "stream",
     "text": [
      "C:\\Users\\atpha\\AppData\\Local\\Temp\\ipykernel_21116\\657607755.py:51: FutureWarning: The frame.append method is deprecated and will be removed from pandas in a future version. Use pandas.concat instead.\n",
      "  df2 = df2.append({'building id' : building_id, 'fan/heating ratio' : load_heating_annual}, ignore_index = True)\n"
     ]
    },
    {
     "name": "stdout",
     "output_type": "stream",
     "text": [
      "0.06711879383453047 0.3235405227527325\n"
     ]
    },
    {
     "name": "stderr",
     "output_type": "stream",
     "text": [
      "C:\\Users\\atpha\\AppData\\Local\\Temp\\ipykernel_21116\\657607755.py:51: FutureWarning: The frame.append method is deprecated and will be removed from pandas in a future version. Use pandas.concat instead.\n",
      "  df2 = df2.append({'building id' : building_id, 'fan/heating ratio' : load_heating_annual}, ignore_index = True)\n"
     ]
    },
    {
     "name": "stdout",
     "output_type": "stream",
     "text": [
      "0.0786427185044781 0.393483593789258\n"
     ]
    },
    {
     "name": "stderr",
     "output_type": "stream",
     "text": [
      "C:\\Users\\atpha\\AppData\\Local\\Temp\\ipykernel_21116\\657607755.py:51: FutureWarning: The frame.append method is deprecated and will be removed from pandas in a future version. Use pandas.concat instead.\n",
      "  df2 = df2.append({'building id' : building_id, 'fan/heating ratio' : load_heating_annual}, ignore_index = True)\n"
     ]
    },
    {
     "name": "stdout",
     "output_type": "stream",
     "text": [
      "0.060485426286034774 0.3232933683838893\n"
     ]
    },
    {
     "name": "stderr",
     "output_type": "stream",
     "text": [
      "C:\\Users\\atpha\\AppData\\Local\\Temp\\ipykernel_21116\\657607755.py:51: FutureWarning: The frame.append method is deprecated and will be removed from pandas in a future version. Use pandas.concat instead.\n",
      "  df2 = df2.append({'building id' : building_id, 'fan/heating ratio' : load_heating_annual}, ignore_index = True)\n"
     ]
    },
    {
     "name": "stdout",
     "output_type": "stream",
     "text": [
      "0.07121797319686166 0.39100226024949825\n"
     ]
    },
    {
     "name": "stderr",
     "output_type": "stream",
     "text": [
      "C:\\Users\\atpha\\AppData\\Local\\Temp\\ipykernel_21116\\657607755.py:51: FutureWarning: The frame.append method is deprecated and will be removed from pandas in a future version. Use pandas.concat instead.\n",
      "  df2 = df2.append({'building id' : building_id, 'fan/heating ratio' : load_heating_annual}, ignore_index = True)\n"
     ]
    },
    {
     "name": "stdout",
     "output_type": "stream",
     "text": [
      "0.13179136549233128 0.39920870395956953\n"
     ]
    },
    {
     "name": "stderr",
     "output_type": "stream",
     "text": [
      "C:\\Users\\atpha\\AppData\\Local\\Temp\\ipykernel_21116\\657607755.py:51: FutureWarning: The frame.append method is deprecated and will be removed from pandas in a future version. Use pandas.concat instead.\n",
      "  df2 = df2.append({'building id' : building_id, 'fan/heating ratio' : load_heating_annual}, ignore_index = True)\n"
     ]
    },
    {
     "name": "stdout",
     "output_type": "stream",
     "text": [
      "0.07015561243752536 0.32212622235675675\n"
     ]
    },
    {
     "name": "stderr",
     "output_type": "stream",
     "text": [
      "C:\\Users\\atpha\\AppData\\Local\\Temp\\ipykernel_21116\\657607755.py:51: FutureWarning: The frame.append method is deprecated and will be removed from pandas in a future version. Use pandas.concat instead.\n",
      "  df2 = df2.append({'building id' : building_id, 'fan/heating ratio' : load_heating_annual}, ignore_index = True)\n"
     ]
    },
    {
     "name": "stdout",
     "output_type": "stream",
     "text": [
      "0.1328737623414318 0.3921714328492309\n"
     ]
    },
    {
     "name": "stderr",
     "output_type": "stream",
     "text": [
      "C:\\Users\\atpha\\AppData\\Local\\Temp\\ipykernel_21116\\657607755.py:51: FutureWarning: The frame.append method is deprecated and will be removed from pandas in a future version. Use pandas.concat instead.\n",
      "  df2 = df2.append({'building id' : building_id, 'fan/heating ratio' : load_heating_annual}, ignore_index = True)\n"
     ]
    },
    {
     "name": "stdout",
     "output_type": "stream",
     "text": [
      "0.09175935284167754 0.3986679137300958\n"
     ]
    },
    {
     "name": "stderr",
     "output_type": "stream",
     "text": [
      "C:\\Users\\atpha\\AppData\\Local\\Temp\\ipykernel_21116\\657607755.py:51: FutureWarning: The frame.append method is deprecated and will be removed from pandas in a future version. Use pandas.concat instead.\n",
      "  df2 = df2.append({'building id' : building_id, 'fan/heating ratio' : load_heating_annual}, ignore_index = True)\n"
     ]
    },
    {
     "name": "stdout",
     "output_type": "stream",
     "text": [
      "0.08566469772116111 0.4008583703292178\n"
     ]
    },
    {
     "name": "stderr",
     "output_type": "stream",
     "text": [
      "C:\\Users\\atpha\\AppData\\Local\\Temp\\ipykernel_21116\\657607755.py:51: FutureWarning: The frame.append method is deprecated and will be removed from pandas in a future version. Use pandas.concat instead.\n",
      "  df2 = df2.append({'building id' : building_id, 'fan/heating ratio' : load_heating_annual}, ignore_index = True)\n"
     ]
    },
    {
     "name": "stdout",
     "output_type": "stream",
     "text": [
      "0.0743735370040891 0.4009747648319896\n"
     ]
    },
    {
     "name": "stderr",
     "output_type": "stream",
     "text": [
      "C:\\Users\\atpha\\AppData\\Local\\Temp\\ipykernel_21116\\657607755.py:51: FutureWarning: The frame.append method is deprecated and will be removed from pandas in a future version. Use pandas.concat instead.\n",
      "  df2 = df2.append({'building id' : building_id, 'fan/heating ratio' : load_heating_annual}, ignore_index = True)\n"
     ]
    },
    {
     "name": "stdout",
     "output_type": "stream",
     "text": [
      "0.07097670294592624 0.3971537153943549\n"
     ]
    },
    {
     "name": "stderr",
     "output_type": "stream",
     "text": [
      "C:\\Users\\atpha\\AppData\\Local\\Temp\\ipykernel_21116\\657607755.py:51: FutureWarning: The frame.append method is deprecated and will be removed from pandas in a future version. Use pandas.concat instead.\n",
      "  df2 = df2.append({'building id' : building_id, 'fan/heating ratio' : load_heating_annual}, ignore_index = True)\n"
     ]
    },
    {
     "name": "stdout",
     "output_type": "stream",
     "text": [
      "0.09988604205626164 0.4007225531501271\n"
     ]
    },
    {
     "name": "stderr",
     "output_type": "stream",
     "text": [
      "C:\\Users\\atpha\\AppData\\Local\\Temp\\ipykernel_21116\\657607755.py:51: FutureWarning: The frame.append method is deprecated and will be removed from pandas in a future version. Use pandas.concat instead.\n",
      "  df2 = df2.append({'building id' : building_id, 'fan/heating ratio' : load_heating_annual}, ignore_index = True)\n"
     ]
    },
    {
     "name": "stdout",
     "output_type": "stream",
     "text": [
      "0.15551491175934726 0.39503304684063467\n"
     ]
    },
    {
     "name": "stderr",
     "output_type": "stream",
     "text": [
      "C:\\Users\\atpha\\AppData\\Local\\Temp\\ipykernel_21116\\657607755.py:51: FutureWarning: The frame.append method is deprecated and will be removed from pandas in a future version. Use pandas.concat instead.\n",
      "  df2 = df2.append({'building id' : building_id, 'fan/heating ratio' : load_heating_annual}, ignore_index = True)\n"
     ]
    },
    {
     "name": "stdout",
     "output_type": "stream",
     "text": [
      "0.07788125979752741 0.3961569742952354\n"
     ]
    },
    {
     "name": "stderr",
     "output_type": "stream",
     "text": [
      "C:\\Users\\atpha\\AppData\\Local\\Temp\\ipykernel_21116\\657607755.py:51: FutureWarning: The frame.append method is deprecated and will be removed from pandas in a future version. Use pandas.concat instead.\n",
      "  df2 = df2.append({'building id' : building_id, 'fan/heating ratio' : load_heating_annual}, ignore_index = True)\n"
     ]
    },
    {
     "name": "stdout",
     "output_type": "stream",
     "text": [
      "0.09733787371654584 0.3975735674932501\n"
     ]
    },
    {
     "name": "stderr",
     "output_type": "stream",
     "text": [
      "C:\\Users\\atpha\\AppData\\Local\\Temp\\ipykernel_21116\\657607755.py:51: FutureWarning: The frame.append method is deprecated and will be removed from pandas in a future version. Use pandas.concat instead.\n",
      "  df2 = df2.append({'building id' : building_id, 'fan/heating ratio' : load_heating_annual}, ignore_index = True)\n"
     ]
    },
    {
     "name": "stdout",
     "output_type": "stream",
     "text": [
      "0.07357125223104706 0.3913346661392347\n"
     ]
    },
    {
     "name": "stderr",
     "output_type": "stream",
     "text": [
      "C:\\Users\\atpha\\AppData\\Local\\Temp\\ipykernel_21116\\657607755.py:51: FutureWarning: The frame.append method is deprecated and will be removed from pandas in a future version. Use pandas.concat instead.\n",
      "  df2 = df2.append({'building id' : building_id, 'fan/heating ratio' : load_heating_annual}, ignore_index = True)\n"
     ]
    },
    {
     "name": "stdout",
     "output_type": "stream",
     "text": [
      "0.09292810113046121 0.33306097681159264\n"
     ]
    },
    {
     "name": "stderr",
     "output_type": "stream",
     "text": [
      "C:\\Users\\atpha\\AppData\\Local\\Temp\\ipykernel_21116\\657607755.py:51: FutureWarning: The frame.append method is deprecated and will be removed from pandas in a future version. Use pandas.concat instead.\n",
      "  df2 = df2.append({'building id' : building_id, 'fan/heating ratio' : load_heating_annual}, ignore_index = True)\n"
     ]
    },
    {
     "name": "stdout",
     "output_type": "stream",
     "text": [
      "0.10282799814436107 0.3970784446465035\n"
     ]
    },
    {
     "name": "stderr",
     "output_type": "stream",
     "text": [
      "C:\\Users\\atpha\\AppData\\Local\\Temp\\ipykernel_21116\\657607755.py:51: FutureWarning: The frame.append method is deprecated and will be removed from pandas in a future version. Use pandas.concat instead.\n",
      "  df2 = df2.append({'building id' : building_id, 'fan/heating ratio' : load_heating_annual}, ignore_index = True)\n"
     ]
    },
    {
     "name": "stdout",
     "output_type": "stream",
     "text": [
      "0.10239131499478739 0.3987188844497142\n"
     ]
    },
    {
     "name": "stderr",
     "output_type": "stream",
     "text": [
      "C:\\Users\\atpha\\AppData\\Local\\Temp\\ipykernel_21116\\657607755.py:51: FutureWarning: The frame.append method is deprecated and will be removed from pandas in a future version. Use pandas.concat instead.\n",
      "  df2 = df2.append({'building id' : building_id, 'fan/heating ratio' : load_heating_annual}, ignore_index = True)\n"
     ]
    },
    {
     "name": "stdout",
     "output_type": "stream",
     "text": [
      "0.06356825010574531 0.3934473424825765\n"
     ]
    },
    {
     "name": "stderr",
     "output_type": "stream",
     "text": [
      "C:\\Users\\atpha\\AppData\\Local\\Temp\\ipykernel_21116\\657607755.py:51: FutureWarning: The frame.append method is deprecated and will be removed from pandas in a future version. Use pandas.concat instead.\n",
      "  df2 = df2.append({'building id' : building_id, 'fan/heating ratio' : load_heating_annual}, ignore_index = True)\n"
     ]
    },
    {
     "name": "stdout",
     "output_type": "stream",
     "text": [
      "0.07008135078914822 0.39335820978298475\n"
     ]
    },
    {
     "name": "stderr",
     "output_type": "stream",
     "text": [
      "C:\\Users\\atpha\\AppData\\Local\\Temp\\ipykernel_21116\\657607755.py:51: FutureWarning: The frame.append method is deprecated and will be removed from pandas in a future version. Use pandas.concat instead.\n",
      "  df2 = df2.append({'building id' : building_id, 'fan/heating ratio' : load_heating_annual}, ignore_index = True)\n"
     ]
    },
    {
     "name": "stdout",
     "output_type": "stream",
     "text": [
      "0.14583921075200873 0.40183944220663126\n"
     ]
    },
    {
     "name": "stderr",
     "output_type": "stream",
     "text": [
      "C:\\Users\\atpha\\AppData\\Local\\Temp\\ipykernel_21116\\657607755.py:51: FutureWarning: The frame.append method is deprecated and will be removed from pandas in a future version. Use pandas.concat instead.\n",
      "  df2 = df2.append({'building id' : building_id, 'fan/heating ratio' : load_heating_annual}, ignore_index = True)\n"
     ]
    },
    {
     "name": "stdout",
     "output_type": "stream",
     "text": [
      "0.11383884420877392 0.40157499326406215\n"
     ]
    },
    {
     "name": "stderr",
     "output_type": "stream",
     "text": [
      "C:\\Users\\atpha\\AppData\\Local\\Temp\\ipykernel_21116\\657607755.py:51: FutureWarning: The frame.append method is deprecated and will be removed from pandas in a future version. Use pandas.concat instead.\n",
      "  df2 = df2.append({'building id' : building_id, 'fan/heating ratio' : load_heating_annual}, ignore_index = True)\n"
     ]
    },
    {
     "name": "stdout",
     "output_type": "stream",
     "text": [
      "0.04677603020506395 0.3210063981848685\n"
     ]
    },
    {
     "name": "stderr",
     "output_type": "stream",
     "text": [
      "C:\\Users\\atpha\\AppData\\Local\\Temp\\ipykernel_21116\\657607755.py:51: FutureWarning: The frame.append method is deprecated and will be removed from pandas in a future version. Use pandas.concat instead.\n",
      "  df2 = df2.append({'building id' : building_id, 'fan/heating ratio' : load_heating_annual}, ignore_index = True)\n"
     ]
    },
    {
     "name": "stdout",
     "output_type": "stream",
     "text": [
      "0.0910062780680715 0.39373742867886435\n"
     ]
    },
    {
     "name": "stderr",
     "output_type": "stream",
     "text": [
      "C:\\Users\\atpha\\AppData\\Local\\Temp\\ipykernel_21116\\657607755.py:51: FutureWarning: The frame.append method is deprecated and will be removed from pandas in a future version. Use pandas.concat instead.\n",
      "  df2 = df2.append({'building id' : building_id, 'fan/heating ratio' : load_heating_annual}, ignore_index = True)\n"
     ]
    },
    {
     "name": "stdout",
     "output_type": "stream",
     "text": [
      "0.07878234058001386 0.39689032440336686\n"
     ]
    },
    {
     "name": "stderr",
     "output_type": "stream",
     "text": [
      "C:\\Users\\atpha\\AppData\\Local\\Temp\\ipykernel_21116\\657607755.py:51: FutureWarning: The frame.append method is deprecated and will be removed from pandas in a future version. Use pandas.concat instead.\n",
      "  df2 = df2.append({'building id' : building_id, 'fan/heating ratio' : load_heating_annual}, ignore_index = True)\n"
     ]
    },
    {
     "name": "stdout",
     "output_type": "stream",
     "text": [
      "0.05517376045168885 0.3933909462925293\n"
     ]
    },
    {
     "name": "stderr",
     "output_type": "stream",
     "text": [
      "C:\\Users\\atpha\\AppData\\Local\\Temp\\ipykernel_21116\\657607755.py:51: FutureWarning: The frame.append method is deprecated and will be removed from pandas in a future version. Use pandas.concat instead.\n",
      "  df2 = df2.append({'building id' : building_id, 'fan/heating ratio' : load_heating_annual}, ignore_index = True)\n"
     ]
    },
    {
     "name": "stdout",
     "output_type": "stream",
     "text": [
      "0.09336314646211183 0.39379280817961565\n"
     ]
    },
    {
     "name": "stderr",
     "output_type": "stream",
     "text": [
      "C:\\Users\\atpha\\AppData\\Local\\Temp\\ipykernel_21116\\657607755.py:51: FutureWarning: The frame.append method is deprecated and will be removed from pandas in a future version. Use pandas.concat instead.\n",
      "  df2 = df2.append({'building id' : building_id, 'fan/heating ratio' : load_heating_annual}, ignore_index = True)\n"
     ]
    },
    {
     "name": "stdout",
     "output_type": "stream",
     "text": [
      "0.06433395786513657 0.33996648923597267\n"
     ]
    },
    {
     "name": "stderr",
     "output_type": "stream",
     "text": [
      "C:\\Users\\atpha\\AppData\\Local\\Temp\\ipykernel_21116\\657607755.py:51: FutureWarning: The frame.append method is deprecated and will be removed from pandas in a future version. Use pandas.concat instead.\n",
      "  df2 = df2.append({'building id' : building_id, 'fan/heating ratio' : load_heating_annual}, ignore_index = True)\n"
     ]
    },
    {
     "name": "stdout",
     "output_type": "stream",
     "text": [
      "0.06921344995225286 0.3239240657567358\n"
     ]
    },
    {
     "name": "stderr",
     "output_type": "stream",
     "text": [
      "C:\\Users\\atpha\\AppData\\Local\\Temp\\ipykernel_21116\\657607755.py:51: FutureWarning: The frame.append method is deprecated and will be removed from pandas in a future version. Use pandas.concat instead.\n",
      "  df2 = df2.append({'building id' : building_id, 'fan/heating ratio' : load_heating_annual}, ignore_index = True)\n"
     ]
    },
    {
     "name": "stdout",
     "output_type": "stream",
     "text": [
      "0.06156383813891564 0.3991597336286657\n"
     ]
    },
    {
     "name": "stderr",
     "output_type": "stream",
     "text": [
      "C:\\Users\\atpha\\AppData\\Local\\Temp\\ipykernel_21116\\657607755.py:51: FutureWarning: The frame.append method is deprecated and will be removed from pandas in a future version. Use pandas.concat instead.\n",
      "  df2 = df2.append({'building id' : building_id, 'fan/heating ratio' : load_heating_annual}, ignore_index = True)\n"
     ]
    },
    {
     "name": "stdout",
     "output_type": "stream",
     "text": [
      "0.08317268071192964 0.3299932182997025\n"
     ]
    },
    {
     "name": "stderr",
     "output_type": "stream",
     "text": [
      "C:\\Users\\atpha\\AppData\\Local\\Temp\\ipykernel_21116\\657607755.py:51: FutureWarning: The frame.append method is deprecated and will be removed from pandas in a future version. Use pandas.concat instead.\n",
      "  df2 = df2.append({'building id' : building_id, 'fan/heating ratio' : load_heating_annual}, ignore_index = True)\n"
     ]
    },
    {
     "name": "stdout",
     "output_type": "stream",
     "text": [
      "0.06968088510518972 0.394970305813238\n"
     ]
    },
    {
     "name": "stderr",
     "output_type": "stream",
     "text": [
      "C:\\Users\\atpha\\AppData\\Local\\Temp\\ipykernel_21116\\657607755.py:51: FutureWarning: The frame.append method is deprecated and will be removed from pandas in a future version. Use pandas.concat instead.\n",
      "  df2 = df2.append({'building id' : building_id, 'fan/heating ratio' : load_heating_annual}, ignore_index = True)\n"
     ]
    },
    {
     "name": "stdout",
     "output_type": "stream",
     "text": [
      "0.08255820108669387 0.39684006764982754\n"
     ]
    },
    {
     "name": "stderr",
     "output_type": "stream",
     "text": [
      "C:\\Users\\atpha\\AppData\\Local\\Temp\\ipykernel_21116\\657607755.py:51: FutureWarning: The frame.append method is deprecated and will be removed from pandas in a future version. Use pandas.concat instead.\n",
      "  df2 = df2.append({'building id' : building_id, 'fan/heating ratio' : load_heating_annual}, ignore_index = True)\n"
     ]
    },
    {
     "name": "stdout",
     "output_type": "stream",
     "text": [
      "0.07375543896904536 0.39037157225271746\n"
     ]
    },
    {
     "name": "stderr",
     "output_type": "stream",
     "text": [
      "C:\\Users\\atpha\\AppData\\Local\\Temp\\ipykernel_21116\\657607755.py:51: FutureWarning: The frame.append method is deprecated and will be removed from pandas in a future version. Use pandas.concat instead.\n",
      "  df2 = df2.append({'building id' : building_id, 'fan/heating ratio' : load_heating_annual}, ignore_index = True)\n"
     ]
    },
    {
     "name": "stdout",
     "output_type": "stream",
     "text": [
      "0.1253463713355154 0.40002417170043075\n"
     ]
    },
    {
     "name": "stderr",
     "output_type": "stream",
     "text": [
      "C:\\Users\\atpha\\AppData\\Local\\Temp\\ipykernel_21116\\657607755.py:51: FutureWarning: The frame.append method is deprecated and will be removed from pandas in a future version. Use pandas.concat instead.\n",
      "  df2 = df2.append({'building id' : building_id, 'fan/heating ratio' : load_heating_annual}, ignore_index = True)\n"
     ]
    },
    {
     "name": "stdout",
     "output_type": "stream",
     "text": [
      "0.0773628694488066 0.39602863738848604\n"
     ]
    },
    {
     "name": "stderr",
     "output_type": "stream",
     "text": [
      "C:\\Users\\atpha\\AppData\\Local\\Temp\\ipykernel_21116\\657607755.py:51: FutureWarning: The frame.append method is deprecated and will be removed from pandas in a future version. Use pandas.concat instead.\n",
      "  df2 = df2.append({'building id' : building_id, 'fan/heating ratio' : load_heating_annual}, ignore_index = True)\n"
     ]
    },
    {
     "name": "stdout",
     "output_type": "stream",
     "text": [
      "0.055542798615942704 0.3325016473750867\n"
     ]
    },
    {
     "name": "stderr",
     "output_type": "stream",
     "text": [
      "C:\\Users\\atpha\\AppData\\Local\\Temp\\ipykernel_21116\\657607755.py:51: FutureWarning: The frame.append method is deprecated and will be removed from pandas in a future version. Use pandas.concat instead.\n",
      "  df2 = df2.append({'building id' : building_id, 'fan/heating ratio' : load_heating_annual}, ignore_index = True)\n"
     ]
    },
    {
     "name": "stdout",
     "output_type": "stream",
     "text": [
      "0.06618380650005834 0.3873406321227857\n"
     ]
    },
    {
     "name": "stderr",
     "output_type": "stream",
     "text": [
      "C:\\Users\\atpha\\AppData\\Local\\Temp\\ipykernel_21116\\657607755.py:51: FutureWarning: The frame.append method is deprecated and will be removed from pandas in a future version. Use pandas.concat instead.\n",
      "  df2 = df2.append({'building id' : building_id, 'fan/heating ratio' : load_heating_annual}, ignore_index = True)\n"
     ]
    },
    {
     "name": "stdout",
     "output_type": "stream",
     "text": [
      "0.10065782672410531 0.3992804669066839\n"
     ]
    },
    {
     "name": "stderr",
     "output_type": "stream",
     "text": [
      "C:\\Users\\atpha\\AppData\\Local\\Temp\\ipykernel_21116\\657607755.py:51: FutureWarning: The frame.append method is deprecated and will be removed from pandas in a future version. Use pandas.concat instead.\n",
      "  df2 = df2.append({'building id' : building_id, 'fan/heating ratio' : load_heating_annual}, ignore_index = True)\n"
     ]
    },
    {
     "name": "stdout",
     "output_type": "stream",
     "text": [
      "0.09148081127211852 0.399996463733584\n"
     ]
    },
    {
     "name": "stderr",
     "output_type": "stream",
     "text": [
      "C:\\Users\\atpha\\AppData\\Local\\Temp\\ipykernel_21116\\657607755.py:51: FutureWarning: The frame.append method is deprecated and will be removed from pandas in a future version. Use pandas.concat instead.\n",
      "  df2 = df2.append({'building id' : building_id, 'fan/heating ratio' : load_heating_annual}, ignore_index = True)\n"
     ]
    },
    {
     "name": "stdout",
     "output_type": "stream",
     "text": [
      "0.07680232501124734 0.39286502228538495\n"
     ]
    },
    {
     "name": "stderr",
     "output_type": "stream",
     "text": [
      "C:\\Users\\atpha\\AppData\\Local\\Temp\\ipykernel_21116\\657607755.py:51: FutureWarning: The frame.append method is deprecated and will be removed from pandas in a future version. Use pandas.concat instead.\n",
      "  df2 = df2.append({'building id' : building_id, 'fan/heating ratio' : load_heating_annual}, ignore_index = True)\n"
     ]
    },
    {
     "name": "stdout",
     "output_type": "stream",
     "text": [
      "0.07895241181494357 0.399291198755302\n"
     ]
    },
    {
     "name": "stderr",
     "output_type": "stream",
     "text": [
      "C:\\Users\\atpha\\AppData\\Local\\Temp\\ipykernel_21116\\657607755.py:51: FutureWarning: The frame.append method is deprecated and will be removed from pandas in a future version. Use pandas.concat instead.\n",
      "  df2 = df2.append({'building id' : building_id, 'fan/heating ratio' : load_heating_annual}, ignore_index = True)\n"
     ]
    },
    {
     "name": "stdout",
     "output_type": "stream",
     "text": [
      "0.07982374413075308 0.39318069066430555\n"
     ]
    },
    {
     "name": "stderr",
     "output_type": "stream",
     "text": [
      "C:\\Users\\atpha\\AppData\\Local\\Temp\\ipykernel_21116\\657607755.py:51: FutureWarning: The frame.append method is deprecated and will be removed from pandas in a future version. Use pandas.concat instead.\n",
      "  df2 = df2.append({'building id' : building_id, 'fan/heating ratio' : load_heating_annual}, ignore_index = True)\n"
     ]
    },
    {
     "name": "stdout",
     "output_type": "stream",
     "text": [
      "0.1371584209274038 0.3891083851840285\n"
     ]
    },
    {
     "name": "stderr",
     "output_type": "stream",
     "text": [
      "C:\\Users\\atpha\\AppData\\Local\\Temp\\ipykernel_21116\\657607755.py:51: FutureWarning: The frame.append method is deprecated and will be removed from pandas in a future version. Use pandas.concat instead.\n",
      "  df2 = df2.append({'building id' : building_id, 'fan/heating ratio' : load_heating_annual}, ignore_index = True)\n"
     ]
    },
    {
     "name": "stdout",
     "output_type": "stream",
     "text": [
      "0.07345733846699193 0.39344594852454234\n"
     ]
    },
    {
     "name": "stderr",
     "output_type": "stream",
     "text": [
      "C:\\Users\\atpha\\AppData\\Local\\Temp\\ipykernel_21116\\657607755.py:51: FutureWarning: The frame.append method is deprecated and will be removed from pandas in a future version. Use pandas.concat instead.\n",
      "  df2 = df2.append({'building id' : building_id, 'fan/heating ratio' : load_heating_annual}, ignore_index = True)\n"
     ]
    },
    {
     "name": "stdout",
     "output_type": "stream",
     "text": [
      "0.08039858785517642 0.36669745148223337\n"
     ]
    },
    {
     "name": "stderr",
     "output_type": "stream",
     "text": [
      "C:\\Users\\atpha\\AppData\\Local\\Temp\\ipykernel_21116\\657607755.py:51: FutureWarning: The frame.append method is deprecated and will be removed from pandas in a future version. Use pandas.concat instead.\n",
      "  df2 = df2.append({'building id' : building_id, 'fan/heating ratio' : load_heating_annual}, ignore_index = True)\n"
     ]
    },
    {
     "name": "stdout",
     "output_type": "stream",
     "text": [
      "0.07028871866178689 0.39695251453899816\n"
     ]
    },
    {
     "name": "stderr",
     "output_type": "stream",
     "text": [
      "C:\\Users\\atpha\\AppData\\Local\\Temp\\ipykernel_21116\\657607755.py:51: FutureWarning: The frame.append method is deprecated and will be removed from pandas in a future version. Use pandas.concat instead.\n",
      "  df2 = df2.append({'building id' : building_id, 'fan/heating ratio' : load_heating_annual}, ignore_index = True)\n"
     ]
    },
    {
     "name": "stdout",
     "output_type": "stream",
     "text": [
      "0.0696440546471508 0.3816034047030019\n"
     ]
    },
    {
     "name": "stderr",
     "output_type": "stream",
     "text": [
      "C:\\Users\\atpha\\AppData\\Local\\Temp\\ipykernel_21116\\657607755.py:51: FutureWarning: The frame.append method is deprecated and will be removed from pandas in a future version. Use pandas.concat instead.\n",
      "  df2 = df2.append({'building id' : building_id, 'fan/heating ratio' : load_heating_annual}, ignore_index = True)\n"
     ]
    },
    {
     "name": "stdout",
     "output_type": "stream",
     "text": [
      "0.1194859801711318 0.3982750088143698\n"
     ]
    },
    {
     "name": "stderr",
     "output_type": "stream",
     "text": [
      "C:\\Users\\atpha\\AppData\\Local\\Temp\\ipykernel_21116\\657607755.py:51: FutureWarning: The frame.append method is deprecated and will be removed from pandas in a future version. Use pandas.concat instead.\n",
      "  df2 = df2.append({'building id' : building_id, 'fan/heating ratio' : load_heating_annual}, ignore_index = True)\n"
     ]
    },
    {
     "name": "stdout",
     "output_type": "stream",
     "text": [
      "0.08749574975116638 0.3961066647865532\n"
     ]
    },
    {
     "name": "stderr",
     "output_type": "stream",
     "text": [
      "C:\\Users\\atpha\\AppData\\Local\\Temp\\ipykernel_21116\\657607755.py:51: FutureWarning: The frame.append method is deprecated and will be removed from pandas in a future version. Use pandas.concat instead.\n",
      "  df2 = df2.append({'building id' : building_id, 'fan/heating ratio' : load_heating_annual}, ignore_index = True)\n"
     ]
    },
    {
     "name": "stdout",
     "output_type": "stream",
     "text": [
      "0.07729452696951926 0.39709777511287575\n"
     ]
    },
    {
     "name": "stderr",
     "output_type": "stream",
     "text": [
      "C:\\Users\\atpha\\AppData\\Local\\Temp\\ipykernel_21116\\657607755.py:51: FutureWarning: The frame.append method is deprecated and will be removed from pandas in a future version. Use pandas.concat instead.\n",
      "  df2 = df2.append({'building id' : building_id, 'fan/heating ratio' : load_heating_annual}, ignore_index = True)\n"
     ]
    },
    {
     "name": "stdout",
     "output_type": "stream",
     "text": [
      "0.06990724249807054 0.32867925002738124\n"
     ]
    },
    {
     "name": "stderr",
     "output_type": "stream",
     "text": [
      "C:\\Users\\atpha\\AppData\\Local\\Temp\\ipykernel_21116\\657607755.py:51: FutureWarning: The frame.append method is deprecated and will be removed from pandas in a future version. Use pandas.concat instead.\n",
      "  df2 = df2.append({'building id' : building_id, 'fan/heating ratio' : load_heating_annual}, ignore_index = True)\n"
     ]
    },
    {
     "name": "stdout",
     "output_type": "stream",
     "text": [
      "0.08274887790555299 0.39635792119287483\n",
      "0.08422571682195629 0.39660482760232096\n"
     ]
    },
    {
     "name": "stderr",
     "output_type": "stream",
     "text": [
      "C:\\Users\\atpha\\AppData\\Local\\Temp\\ipykernel_21116\\657607755.py:51: FutureWarning: The frame.append method is deprecated and will be removed from pandas in a future version. Use pandas.concat instead.\n",
      "  df2 = df2.append({'building id' : building_id, 'fan/heating ratio' : load_heating_annual}, ignore_index = True)\n",
      "C:\\Users\\atpha\\AppData\\Local\\Temp\\ipykernel_21116\\657607755.py:51: FutureWarning: The frame.append method is deprecated and will be removed from pandas in a future version. Use pandas.concat instead.\n",
      "  df2 = df2.append({'building id' : building_id, 'fan/heating ratio' : load_heating_annual}, ignore_index = True)\n"
     ]
    },
    {
     "name": "stdout",
     "output_type": "stream",
     "text": [
      "0.06428852249647186 0.3480010697460163\n",
      "0.07202406895625521 0.339958510133877\n"
     ]
    },
    {
     "name": "stderr",
     "output_type": "stream",
     "text": [
      "C:\\Users\\atpha\\AppData\\Local\\Temp\\ipykernel_21116\\657607755.py:51: FutureWarning: The frame.append method is deprecated and will be removed from pandas in a future version. Use pandas.concat instead.\n",
      "  df2 = df2.append({'building id' : building_id, 'fan/heating ratio' : load_heating_annual}, ignore_index = True)\n",
      "C:\\Users\\atpha\\AppData\\Local\\Temp\\ipykernel_21116\\657607755.py:51: FutureWarning: The frame.append method is deprecated and will be removed from pandas in a future version. Use pandas.concat instead.\n",
      "  df2 = df2.append({'building id' : building_id, 'fan/heating ratio' : load_heating_annual}, ignore_index = True)\n"
     ]
    },
    {
     "name": "stdout",
     "output_type": "stream",
     "text": [
      "0.09200646132147136 0.3960078645688971\n",
      "0.07299183443144469 0.39169358593727815\n"
     ]
    },
    {
     "name": "stderr",
     "output_type": "stream",
     "text": [
      "C:\\Users\\atpha\\AppData\\Local\\Temp\\ipykernel_21116\\657607755.py:51: FutureWarning: The frame.append method is deprecated and will be removed from pandas in a future version. Use pandas.concat instead.\n",
      "  df2 = df2.append({'building id' : building_id, 'fan/heating ratio' : load_heating_annual}, ignore_index = True)\n",
      "C:\\Users\\atpha\\AppData\\Local\\Temp\\ipykernel_21116\\657607755.py:51: FutureWarning: The frame.append method is deprecated and will be removed from pandas in a future version. Use pandas.concat instead.\n",
      "  df2 = df2.append({'building id' : building_id, 'fan/heating ratio' : load_heating_annual}, ignore_index = True)\n"
     ]
    },
    {
     "name": "stdout",
     "output_type": "stream",
     "text": [
      "0.06341076221039188 0.32247819159207625\n",
      "0.06378628282143702 0.3951696184713141\n"
     ]
    },
    {
     "name": "stderr",
     "output_type": "stream",
     "text": [
      "C:\\Users\\atpha\\AppData\\Local\\Temp\\ipykernel_21116\\657607755.py:51: FutureWarning: The frame.append method is deprecated and will be removed from pandas in a future version. Use pandas.concat instead.\n",
      "  df2 = df2.append({'building id' : building_id, 'fan/heating ratio' : load_heating_annual}, ignore_index = True)\n",
      "C:\\Users\\atpha\\AppData\\Local\\Temp\\ipykernel_21116\\657607755.py:51: FutureWarning: The frame.append method is deprecated and will be removed from pandas in a future version. Use pandas.concat instead.\n",
      "  df2 = df2.append({'building id' : building_id, 'fan/heating ratio' : load_heating_annual}, ignore_index = True)\n"
     ]
    },
    {
     "name": "stdout",
     "output_type": "stream",
     "text": [
      "0.11192209688803982 0.4018266191721014\n",
      "0.06057626367813737 0.34619426278628024\n"
     ]
    },
    {
     "name": "stderr",
     "output_type": "stream",
     "text": [
      "C:\\Users\\atpha\\AppData\\Local\\Temp\\ipykernel_21116\\657607755.py:51: FutureWarning: The frame.append method is deprecated and will be removed from pandas in a future version. Use pandas.concat instead.\n",
      "  df2 = df2.append({'building id' : building_id, 'fan/heating ratio' : load_heating_annual}, ignore_index = True)\n",
      "C:\\Users\\atpha\\AppData\\Local\\Temp\\ipykernel_21116\\657607755.py:51: FutureWarning: The frame.append method is deprecated and will be removed from pandas in a future version. Use pandas.concat instead.\n",
      "  df2 = df2.append({'building id' : building_id, 'fan/heating ratio' : load_heating_annual}, ignore_index = True)\n"
     ]
    },
    {
     "name": "stdout",
     "output_type": "stream",
     "text": [
      "0.10799458208510047 0.36912700240332846\n",
      "0.12317764667629867 0.40080115599506366\n"
     ]
    },
    {
     "name": "stderr",
     "output_type": "stream",
     "text": [
      "C:\\Users\\atpha\\AppData\\Local\\Temp\\ipykernel_21116\\657607755.py:51: FutureWarning: The frame.append method is deprecated and will be removed from pandas in a future version. Use pandas.concat instead.\n",
      "  df2 = df2.append({'building id' : building_id, 'fan/heating ratio' : load_heating_annual}, ignore_index = True)\n",
      "C:\\Users\\atpha\\AppData\\Local\\Temp\\ipykernel_21116\\657607755.py:51: FutureWarning: The frame.append method is deprecated and will be removed from pandas in a future version. Use pandas.concat instead.\n",
      "  df2 = df2.append({'building id' : building_id, 'fan/heating ratio' : load_heating_annual}, ignore_index = True)\n"
     ]
    },
    {
     "name": "stdout",
     "output_type": "stream",
     "text": [
      "0.0997344733502692 0.39914687684919264\n",
      "0.078638373073982 0.39617775938294697\n"
     ]
    },
    {
     "name": "stderr",
     "output_type": "stream",
     "text": [
      "C:\\Users\\atpha\\AppData\\Local\\Temp\\ipykernel_21116\\657607755.py:51: FutureWarning: The frame.append method is deprecated and will be removed from pandas in a future version. Use pandas.concat instead.\n",
      "  df2 = df2.append({'building id' : building_id, 'fan/heating ratio' : load_heating_annual}, ignore_index = True)\n",
      "C:\\Users\\atpha\\AppData\\Local\\Temp\\ipykernel_21116\\657607755.py:51: FutureWarning: The frame.append method is deprecated and will be removed from pandas in a future version. Use pandas.concat instead.\n",
      "  df2 = df2.append({'building id' : building_id, 'fan/heating ratio' : load_heating_annual}, ignore_index = True)\n"
     ]
    },
    {
     "name": "stdout",
     "output_type": "stream",
     "text": [
      "0.08092469392551149 0.3931440758093387\n",
      "0.08221477462133914 0.396812122115081\n"
     ]
    },
    {
     "name": "stderr",
     "output_type": "stream",
     "text": [
      "C:\\Users\\atpha\\AppData\\Local\\Temp\\ipykernel_21116\\657607755.py:51: FutureWarning: The frame.append method is deprecated and will be removed from pandas in a future version. Use pandas.concat instead.\n",
      "  df2 = df2.append({'building id' : building_id, 'fan/heating ratio' : load_heating_annual}, ignore_index = True)\n",
      "C:\\Users\\atpha\\AppData\\Local\\Temp\\ipykernel_21116\\657607755.py:51: FutureWarning: The frame.append method is deprecated and will be removed from pandas in a future version. Use pandas.concat instead.\n",
      "  df2 = df2.append({'building id' : building_id, 'fan/heating ratio' : load_heating_annual}, ignore_index = True)\n"
     ]
    },
    {
     "name": "stdout",
     "output_type": "stream",
     "text": [
      "0.12333894230775579 0.402445899577434\n",
      "0.09365292971153205 0.40078399381262614\n"
     ]
    },
    {
     "name": "stderr",
     "output_type": "stream",
     "text": [
      "C:\\Users\\atpha\\AppData\\Local\\Temp\\ipykernel_21116\\657607755.py:51: FutureWarning: The frame.append method is deprecated and will be removed from pandas in a future version. Use pandas.concat instead.\n",
      "  df2 = df2.append({'building id' : building_id, 'fan/heating ratio' : load_heating_annual}, ignore_index = True)\n",
      "C:\\Users\\atpha\\AppData\\Local\\Temp\\ipykernel_21116\\657607755.py:51: FutureWarning: The frame.append method is deprecated and will be removed from pandas in a future version. Use pandas.concat instead.\n",
      "  df2 = df2.append({'building id' : building_id, 'fan/heating ratio' : load_heating_annual}, ignore_index = True)\n"
     ]
    },
    {
     "name": "stdout",
     "output_type": "stream",
     "text": [
      "0.07442727983509512 0.3920559491133001\n",
      "0.09406876403106665 0.39493447997908204\n"
     ]
    },
    {
     "name": "stderr",
     "output_type": "stream",
     "text": [
      "C:\\Users\\atpha\\AppData\\Local\\Temp\\ipykernel_21116\\657607755.py:51: FutureWarning: The frame.append method is deprecated and will be removed from pandas in a future version. Use pandas.concat instead.\n",
      "  df2 = df2.append({'building id' : building_id, 'fan/heating ratio' : load_heating_annual}, ignore_index = True)\n",
      "C:\\Users\\atpha\\AppData\\Local\\Temp\\ipykernel_21116\\657607755.py:51: FutureWarning: The frame.append method is deprecated and will be removed from pandas in a future version. Use pandas.concat instead.\n",
      "  df2 = df2.append({'building id' : building_id, 'fan/heating ratio' : load_heating_annual}, ignore_index = True)\n"
     ]
    },
    {
     "name": "stdout",
     "output_type": "stream",
     "text": [
      "0.08634266982066102 0.3989164144799433\n",
      "0.058289724338143056 0.34733854594211583\n"
     ]
    },
    {
     "name": "stderr",
     "output_type": "stream",
     "text": [
      "C:\\Users\\atpha\\AppData\\Local\\Temp\\ipykernel_21116\\657607755.py:51: FutureWarning: The frame.append method is deprecated and will be removed from pandas in a future version. Use pandas.concat instead.\n",
      "  df2 = df2.append({'building id' : building_id, 'fan/heating ratio' : load_heating_annual}, ignore_index = True)\n",
      "C:\\Users\\atpha\\AppData\\Local\\Temp\\ipykernel_21116\\657607755.py:51: FutureWarning: The frame.append method is deprecated and will be removed from pandas in a future version. Use pandas.concat instead.\n",
      "  df2 = df2.append({'building id' : building_id, 'fan/heating ratio' : load_heating_annual}, ignore_index = True)\n"
     ]
    },
    {
     "name": "stdout",
     "output_type": "stream",
     "text": [
      "0.08275311851253707 0.3966224667135972\n"
     ]
    },
    {
     "name": "stderr",
     "output_type": "stream",
     "text": [
      "C:\\Users\\atpha\\AppData\\Local\\Temp\\ipykernel_21116\\657607755.py:51: FutureWarning: The frame.append method is deprecated and will be removed from pandas in a future version. Use pandas.concat instead.\n",
      "  df2 = df2.append({'building id' : building_id, 'fan/heating ratio' : load_heating_annual}, ignore_index = True)\n"
     ]
    },
    {
     "name": "stdout",
     "output_type": "stream",
     "text": [
      "0.07105058288393407 0.3243366896829712\n"
     ]
    },
    {
     "name": "stderr",
     "output_type": "stream",
     "text": [
      "C:\\Users\\atpha\\AppData\\Local\\Temp\\ipykernel_21116\\657607755.py:51: FutureWarning: The frame.append method is deprecated and will be removed from pandas in a future version. Use pandas.concat instead.\n",
      "  df2 = df2.append({'building id' : building_id, 'fan/heating ratio' : load_heating_annual}, ignore_index = True)\n"
     ]
    },
    {
     "name": "stdout",
     "output_type": "stream",
     "text": [
      "0.0803107494577876 0.39202283850317604\n",
      "0.09057850765195953 0.4021180927174669\n"
     ]
    },
    {
     "name": "stderr",
     "output_type": "stream",
     "text": [
      "C:\\Users\\atpha\\AppData\\Local\\Temp\\ipykernel_21116\\657607755.py:51: FutureWarning: The frame.append method is deprecated and will be removed from pandas in a future version. Use pandas.concat instead.\n",
      "  df2 = df2.append({'building id' : building_id, 'fan/heating ratio' : load_heating_annual}, ignore_index = True)\n",
      "C:\\Users\\atpha\\AppData\\Local\\Temp\\ipykernel_21116\\657607755.py:51: FutureWarning: The frame.append method is deprecated and will be removed from pandas in a future version. Use pandas.concat instead.\n",
      "  df2 = df2.append({'building id' : building_id, 'fan/heating ratio' : load_heating_annual}, ignore_index = True)\n"
     ]
    },
    {
     "name": "stdout",
     "output_type": "stream",
     "text": [
      "0.06165066610404954 0.38421931943053855\n",
      "0.062918079404232 0.3518563006915388\n"
     ]
    },
    {
     "name": "stderr",
     "output_type": "stream",
     "text": [
      "C:\\Users\\atpha\\AppData\\Local\\Temp\\ipykernel_21116\\657607755.py:51: FutureWarning: The frame.append method is deprecated and will be removed from pandas in a future version. Use pandas.concat instead.\n",
      "  df2 = df2.append({'building id' : building_id, 'fan/heating ratio' : load_heating_annual}, ignore_index = True)\n",
      "C:\\Users\\atpha\\AppData\\Local\\Temp\\ipykernel_21116\\657607755.py:51: FutureWarning: The frame.append method is deprecated and will be removed from pandas in a future version. Use pandas.concat instead.\n",
      "  df2 = df2.append({'building id' : building_id, 'fan/heating ratio' : load_heating_annual}, ignore_index = True)\n"
     ]
    },
    {
     "name": "stdout",
     "output_type": "stream",
     "text": [
      "0.0823513863713628 0.3986533050358671\n"
     ]
    },
    {
     "name": "stderr",
     "output_type": "stream",
     "text": [
      "C:\\Users\\atpha\\AppData\\Local\\Temp\\ipykernel_21116\\657607755.py:51: FutureWarning: The frame.append method is deprecated and will be removed from pandas in a future version. Use pandas.concat instead.\n",
      "  df2 = df2.append({'building id' : building_id, 'fan/heating ratio' : load_heating_annual}, ignore_index = True)\n"
     ]
    },
    {
     "name": "stdout",
     "output_type": "stream",
     "text": [
      "0.07656141461545062 0.39648420638689064\n"
     ]
    },
    {
     "name": "stderr",
     "output_type": "stream",
     "text": [
      "C:\\Users\\atpha\\AppData\\Local\\Temp\\ipykernel_21116\\657607755.py:51: FutureWarning: The frame.append method is deprecated and will be removed from pandas in a future version. Use pandas.concat instead.\n",
      "  df2 = df2.append({'building id' : building_id, 'fan/heating ratio' : load_heating_annual}, ignore_index = True)\n",
      "C:\\Users\\atpha\\AppData\\Local\\Temp\\ipykernel_21116\\657607755.py:51: FutureWarning: The frame.append method is deprecated and will be removed from pandas in a future version. Use pandas.concat instead.\n",
      "  df2 = df2.append({'building id' : building_id, 'fan/heating ratio' : load_heating_annual}, ignore_index = True)\n"
     ]
    },
    {
     "name": "stdout",
     "output_type": "stream",
     "text": [
      "0.0752914149318417 0.3925801445913376\n",
      "0.0615471656400291 0.32227996492696376\n"
     ]
    },
    {
     "name": "stderr",
     "output_type": "stream",
     "text": [
      "C:\\Users\\atpha\\AppData\\Local\\Temp\\ipykernel_21116\\657607755.py:51: FutureWarning: The frame.append method is deprecated and will be removed from pandas in a future version. Use pandas.concat instead.\n",
      "  df2 = df2.append({'building id' : building_id, 'fan/heating ratio' : load_heating_annual}, ignore_index = True)\n"
     ]
    },
    {
     "name": "stdout",
     "output_type": "stream",
     "text": [
      "0.05277345438033146 0.3252000658889454\n"
     ]
    },
    {
     "name": "stderr",
     "output_type": "stream",
     "text": [
      "C:\\Users\\atpha\\AppData\\Local\\Temp\\ipykernel_21116\\657607755.py:51: FutureWarning: The frame.append method is deprecated and will be removed from pandas in a future version. Use pandas.concat instead.\n",
      "  df2 = df2.append({'building id' : building_id, 'fan/heating ratio' : load_heating_annual}, ignore_index = True)\n"
     ]
    },
    {
     "name": "stdout",
     "output_type": "stream",
     "text": [
      "0.07782477527147935 0.3956544170982278\n"
     ]
    },
    {
     "name": "stderr",
     "output_type": "stream",
     "text": [
      "C:\\Users\\atpha\\AppData\\Local\\Temp\\ipykernel_21116\\657607755.py:51: FutureWarning: The frame.append method is deprecated and will be removed from pandas in a future version. Use pandas.concat instead.\n",
      "  df2 = df2.append({'building id' : building_id, 'fan/heating ratio' : load_heating_annual}, ignore_index = True)\n"
     ]
    },
    {
     "name": "stdout",
     "output_type": "stream",
     "text": [
      "0.061692647741341235 0.393196027790862\n"
     ]
    },
    {
     "name": "stderr",
     "output_type": "stream",
     "text": [
      "C:\\Users\\atpha\\AppData\\Local\\Temp\\ipykernel_21116\\657607755.py:51: FutureWarning: The frame.append method is deprecated and will be removed from pandas in a future version. Use pandas.concat instead.\n",
      "  df2 = df2.append({'building id' : building_id, 'fan/heating ratio' : load_heating_annual}, ignore_index = True)\n"
     ]
    },
    {
     "name": "stdout",
     "output_type": "stream",
     "text": [
      "0.06030130064495964 0.36712898463644955\n"
     ]
    },
    {
     "name": "stderr",
     "output_type": "stream",
     "text": [
      "C:\\Users\\atpha\\AppData\\Local\\Temp\\ipykernel_21116\\657607755.py:51: FutureWarning: The frame.append method is deprecated and will be removed from pandas in a future version. Use pandas.concat instead.\n",
      "  df2 = df2.append({'building id' : building_id, 'fan/heating ratio' : load_heating_annual}, ignore_index = True)\n"
     ]
    },
    {
     "name": "stdout",
     "output_type": "stream",
     "text": [
      "0.061769053013365896 0.3954939018139525\n"
     ]
    },
    {
     "name": "stderr",
     "output_type": "stream",
     "text": [
      "C:\\Users\\atpha\\AppData\\Local\\Temp\\ipykernel_21116\\657607755.py:51: FutureWarning: The frame.append method is deprecated and will be removed from pandas in a future version. Use pandas.concat instead.\n",
      "  df2 = df2.append({'building id' : building_id, 'fan/heating ratio' : load_heating_annual}, ignore_index = True)\n"
     ]
    },
    {
     "name": "stdout",
     "output_type": "stream",
     "text": [
      "0.050236646571821315 0.3270566169678083\n"
     ]
    },
    {
     "name": "stderr",
     "output_type": "stream",
     "text": [
      "C:\\Users\\atpha\\AppData\\Local\\Temp\\ipykernel_21116\\657607755.py:51: FutureWarning: The frame.append method is deprecated and will be removed from pandas in a future version. Use pandas.concat instead.\n",
      "  df2 = df2.append({'building id' : building_id, 'fan/heating ratio' : load_heating_annual}, ignore_index = True)\n"
     ]
    },
    {
     "name": "stdout",
     "output_type": "stream",
     "text": [
      "0.08022158863677521 0.393721488258832\n"
     ]
    },
    {
     "name": "stderr",
     "output_type": "stream",
     "text": [
      "C:\\Users\\atpha\\AppData\\Local\\Temp\\ipykernel_21116\\657607755.py:51: FutureWarning: The frame.append method is deprecated and will be removed from pandas in a future version. Use pandas.concat instead.\n",
      "  df2 = df2.append({'building id' : building_id, 'fan/heating ratio' : load_heating_annual}, ignore_index = True)\n"
     ]
    },
    {
     "name": "stdout",
     "output_type": "stream",
     "text": [
      "0.10596245706162198 0.3965841976583656\n"
     ]
    },
    {
     "name": "stderr",
     "output_type": "stream",
     "text": [
      "C:\\Users\\atpha\\AppData\\Local\\Temp\\ipykernel_21116\\657607755.py:51: FutureWarning: The frame.append method is deprecated and will be removed from pandas in a future version. Use pandas.concat instead.\n",
      "  df2 = df2.append({'building id' : building_id, 'fan/heating ratio' : load_heating_annual}, ignore_index = True)\n"
     ]
    },
    {
     "name": "stdout",
     "output_type": "stream",
     "text": [
      "0.09440033742816967 0.4000461803009852\n"
     ]
    },
    {
     "name": "stderr",
     "output_type": "stream",
     "text": [
      "C:\\Users\\atpha\\AppData\\Local\\Temp\\ipykernel_21116\\657607755.py:51: FutureWarning: The frame.append method is deprecated and will be removed from pandas in a future version. Use pandas.concat instead.\n",
      "  df2 = df2.append({'building id' : building_id, 'fan/heating ratio' : load_heating_annual}, ignore_index = True)\n"
     ]
    },
    {
     "name": "stdout",
     "output_type": "stream",
     "text": [
      "0.046166127659616155 0.32535215814641444\n"
     ]
    },
    {
     "name": "stderr",
     "output_type": "stream",
     "text": [
      "C:\\Users\\atpha\\AppData\\Local\\Temp\\ipykernel_21116\\657607755.py:51: FutureWarning: The frame.append method is deprecated and will be removed from pandas in a future version. Use pandas.concat instead.\n",
      "  df2 = df2.append({'building id' : building_id, 'fan/heating ratio' : load_heating_annual}, ignore_index = True)\n"
     ]
    },
    {
     "name": "stdout",
     "output_type": "stream",
     "text": [
      "0.06494806945759549 0.3296752662728904\n"
     ]
    },
    {
     "name": "stderr",
     "output_type": "stream",
     "text": [
      "C:\\Users\\atpha\\AppData\\Local\\Temp\\ipykernel_21116\\657607755.py:51: FutureWarning: The frame.append method is deprecated and will be removed from pandas in a future version. Use pandas.concat instead.\n",
      "  df2 = df2.append({'building id' : building_id, 'fan/heating ratio' : load_heating_annual}, ignore_index = True)\n"
     ]
    },
    {
     "name": "stdout",
     "output_type": "stream",
     "text": [
      "0.05268682498428471 0.32148043513532104\n"
     ]
    },
    {
     "name": "stderr",
     "output_type": "stream",
     "text": [
      "C:\\Users\\atpha\\AppData\\Local\\Temp\\ipykernel_21116\\657607755.py:51: FutureWarning: The frame.append method is deprecated and will be removed from pandas in a future version. Use pandas.concat instead.\n",
      "  df2 = df2.append({'building id' : building_id, 'fan/heating ratio' : load_heating_annual}, ignore_index = True)\n"
     ]
    },
    {
     "name": "stdout",
     "output_type": "stream",
     "text": [
      "0.06965538923757626 0.38852837848885724\n"
     ]
    },
    {
     "name": "stderr",
     "output_type": "stream",
     "text": [
      "C:\\Users\\atpha\\AppData\\Local\\Temp\\ipykernel_21116\\657607755.py:51: FutureWarning: The frame.append method is deprecated and will be removed from pandas in a future version. Use pandas.concat instead.\n",
      "  df2 = df2.append({'building id' : building_id, 'fan/heating ratio' : load_heating_annual}, ignore_index = True)\n"
     ]
    },
    {
     "name": "stdout",
     "output_type": "stream",
     "text": [
      "0.05049870969138783 0.32737253501495783\n"
     ]
    },
    {
     "name": "stderr",
     "output_type": "stream",
     "text": [
      "C:\\Users\\atpha\\AppData\\Local\\Temp\\ipykernel_21116\\657607755.py:51: FutureWarning: The frame.append method is deprecated and will be removed from pandas in a future version. Use pandas.concat instead.\n",
      "  df2 = df2.append({'building id' : building_id, 'fan/heating ratio' : load_heating_annual}, ignore_index = True)\n"
     ]
    },
    {
     "name": "stdout",
     "output_type": "stream",
     "text": [
      "0.0657725815391697 0.3947922572707697\n"
     ]
    },
    {
     "name": "stderr",
     "output_type": "stream",
     "text": [
      "C:\\Users\\atpha\\AppData\\Local\\Temp\\ipykernel_21116\\657607755.py:51: FutureWarning: The frame.append method is deprecated and will be removed from pandas in a future version. Use pandas.concat instead.\n",
      "  df2 = df2.append({'building id' : building_id, 'fan/heating ratio' : load_heating_annual}, ignore_index = True)\n"
     ]
    },
    {
     "name": "stdout",
     "output_type": "stream",
     "text": [
      "0.09003666049104786 0.396099858385606\n"
     ]
    },
    {
     "name": "stderr",
     "output_type": "stream",
     "text": [
      "C:\\Users\\atpha\\AppData\\Local\\Temp\\ipykernel_21116\\657607755.py:51: FutureWarning: The frame.append method is deprecated and will be removed from pandas in a future version. Use pandas.concat instead.\n",
      "  df2 = df2.append({'building id' : building_id, 'fan/heating ratio' : load_heating_annual}, ignore_index = True)\n"
     ]
    },
    {
     "name": "stdout",
     "output_type": "stream",
     "text": [
      "0.08925087766977678 0.39745907496227506\n"
     ]
    },
    {
     "name": "stderr",
     "output_type": "stream",
     "text": [
      "C:\\Users\\atpha\\AppData\\Local\\Temp\\ipykernel_21116\\657607755.py:51: FutureWarning: The frame.append method is deprecated and will be removed from pandas in a future version. Use pandas.concat instead.\n",
      "  df2 = df2.append({'building id' : building_id, 'fan/heating ratio' : load_heating_annual}, ignore_index = True)\n"
     ]
    },
    {
     "name": "stdout",
     "output_type": "stream",
     "text": [
      "0.11088279018427659 0.40298291802601316\n"
     ]
    },
    {
     "name": "stderr",
     "output_type": "stream",
     "text": [
      "C:\\Users\\atpha\\AppData\\Local\\Temp\\ipykernel_21116\\657607755.py:51: FutureWarning: The frame.append method is deprecated and will be removed from pandas in a future version. Use pandas.concat instead.\n",
      "  df2 = df2.append({'building id' : building_id, 'fan/heating ratio' : load_heating_annual}, ignore_index = True)\n"
     ]
    },
    {
     "name": "stdout",
     "output_type": "stream",
     "text": [
      "0.052923906207810976 0.3915670606865862\n"
     ]
    },
    {
     "name": "stderr",
     "output_type": "stream",
     "text": [
      "C:\\Users\\atpha\\AppData\\Local\\Temp\\ipykernel_21116\\657607755.py:51: FutureWarning: The frame.append method is deprecated and will be removed from pandas in a future version. Use pandas.concat instead.\n",
      "  df2 = df2.append({'building id' : building_id, 'fan/heating ratio' : load_heating_annual}, ignore_index = True)\n"
     ]
    },
    {
     "name": "stdout",
     "output_type": "stream",
     "text": [
      "0.07777231051716872 0.39527958039179184\n"
     ]
    },
    {
     "name": "stderr",
     "output_type": "stream",
     "text": [
      "C:\\Users\\atpha\\AppData\\Local\\Temp\\ipykernel_21116\\657607755.py:51: FutureWarning: The frame.append method is deprecated and will be removed from pandas in a future version. Use pandas.concat instead.\n",
      "  df2 = df2.append({'building id' : building_id, 'fan/heating ratio' : load_heating_annual}, ignore_index = True)\n"
     ]
    },
    {
     "name": "stdout",
     "output_type": "stream",
     "text": [
      "0.06901364742726332 0.3955699668846225\n"
     ]
    },
    {
     "name": "stderr",
     "output_type": "stream",
     "text": [
      "C:\\Users\\atpha\\AppData\\Local\\Temp\\ipykernel_21116\\657607755.py:51: FutureWarning: The frame.append method is deprecated and will be removed from pandas in a future version. Use pandas.concat instead.\n",
      "  df2 = df2.append({'building id' : building_id, 'fan/heating ratio' : load_heating_annual}, ignore_index = True)\n"
     ]
    },
    {
     "name": "stdout",
     "output_type": "stream",
     "text": [
      "0.05821083335486006 0.3228111694523839\n"
     ]
    },
    {
     "name": "stderr",
     "output_type": "stream",
     "text": [
      "C:\\Users\\atpha\\AppData\\Local\\Temp\\ipykernel_21116\\657607755.py:51: FutureWarning: The frame.append method is deprecated and will be removed from pandas in a future version. Use pandas.concat instead.\n",
      "  df2 = df2.append({'building id' : building_id, 'fan/heating ratio' : load_heating_annual}, ignore_index = True)\n"
     ]
    },
    {
     "name": "stdout",
     "output_type": "stream",
     "text": [
      "0.10075328719828382 0.39405978453610746\n"
     ]
    },
    {
     "name": "stderr",
     "output_type": "stream",
     "text": [
      "C:\\Users\\atpha\\AppData\\Local\\Temp\\ipykernel_21116\\657607755.py:51: FutureWarning: The frame.append method is deprecated and will be removed from pandas in a future version. Use pandas.concat instead.\n",
      "  df2 = df2.append({'building id' : building_id, 'fan/heating ratio' : load_heating_annual}, ignore_index = True)\n"
     ]
    },
    {
     "name": "stdout",
     "output_type": "stream",
     "text": [
      "0.07894057662423679 0.3988320734501252\n"
     ]
    },
    {
     "name": "stderr",
     "output_type": "stream",
     "text": [
      "C:\\Users\\atpha\\AppData\\Local\\Temp\\ipykernel_21116\\657607755.py:51: FutureWarning: The frame.append method is deprecated and will be removed from pandas in a future version. Use pandas.concat instead.\n",
      "  df2 = df2.append({'building id' : building_id, 'fan/heating ratio' : load_heating_annual}, ignore_index = True)\n"
     ]
    },
    {
     "name": "stdout",
     "output_type": "stream",
     "text": [
      "0.06724998772549505 0.38868888394693374\n"
     ]
    },
    {
     "name": "stderr",
     "output_type": "stream",
     "text": [
      "C:\\Users\\atpha\\AppData\\Local\\Temp\\ipykernel_21116\\657607755.py:51: FutureWarning: The frame.append method is deprecated and will be removed from pandas in a future version. Use pandas.concat instead.\n",
      "  df2 = df2.append({'building id' : building_id, 'fan/heating ratio' : load_heating_annual}, ignore_index = True)\n"
     ]
    },
    {
     "name": "stdout",
     "output_type": "stream",
     "text": [
      "0.07368295292281762 0.3702055429690845\n"
     ]
    },
    {
     "name": "stderr",
     "output_type": "stream",
     "text": [
      "C:\\Users\\atpha\\AppData\\Local\\Temp\\ipykernel_21116\\657607755.py:51: FutureWarning: The frame.append method is deprecated and will be removed from pandas in a future version. Use pandas.concat instead.\n",
      "  df2 = df2.append({'building id' : building_id, 'fan/heating ratio' : load_heating_annual}, ignore_index = True)\n"
     ]
    },
    {
     "name": "stdout",
     "output_type": "stream",
     "text": [
      "0.07697938457795683 0.39381892242047034\n"
     ]
    },
    {
     "name": "stderr",
     "output_type": "stream",
     "text": [
      "C:\\Users\\atpha\\AppData\\Local\\Temp\\ipykernel_21116\\657607755.py:51: FutureWarning: The frame.append method is deprecated and will be removed from pandas in a future version. Use pandas.concat instead.\n",
      "  df2 = df2.append({'building id' : building_id, 'fan/heating ratio' : load_heating_annual}, ignore_index = True)\n"
     ]
    },
    {
     "name": "stdout",
     "output_type": "stream",
     "text": [
      "0.056696600043541864 0.381487250474947\n"
     ]
    },
    {
     "name": "stderr",
     "output_type": "stream",
     "text": [
      "C:\\Users\\atpha\\AppData\\Local\\Temp\\ipykernel_21116\\657607755.py:51: FutureWarning: The frame.append method is deprecated and will be removed from pandas in a future version. Use pandas.concat instead.\n",
      "  df2 = df2.append({'building id' : building_id, 'fan/heating ratio' : load_heating_annual}, ignore_index = True)\n"
     ]
    },
    {
     "name": "stdout",
     "output_type": "stream",
     "text": [
      "0.09562615563027765 0.3956839876368661\n"
     ]
    },
    {
     "name": "stderr",
     "output_type": "stream",
     "text": [
      "C:\\Users\\atpha\\AppData\\Local\\Temp\\ipykernel_21116\\657607755.py:51: FutureWarning: The frame.append method is deprecated and will be removed from pandas in a future version. Use pandas.concat instead.\n",
      "  df2 = df2.append({'building id' : building_id, 'fan/heating ratio' : load_heating_annual}, ignore_index = True)\n"
     ]
    },
    {
     "name": "stdout",
     "output_type": "stream",
     "text": [
      "0.07242693236033182 0.39541117950105786\n"
     ]
    },
    {
     "name": "stderr",
     "output_type": "stream",
     "text": [
      "C:\\Users\\atpha\\AppData\\Local\\Temp\\ipykernel_21116\\657607755.py:51: FutureWarning: The frame.append method is deprecated and will be removed from pandas in a future version. Use pandas.concat instead.\n",
      "  df2 = df2.append({'building id' : building_id, 'fan/heating ratio' : load_heating_annual}, ignore_index = True)\n"
     ]
    },
    {
     "name": "stdout",
     "output_type": "stream",
     "text": [
      "0.08468333277660241 0.3763964422672957\n"
     ]
    },
    {
     "name": "stderr",
     "output_type": "stream",
     "text": [
      "C:\\Users\\atpha\\AppData\\Local\\Temp\\ipykernel_21116\\657607755.py:51: FutureWarning: The frame.append method is deprecated and will be removed from pandas in a future version. Use pandas.concat instead.\n",
      "  df2 = df2.append({'building id' : building_id, 'fan/heating ratio' : load_heating_annual}, ignore_index = True)\n"
     ]
    },
    {
     "name": "stdout",
     "output_type": "stream",
     "text": [
      "0.07899197191660054 0.35703647694283097\n"
     ]
    },
    {
     "name": "stderr",
     "output_type": "stream",
     "text": [
      "C:\\Users\\atpha\\AppData\\Local\\Temp\\ipykernel_21116\\657607755.py:51: FutureWarning: The frame.append method is deprecated and will be removed from pandas in a future version. Use pandas.concat instead.\n",
      "  df2 = df2.append({'building id' : building_id, 'fan/heating ratio' : load_heating_annual}, ignore_index = True)\n"
     ]
    },
    {
     "name": "stdout",
     "output_type": "stream",
     "text": [
      "0.13329219746774404 0.4019164881016331\n"
     ]
    },
    {
     "name": "stderr",
     "output_type": "stream",
     "text": [
      "C:\\Users\\atpha\\AppData\\Local\\Temp\\ipykernel_21116\\657607755.py:51: FutureWarning: The frame.append method is deprecated and will be removed from pandas in a future version. Use pandas.concat instead.\n",
      "  df2 = df2.append({'building id' : building_id, 'fan/heating ratio' : load_heating_annual}, ignore_index = True)\n"
     ]
    },
    {
     "name": "stdout",
     "output_type": "stream",
     "text": [
      "0.0857655008632712 0.35150644888791943\n"
     ]
    },
    {
     "name": "stderr",
     "output_type": "stream",
     "text": [
      "C:\\Users\\atpha\\AppData\\Local\\Temp\\ipykernel_21116\\657607755.py:51: FutureWarning: The frame.append method is deprecated and will be removed from pandas in a future version. Use pandas.concat instead.\n",
      "  df2 = df2.append({'building id' : building_id, 'fan/heating ratio' : load_heating_annual}, ignore_index = True)\n"
     ]
    },
    {
     "name": "stdout",
     "output_type": "stream",
     "text": [
      "0.05648364551304761 0.32341123565805147\n"
     ]
    },
    {
     "name": "stderr",
     "output_type": "stream",
     "text": [
      "C:\\Users\\atpha\\AppData\\Local\\Temp\\ipykernel_21116\\657607755.py:51: FutureWarning: The frame.append method is deprecated and will be removed from pandas in a future version. Use pandas.concat instead.\n",
      "  df2 = df2.append({'building id' : building_id, 'fan/heating ratio' : load_heating_annual}, ignore_index = True)\n"
     ]
    },
    {
     "name": "stdout",
     "output_type": "stream",
     "text": [
      "0.1021924145625832 0.37488286238833834\n"
     ]
    },
    {
     "name": "stderr",
     "output_type": "stream",
     "text": [
      "C:\\Users\\atpha\\AppData\\Local\\Temp\\ipykernel_21116\\657607755.py:51: FutureWarning: The frame.append method is deprecated and will be removed from pandas in a future version. Use pandas.concat instead.\n",
      "  df2 = df2.append({'building id' : building_id, 'fan/heating ratio' : load_heating_annual}, ignore_index = True)\n"
     ]
    },
    {
     "name": "stdout",
     "output_type": "stream",
     "text": [
      "0.0720298295636507 0.3948374580162491\n"
     ]
    },
    {
     "name": "stderr",
     "output_type": "stream",
     "text": [
      "C:\\Users\\atpha\\AppData\\Local\\Temp\\ipykernel_21116\\657607755.py:51: FutureWarning: The frame.append method is deprecated and will be removed from pandas in a future version. Use pandas.concat instead.\n",
      "  df2 = df2.append({'building id' : building_id, 'fan/heating ratio' : load_heating_annual}, ignore_index = True)\n"
     ]
    },
    {
     "name": "stdout",
     "output_type": "stream",
     "text": [
      "0.12192319173996867 0.4045605975646143\n"
     ]
    },
    {
     "name": "stderr",
     "output_type": "stream",
     "text": [
      "C:\\Users\\atpha\\AppData\\Local\\Temp\\ipykernel_21116\\657607755.py:51: FutureWarning: The frame.append method is deprecated and will be removed from pandas in a future version. Use pandas.concat instead.\n",
      "  df2 = df2.append({'building id' : building_id, 'fan/heating ratio' : load_heating_annual}, ignore_index = True)\n"
     ]
    },
    {
     "name": "stdout",
     "output_type": "stream",
     "text": [
      "0.10639449296701672 0.3978403167791599\n"
     ]
    },
    {
     "name": "stderr",
     "output_type": "stream",
     "text": [
      "C:\\Users\\atpha\\AppData\\Local\\Temp\\ipykernel_21116\\657607755.py:51: FutureWarning: The frame.append method is deprecated and will be removed from pandas in a future version. Use pandas.concat instead.\n",
      "  df2 = df2.append({'building id' : building_id, 'fan/heating ratio' : load_heating_annual}, ignore_index = True)\n"
     ]
    },
    {
     "name": "stdout",
     "output_type": "stream",
     "text": [
      "0.08584986569304295 0.3968966583298951\n"
     ]
    },
    {
     "name": "stderr",
     "output_type": "stream",
     "text": [
      "C:\\Users\\atpha\\AppData\\Local\\Temp\\ipykernel_21116\\657607755.py:51: FutureWarning: The frame.append method is deprecated and will be removed from pandas in a future version. Use pandas.concat instead.\n",
      "  df2 = df2.append({'building id' : building_id, 'fan/heating ratio' : load_heating_annual}, ignore_index = True)\n"
     ]
    },
    {
     "name": "stdout",
     "output_type": "stream",
     "text": [
      "0.09253573139316112 0.40085909222423044\n"
     ]
    },
    {
     "name": "stderr",
     "output_type": "stream",
     "text": [
      "C:\\Users\\atpha\\AppData\\Local\\Temp\\ipykernel_21116\\657607755.py:51: FutureWarning: The frame.append method is deprecated and will be removed from pandas in a future version. Use pandas.concat instead.\n",
      "  df2 = df2.append({'building id' : building_id, 'fan/heating ratio' : load_heating_annual}, ignore_index = True)\n"
     ]
    },
    {
     "name": "stdout",
     "output_type": "stream",
     "text": [
      "0.0773329822314984 0.39959375497644206\n"
     ]
    },
    {
     "name": "stderr",
     "output_type": "stream",
     "text": [
      "C:\\Users\\atpha\\AppData\\Local\\Temp\\ipykernel_21116\\657607755.py:51: FutureWarning: The frame.append method is deprecated and will be removed from pandas in a future version. Use pandas.concat instead.\n",
      "  df2 = df2.append({'building id' : building_id, 'fan/heating ratio' : load_heating_annual}, ignore_index = True)\n"
     ]
    },
    {
     "name": "stdout",
     "output_type": "stream",
     "text": [
      "0.0716412929556511 0.39129718322805007\n"
     ]
    },
    {
     "name": "stderr",
     "output_type": "stream",
     "text": [
      "C:\\Users\\atpha\\AppData\\Local\\Temp\\ipykernel_21116\\657607755.py:51: FutureWarning: The frame.append method is deprecated and will be removed from pandas in a future version. Use pandas.concat instead.\n",
      "  df2 = df2.append({'building id' : building_id, 'fan/heating ratio' : load_heating_annual}, ignore_index = True)\n"
     ]
    },
    {
     "name": "stdout",
     "output_type": "stream",
     "text": [
      "0.11409598872350236 0.40408474247678994\n",
      "0.07927671398118524 0.4019287527980068\n"
     ]
    },
    {
     "name": "stderr",
     "output_type": "stream",
     "text": [
      "C:\\Users\\atpha\\AppData\\Local\\Temp\\ipykernel_21116\\657607755.py:51: FutureWarning: The frame.append method is deprecated and will be removed from pandas in a future version. Use pandas.concat instead.\n",
      "  df2 = df2.append({'building id' : building_id, 'fan/heating ratio' : load_heating_annual}, ignore_index = True)\n",
      "C:\\Users\\atpha\\AppData\\Local\\Temp\\ipykernel_21116\\657607755.py:51: FutureWarning: The frame.append method is deprecated and will be removed from pandas in a future version. Use pandas.concat instead.\n",
      "  df2 = df2.append({'building id' : building_id, 'fan/heating ratio' : load_heating_annual}, ignore_index = True)\n"
     ]
    },
    {
     "name": "stdout",
     "output_type": "stream",
     "text": [
      "0.09466233859953513 0.4005905523038235\n",
      "0.06980687107152533 0.39145975495272195\n"
     ]
    },
    {
     "name": "stderr",
     "output_type": "stream",
     "text": [
      "C:\\Users\\atpha\\AppData\\Local\\Temp\\ipykernel_21116\\657607755.py:51: FutureWarning: The frame.append method is deprecated and will be removed from pandas in a future version. Use pandas.concat instead.\n",
      "  df2 = df2.append({'building id' : building_id, 'fan/heating ratio' : load_heating_annual}, ignore_index = True)\n",
      "C:\\Users\\atpha\\AppData\\Local\\Temp\\ipykernel_21116\\657607755.py:51: FutureWarning: The frame.append method is deprecated and will be removed from pandas in a future version. Use pandas.concat instead.\n",
      "  df2 = df2.append({'building id' : building_id, 'fan/heating ratio' : load_heating_annual}, ignore_index = True)\n"
     ]
    },
    {
     "name": "stdout",
     "output_type": "stream",
     "text": [
      "0.09995190467845537 0.39611094406076075\n",
      "0.0798682989979049 0.3746392805712518\n"
     ]
    },
    {
     "name": "stderr",
     "output_type": "stream",
     "text": [
      "C:\\Users\\atpha\\AppData\\Local\\Temp\\ipykernel_21116\\657607755.py:51: FutureWarning: The frame.append method is deprecated and will be removed from pandas in a future version. Use pandas.concat instead.\n",
      "  df2 = df2.append({'building id' : building_id, 'fan/heating ratio' : load_heating_annual}, ignore_index = True)\n",
      "C:\\Users\\atpha\\AppData\\Local\\Temp\\ipykernel_21116\\657607755.py:51: FutureWarning: The frame.append method is deprecated and will be removed from pandas in a future version. Use pandas.concat instead.\n",
      "  df2 = df2.append({'building id' : building_id, 'fan/heating ratio' : load_heating_annual}, ignore_index = True)\n"
     ]
    },
    {
     "name": "stdout",
     "output_type": "stream",
     "text": [
      "0.13910493911847743 0.40310150432608477\n",
      "0.08279856269980002 0.3928836563817774\n"
     ]
    },
    {
     "name": "stderr",
     "output_type": "stream",
     "text": [
      "C:\\Users\\atpha\\AppData\\Local\\Temp\\ipykernel_21116\\657607755.py:51: FutureWarning: The frame.append method is deprecated and will be removed from pandas in a future version. Use pandas.concat instead.\n",
      "  df2 = df2.append({'building id' : building_id, 'fan/heating ratio' : load_heating_annual}, ignore_index = True)\n",
      "C:\\Users\\atpha\\AppData\\Local\\Temp\\ipykernel_21116\\657607755.py:51: FutureWarning: The frame.append method is deprecated and will be removed from pandas in a future version. Use pandas.concat instead.\n",
      "  df2 = df2.append({'building id' : building_id, 'fan/heating ratio' : load_heating_annual}, ignore_index = True)\n"
     ]
    },
    {
     "name": "stdout",
     "output_type": "stream",
     "text": [
      "0.07602345182018799 0.39207118194969615\n",
      "0.0656602976669569 0.35821830333528387\n"
     ]
    },
    {
     "name": "stderr",
     "output_type": "stream",
     "text": [
      "C:\\Users\\atpha\\AppData\\Local\\Temp\\ipykernel_21116\\657607755.py:51: FutureWarning: The frame.append method is deprecated and will be removed from pandas in a future version. Use pandas.concat instead.\n",
      "  df2 = df2.append({'building id' : building_id, 'fan/heating ratio' : load_heating_annual}, ignore_index = True)\n",
      "C:\\Users\\atpha\\AppData\\Local\\Temp\\ipykernel_21116\\657607755.py:51: FutureWarning: The frame.append method is deprecated and will be removed from pandas in a future version. Use pandas.concat instead.\n",
      "  df2 = df2.append({'building id' : building_id, 'fan/heating ratio' : load_heating_annual}, ignore_index = True)\n"
     ]
    },
    {
     "name": "stdout",
     "output_type": "stream",
     "text": [
      "0.10665830778798631 0.38378530154149076\n",
      "0.09749136187715508 0.3979310222604328\n"
     ]
    },
    {
     "name": "stderr",
     "output_type": "stream",
     "text": [
      "C:\\Users\\atpha\\AppData\\Local\\Temp\\ipykernel_21116\\657607755.py:51: FutureWarning: The frame.append method is deprecated and will be removed from pandas in a future version. Use pandas.concat instead.\n",
      "  df2 = df2.append({'building id' : building_id, 'fan/heating ratio' : load_heating_annual}, ignore_index = True)\n",
      "C:\\Users\\atpha\\AppData\\Local\\Temp\\ipykernel_21116\\657607755.py:51: FutureWarning: The frame.append method is deprecated and will be removed from pandas in a future version. Use pandas.concat instead.\n",
      "  df2 = df2.append({'building id' : building_id, 'fan/heating ratio' : load_heating_annual}, ignore_index = True)\n"
     ]
    },
    {
     "name": "stdout",
     "output_type": "stream",
     "text": [
      "0.09577723246811551 0.3959828799363904\n",
      "0.09178615983553771 0.3954547349154036\n"
     ]
    },
    {
     "name": "stderr",
     "output_type": "stream",
     "text": [
      "C:\\Users\\atpha\\AppData\\Local\\Temp\\ipykernel_21116\\657607755.py:51: FutureWarning: The frame.append method is deprecated and will be removed from pandas in a future version. Use pandas.concat instead.\n",
      "  df2 = df2.append({'building id' : building_id, 'fan/heating ratio' : load_heating_annual}, ignore_index = True)\n",
      "C:\\Users\\atpha\\AppData\\Local\\Temp\\ipykernel_21116\\657607755.py:51: FutureWarning: The frame.append method is deprecated and will be removed from pandas in a future version. Use pandas.concat instead.\n",
      "  df2 = df2.append({'building id' : building_id, 'fan/heating ratio' : load_heating_annual}, ignore_index = True)\n"
     ]
    },
    {
     "name": "stdout",
     "output_type": "stream",
     "text": [
      "0.06390583423321022 0.38983950000813344\n",
      "0.06843598627895113 0.3947082406283114\n"
     ]
    },
    {
     "name": "stderr",
     "output_type": "stream",
     "text": [
      "C:\\Users\\atpha\\AppData\\Local\\Temp\\ipykernel_21116\\657607755.py:51: FutureWarning: The frame.append method is deprecated and will be removed from pandas in a future version. Use pandas.concat instead.\n",
      "  df2 = df2.append({'building id' : building_id, 'fan/heating ratio' : load_heating_annual}, ignore_index = True)\n",
      "C:\\Users\\atpha\\AppData\\Local\\Temp\\ipykernel_21116\\657607755.py:51: FutureWarning: The frame.append method is deprecated and will be removed from pandas in a future version. Use pandas.concat instead.\n",
      "  df2 = df2.append({'building id' : building_id, 'fan/heating ratio' : load_heating_annual}, ignore_index = True)\n"
     ]
    },
    {
     "name": "stdout",
     "output_type": "stream",
     "text": [
      "0.10551385522798189 0.39977317193782447\n",
      "0.044298831961224555 0.32659509926931446\n"
     ]
    },
    {
     "name": "stderr",
     "output_type": "stream",
     "text": [
      "C:\\Users\\atpha\\AppData\\Local\\Temp\\ipykernel_21116\\657607755.py:51: FutureWarning: The frame.append method is deprecated and will be removed from pandas in a future version. Use pandas.concat instead.\n",
      "  df2 = df2.append({'building id' : building_id, 'fan/heating ratio' : load_heating_annual}, ignore_index = True)\n",
      "C:\\Users\\atpha\\AppData\\Local\\Temp\\ipykernel_21116\\657607755.py:51: FutureWarning: The frame.append method is deprecated and will be removed from pandas in a future version. Use pandas.concat instead.\n",
      "  df2 = df2.append({'building id' : building_id, 'fan/heating ratio' : load_heating_annual}, ignore_index = True)\n"
     ]
    },
    {
     "name": "stdout",
     "output_type": "stream",
     "text": [
      "0.08434673713763573 0.399483614773743\n",
      "0.08450959897109404 0.3968800091705621\n"
     ]
    },
    {
     "name": "stderr",
     "output_type": "stream",
     "text": [
      "C:\\Users\\atpha\\AppData\\Local\\Temp\\ipykernel_21116\\657607755.py:51: FutureWarning: The frame.append method is deprecated and will be removed from pandas in a future version. Use pandas.concat instead.\n",
      "  df2 = df2.append({'building id' : building_id, 'fan/heating ratio' : load_heating_annual}, ignore_index = True)\n",
      "C:\\Users\\atpha\\AppData\\Local\\Temp\\ipykernel_21116\\657607755.py:51: FutureWarning: The frame.append method is deprecated and will be removed from pandas in a future version. Use pandas.concat instead.\n",
      "  df2 = df2.append({'building id' : building_id, 'fan/heating ratio' : load_heating_annual}, ignore_index = True)\n"
     ]
    },
    {
     "name": "stdout",
     "output_type": "stream",
     "text": [
      "0.09947928848789177 0.40012480814684953\n",
      "0.07958869290813671 0.3964548862367669\n"
     ]
    },
    {
     "name": "stderr",
     "output_type": "stream",
     "text": [
      "C:\\Users\\atpha\\AppData\\Local\\Temp\\ipykernel_21116\\657607755.py:51: FutureWarning: The frame.append method is deprecated and will be removed from pandas in a future version. Use pandas.concat instead.\n",
      "  df2 = df2.append({'building id' : building_id, 'fan/heating ratio' : load_heating_annual}, ignore_index = True)\n",
      "C:\\Users\\atpha\\AppData\\Local\\Temp\\ipykernel_21116\\657607755.py:51: FutureWarning: The frame.append method is deprecated and will be removed from pandas in a future version. Use pandas.concat instead.\n",
      "  df2 = df2.append({'building id' : building_id, 'fan/heating ratio' : load_heating_annual}, ignore_index = True)\n"
     ]
    },
    {
     "name": "stdout",
     "output_type": "stream",
     "text": [
      "0.0932694180296915 0.39687489222836214\n",
      "0.09108177703979031 0.39353330698091643\n"
     ]
    },
    {
     "name": "stderr",
     "output_type": "stream",
     "text": [
      "C:\\Users\\atpha\\AppData\\Local\\Temp\\ipykernel_21116\\657607755.py:51: FutureWarning: The frame.append method is deprecated and will be removed from pandas in a future version. Use pandas.concat instead.\n",
      "  df2 = df2.append({'building id' : building_id, 'fan/heating ratio' : load_heating_annual}, ignore_index = True)\n",
      "C:\\Users\\atpha\\AppData\\Local\\Temp\\ipykernel_21116\\657607755.py:51: FutureWarning: The frame.append method is deprecated and will be removed from pandas in a future version. Use pandas.concat instead.\n",
      "  df2 = df2.append({'building id' : building_id, 'fan/heating ratio' : load_heating_annual}, ignore_index = True)\n"
     ]
    },
    {
     "name": "stdout",
     "output_type": "stream",
     "text": [
      "0.0787616259657214 0.3966634827587033\n",
      "0.10205117900843272 0.39765530642610747\n"
     ]
    },
    {
     "name": "stderr",
     "output_type": "stream",
     "text": [
      "C:\\Users\\atpha\\AppData\\Local\\Temp\\ipykernel_21116\\657607755.py:51: FutureWarning: The frame.append method is deprecated and will be removed from pandas in a future version. Use pandas.concat instead.\n",
      "  df2 = df2.append({'building id' : building_id, 'fan/heating ratio' : load_heating_annual}, ignore_index = True)\n",
      "C:\\Users\\atpha\\AppData\\Local\\Temp\\ipykernel_21116\\657607755.py:51: FutureWarning: The frame.append method is deprecated and will be removed from pandas in a future version. Use pandas.concat instead.\n",
      "  df2 = df2.append({'building id' : building_id, 'fan/heating ratio' : load_heating_annual}, ignore_index = True)\n"
     ]
    },
    {
     "name": "stdout",
     "output_type": "stream",
     "text": [
      "0.13113383200096146 0.40190343737648193\n",
      "0.06597606580002216 0.39218021390443386\n"
     ]
    },
    {
     "name": "stderr",
     "output_type": "stream",
     "text": [
      "C:\\Users\\atpha\\AppData\\Local\\Temp\\ipykernel_21116\\657607755.py:51: FutureWarning: The frame.append method is deprecated and will be removed from pandas in a future version. Use pandas.concat instead.\n",
      "  df2 = df2.append({'building id' : building_id, 'fan/heating ratio' : load_heating_annual}, ignore_index = True)\n",
      "C:\\Users\\atpha\\AppData\\Local\\Temp\\ipykernel_21116\\657607755.py:51: FutureWarning: The frame.append method is deprecated and will be removed from pandas in a future version. Use pandas.concat instead.\n",
      "  df2 = df2.append({'building id' : building_id, 'fan/heating ratio' : load_heating_annual}, ignore_index = True)\n"
     ]
    },
    {
     "name": "stdout",
     "output_type": "stream",
     "text": [
      "0.08397979485453341 0.39388674712045296\n",
      "0.082163527868518 0.3948303444857169\n"
     ]
    },
    {
     "name": "stderr",
     "output_type": "stream",
     "text": [
      "C:\\Users\\atpha\\AppData\\Local\\Temp\\ipykernel_21116\\657607755.py:51: FutureWarning: The frame.append method is deprecated and will be removed from pandas in a future version. Use pandas.concat instead.\n",
      "  df2 = df2.append({'building id' : building_id, 'fan/heating ratio' : load_heating_annual}, ignore_index = True)\n",
      "C:\\Users\\atpha\\AppData\\Local\\Temp\\ipykernel_21116\\657607755.py:51: FutureWarning: The frame.append method is deprecated and will be removed from pandas in a future version. Use pandas.concat instead.\n",
      "  df2 = df2.append({'building id' : building_id, 'fan/heating ratio' : load_heating_annual}, ignore_index = True)\n"
     ]
    },
    {
     "name": "stdout",
     "output_type": "stream",
     "text": [
      "0.07015811485985808 0.39272889360579655\n",
      "0.1613213382512414 0.3935355112051648\n"
     ]
    },
    {
     "name": "stderr",
     "output_type": "stream",
     "text": [
      "C:\\Users\\atpha\\AppData\\Local\\Temp\\ipykernel_21116\\657607755.py:51: FutureWarning: The frame.append method is deprecated and will be removed from pandas in a future version. Use pandas.concat instead.\n",
      "  df2 = df2.append({'building id' : building_id, 'fan/heating ratio' : load_heating_annual}, ignore_index = True)\n",
      "C:\\Users\\atpha\\AppData\\Local\\Temp\\ipykernel_21116\\657607755.py:51: FutureWarning: The frame.append method is deprecated and will be removed from pandas in a future version. Use pandas.concat instead.\n",
      "  df2 = df2.append({'building id' : building_id, 'fan/heating ratio' : load_heating_annual}, ignore_index = True)\n"
     ]
    },
    {
     "name": "stdout",
     "output_type": "stream",
     "text": [
      "0.07054222484178167 0.38962887989368145\n"
     ]
    },
    {
     "name": "stderr",
     "output_type": "stream",
     "text": [
      "C:\\Users\\atpha\\AppData\\Local\\Temp\\ipykernel_21116\\657607755.py:51: FutureWarning: The frame.append method is deprecated and will be removed from pandas in a future version. Use pandas.concat instead.\n",
      "  df2 = df2.append({'building id' : building_id, 'fan/heating ratio' : load_heating_annual}, ignore_index = True)\n"
     ]
    },
    {
     "name": "stdout",
     "output_type": "stream",
     "text": [
      "0.10594068703863205 0.3999259380230331\n"
     ]
    },
    {
     "name": "stderr",
     "output_type": "stream",
     "text": [
      "C:\\Users\\atpha\\AppData\\Local\\Temp\\ipykernel_21116\\657607755.py:51: FutureWarning: The frame.append method is deprecated and will be removed from pandas in a future version. Use pandas.concat instead.\n",
      "  df2 = df2.append({'building id' : building_id, 'fan/heating ratio' : load_heating_annual}, ignore_index = True)\n"
     ]
    },
    {
     "name": "stdout",
     "output_type": "stream",
     "text": [
      "0.06445162991450307 0.39387643515833654\n"
     ]
    },
    {
     "name": "stderr",
     "output_type": "stream",
     "text": [
      "C:\\Users\\atpha\\AppData\\Local\\Temp\\ipykernel_21116\\657607755.py:51: FutureWarning: The frame.append method is deprecated and will be removed from pandas in a future version. Use pandas.concat instead.\n",
      "  df2 = df2.append({'building id' : building_id, 'fan/heating ratio' : load_heating_annual}, ignore_index = True)\n"
     ]
    },
    {
     "name": "stdout",
     "output_type": "stream",
     "text": [
      "0.05121386971773688 0.32646250950719513\n"
     ]
    },
    {
     "name": "stderr",
     "output_type": "stream",
     "text": [
      "C:\\Users\\atpha\\AppData\\Local\\Temp\\ipykernel_21116\\657607755.py:51: FutureWarning: The frame.append method is deprecated and will be removed from pandas in a future version. Use pandas.concat instead.\n",
      "  df2 = df2.append({'building id' : building_id, 'fan/heating ratio' : load_heating_annual}, ignore_index = True)\n"
     ]
    },
    {
     "name": "stdout",
     "output_type": "stream",
     "text": [
      "0.08862067265039583 0.3995141873652206\n"
     ]
    },
    {
     "name": "stderr",
     "output_type": "stream",
     "text": [
      "C:\\Users\\atpha\\AppData\\Local\\Temp\\ipykernel_21116\\657607755.py:51: FutureWarning: The frame.append method is deprecated and will be removed from pandas in a future version. Use pandas.concat instead.\n",
      "  df2 = df2.append({'building id' : building_id, 'fan/heating ratio' : load_heating_annual}, ignore_index = True)\n"
     ]
    },
    {
     "name": "stdout",
     "output_type": "stream",
     "text": [
      "0.11885281335241332 0.3960029630211305\n"
     ]
    },
    {
     "name": "stderr",
     "output_type": "stream",
     "text": [
      "C:\\Users\\atpha\\AppData\\Local\\Temp\\ipykernel_21116\\657607755.py:51: FutureWarning: The frame.append method is deprecated and will be removed from pandas in a future version. Use pandas.concat instead.\n",
      "  df2 = df2.append({'building id' : building_id, 'fan/heating ratio' : load_heating_annual}, ignore_index = True)\n"
     ]
    },
    {
     "name": "stdout",
     "output_type": "stream",
     "text": [
      "0.07546021984412737 0.39165522686668536\n"
     ]
    },
    {
     "name": "stderr",
     "output_type": "stream",
     "text": [
      "C:\\Users\\atpha\\AppData\\Local\\Temp\\ipykernel_21116\\657607755.py:51: FutureWarning: The frame.append method is deprecated and will be removed from pandas in a future version. Use pandas.concat instead.\n",
      "  df2 = df2.append({'building id' : building_id, 'fan/heating ratio' : load_heating_annual}, ignore_index = True)\n"
     ]
    },
    {
     "name": "stdout",
     "output_type": "stream",
     "text": [
      "0.09301456309000117 0.39879937966514883\n"
     ]
    },
    {
     "name": "stderr",
     "output_type": "stream",
     "text": [
      "C:\\Users\\atpha\\AppData\\Local\\Temp\\ipykernel_21116\\657607755.py:51: FutureWarning: The frame.append method is deprecated and will be removed from pandas in a future version. Use pandas.concat instead.\n",
      "  df2 = df2.append({'building id' : building_id, 'fan/heating ratio' : load_heating_annual}, ignore_index = True)\n"
     ]
    },
    {
     "name": "stdout",
     "output_type": "stream",
     "text": [
      "0.06716367528028688 0.3887292248585203\n"
     ]
    },
    {
     "name": "stderr",
     "output_type": "stream",
     "text": [
      "C:\\Users\\atpha\\AppData\\Local\\Temp\\ipykernel_21116\\657607755.py:51: FutureWarning: The frame.append method is deprecated and will be removed from pandas in a future version. Use pandas.concat instead.\n",
      "  df2 = df2.append({'building id' : building_id, 'fan/heating ratio' : load_heating_annual}, ignore_index = True)\n"
     ]
    },
    {
     "name": "stdout",
     "output_type": "stream",
     "text": [
      "0.08935796960637973 0.39550304413812837\n"
     ]
    },
    {
     "name": "stderr",
     "output_type": "stream",
     "text": [
      "C:\\Users\\atpha\\AppData\\Local\\Temp\\ipykernel_21116\\657607755.py:51: FutureWarning: The frame.append method is deprecated and will be removed from pandas in a future version. Use pandas.concat instead.\n",
      "  df2 = df2.append({'building id' : building_id, 'fan/heating ratio' : load_heating_annual}, ignore_index = True)\n"
     ]
    },
    {
     "name": "stdout",
     "output_type": "stream",
     "text": [
      "0.07319147911794738 0.393192091950865\n"
     ]
    },
    {
     "name": "stderr",
     "output_type": "stream",
     "text": [
      "C:\\Users\\atpha\\AppData\\Local\\Temp\\ipykernel_21116\\657607755.py:51: FutureWarning: The frame.append method is deprecated and will be removed from pandas in a future version. Use pandas.concat instead.\n",
      "  df2 = df2.append({'building id' : building_id, 'fan/heating ratio' : load_heating_annual}, ignore_index = True)\n"
     ]
    },
    {
     "name": "stdout",
     "output_type": "stream",
     "text": [
      "0.0880059386174335 0.3925898309648051\n"
     ]
    },
    {
     "name": "stderr",
     "output_type": "stream",
     "text": [
      "C:\\Users\\atpha\\AppData\\Local\\Temp\\ipykernel_21116\\657607755.py:51: FutureWarning: The frame.append method is deprecated and will be removed from pandas in a future version. Use pandas.concat instead.\n",
      "  df2 = df2.append({'building id' : building_id, 'fan/heating ratio' : load_heating_annual}, ignore_index = True)\n",
      "C:\\Users\\atpha\\AppData\\Local\\Temp\\ipykernel_21116\\657607755.py:51: FutureWarning: The frame.append method is deprecated and will be removed from pandas in a future version. Use pandas.concat instead.\n",
      "  df2 = df2.append({'building id' : building_id, 'fan/heating ratio' : load_heating_annual}, ignore_index = True)\n"
     ]
    },
    {
     "name": "stdout",
     "output_type": "stream",
     "text": [
      "0.09996684542400208 0.40020967868595025\n",
      "0.06194262358558498 0.3244885970935858\n"
     ]
    },
    {
     "name": "stderr",
     "output_type": "stream",
     "text": [
      "C:\\Users\\atpha\\AppData\\Local\\Temp\\ipykernel_21116\\657607755.py:51: FutureWarning: The frame.append method is deprecated and will be removed from pandas in a future version. Use pandas.concat instead.\n",
      "  df2 = df2.append({'building id' : building_id, 'fan/heating ratio' : load_heating_annual}, ignore_index = True)\n"
     ]
    },
    {
     "name": "stdout",
     "output_type": "stream",
     "text": [
      "0.08711945905843721 0.39510876643395976\n"
     ]
    },
    {
     "name": "stderr",
     "output_type": "stream",
     "text": [
      "C:\\Users\\atpha\\AppData\\Local\\Temp\\ipykernel_21116\\657607755.py:51: FutureWarning: The frame.append method is deprecated and will be removed from pandas in a future version. Use pandas.concat instead.\n",
      "  df2 = df2.append({'building id' : building_id, 'fan/heating ratio' : load_heating_annual}, ignore_index = True)\n"
     ]
    },
    {
     "name": "stdout",
     "output_type": "stream",
     "text": [
      "0.07039443106029285 0.3919583988128734\n"
     ]
    },
    {
     "name": "stderr",
     "output_type": "stream",
     "text": [
      "C:\\Users\\atpha\\AppData\\Local\\Temp\\ipykernel_21116\\657607755.py:51: FutureWarning: The frame.append method is deprecated and will be removed from pandas in a future version. Use pandas.concat instead.\n",
      "  df2 = df2.append({'building id' : building_id, 'fan/heating ratio' : load_heating_annual}, ignore_index = True)\n"
     ]
    },
    {
     "name": "stdout",
     "output_type": "stream",
     "text": [
      "0.08207724011265209 0.39733948834480287\n",
      "0.09405421209730627 0.40051006526307364\n"
     ]
    },
    {
     "name": "stderr",
     "output_type": "stream",
     "text": [
      "C:\\Users\\atpha\\AppData\\Local\\Temp\\ipykernel_21116\\657607755.py:51: FutureWarning: The frame.append method is deprecated and will be removed from pandas in a future version. Use pandas.concat instead.\n",
      "  df2 = df2.append({'building id' : building_id, 'fan/heating ratio' : load_heating_annual}, ignore_index = True)\n",
      "C:\\Users\\atpha\\AppData\\Local\\Temp\\ipykernel_21116\\657607755.py:51: FutureWarning: The frame.append method is deprecated and will be removed from pandas in a future version. Use pandas.concat instead.\n",
      "  df2 = df2.append({'building id' : building_id, 'fan/heating ratio' : load_heating_annual}, ignore_index = True)\n"
     ]
    },
    {
     "name": "stdout",
     "output_type": "stream",
     "text": [
      "0.08333119223020216 0.3958999272514185\n"
     ]
    },
    {
     "name": "stderr",
     "output_type": "stream",
     "text": [
      "C:\\Users\\atpha\\AppData\\Local\\Temp\\ipykernel_21116\\657607755.py:51: FutureWarning: The frame.append method is deprecated and will be removed from pandas in a future version. Use pandas.concat instead.\n",
      "  df2 = df2.append({'building id' : building_id, 'fan/heating ratio' : load_heating_annual}, ignore_index = True)\n"
     ]
    },
    {
     "name": "stdout",
     "output_type": "stream",
     "text": [
      "0.05364857936998189 0.4019739948986503\n"
     ]
    },
    {
     "name": "stderr",
     "output_type": "stream",
     "text": [
      "C:\\Users\\atpha\\AppData\\Local\\Temp\\ipykernel_21116\\657607755.py:51: FutureWarning: The frame.append method is deprecated and will be removed from pandas in a future version. Use pandas.concat instead.\n",
      "  df2 = df2.append({'building id' : building_id, 'fan/heating ratio' : load_heating_annual}, ignore_index = True)\n"
     ]
    },
    {
     "name": "stdout",
     "output_type": "stream",
     "text": [
      "0.14356280737612 0.4057800246066857\n"
     ]
    },
    {
     "name": "stderr",
     "output_type": "stream",
     "text": [
      "C:\\Users\\atpha\\AppData\\Local\\Temp\\ipykernel_21116\\657607755.py:51: FutureWarning: The frame.append method is deprecated and will be removed from pandas in a future version. Use pandas.concat instead.\n",
      "  df2 = df2.append({'building id' : building_id, 'fan/heating ratio' : load_heating_annual}, ignore_index = True)\n",
      "C:\\Users\\atpha\\AppData\\Local\\Temp\\ipykernel_21116\\657607755.py:51: FutureWarning: The frame.append method is deprecated and will be removed from pandas in a future version. Use pandas.concat instead.\n",
      "  df2 = df2.append({'building id' : building_id, 'fan/heating ratio' : load_heating_annual}, ignore_index = True)\n"
     ]
    },
    {
     "name": "stdout",
     "output_type": "stream",
     "text": [
      "0.07832013741934878 0.3242897458210002\n",
      "0.11272377219655721 0.39704810185950207\n"
     ]
    },
    {
     "name": "stderr",
     "output_type": "stream",
     "text": [
      "C:\\Users\\atpha\\AppData\\Local\\Temp\\ipykernel_21116\\657607755.py:51: FutureWarning: The frame.append method is deprecated and will be removed from pandas in a future version. Use pandas.concat instead.\n",
      "  df2 = df2.append({'building id' : building_id, 'fan/heating ratio' : load_heating_annual}, ignore_index = True)\n"
     ]
    },
    {
     "name": "stdout",
     "output_type": "stream",
     "text": [
      "0.0824689528301375 0.39308274813578314\n"
     ]
    },
    {
     "name": "stderr",
     "output_type": "stream",
     "text": [
      "C:\\Users\\atpha\\AppData\\Local\\Temp\\ipykernel_21116\\657607755.py:51: FutureWarning: The frame.append method is deprecated and will be removed from pandas in a future version. Use pandas.concat instead.\n",
      "  df2 = df2.append({'building id' : building_id, 'fan/heating ratio' : load_heating_annual}, ignore_index = True)\n"
     ]
    },
    {
     "name": "stdout",
     "output_type": "stream",
     "text": [
      "0.08367419013052443 0.39530614674207726\n"
     ]
    },
    {
     "name": "stderr",
     "output_type": "stream",
     "text": [
      "C:\\Users\\atpha\\AppData\\Local\\Temp\\ipykernel_21116\\657607755.py:51: FutureWarning: The frame.append method is deprecated and will be removed from pandas in a future version. Use pandas.concat instead.\n",
      "  df2 = df2.append({'building id' : building_id, 'fan/heating ratio' : load_heating_annual}, ignore_index = True)\n"
     ]
    },
    {
     "name": "stdout",
     "output_type": "stream",
     "text": [
      "0.09830308084013095 0.4024954358293178\n"
     ]
    },
    {
     "name": "stderr",
     "output_type": "stream",
     "text": [
      "C:\\Users\\atpha\\AppData\\Local\\Temp\\ipykernel_21116\\657607755.py:51: FutureWarning: The frame.append method is deprecated and will be removed from pandas in a future version. Use pandas.concat instead.\n",
      "  df2 = df2.append({'building id' : building_id, 'fan/heating ratio' : load_heating_annual}, ignore_index = True)\n"
     ]
    },
    {
     "name": "stdout",
     "output_type": "stream",
     "text": [
      "0.06858289312203959 0.3941090644827382\n"
     ]
    },
    {
     "name": "stderr",
     "output_type": "stream",
     "text": [
      "C:\\Users\\atpha\\AppData\\Local\\Temp\\ipykernel_21116\\657607755.py:51: FutureWarning: The frame.append method is deprecated and will be removed from pandas in a future version. Use pandas.concat instead.\n",
      "  df2 = df2.append({'building id' : building_id, 'fan/heating ratio' : load_heating_annual}, ignore_index = True)\n"
     ]
    },
    {
     "name": "stdout",
     "output_type": "stream",
     "text": [
      "0.10024941981096934 0.39790388928522613\n"
     ]
    },
    {
     "name": "stderr",
     "output_type": "stream",
     "text": [
      "C:\\Users\\atpha\\AppData\\Local\\Temp\\ipykernel_21116\\657607755.py:51: FutureWarning: The frame.append method is deprecated and will be removed from pandas in a future version. Use pandas.concat instead.\n",
      "  df2 = df2.append({'building id' : building_id, 'fan/heating ratio' : load_heating_annual}, ignore_index = True)\n"
     ]
    },
    {
     "name": "stdout",
     "output_type": "stream",
     "text": [
      "0.09030849673690694 0.39825349607489596\n"
     ]
    },
    {
     "name": "stderr",
     "output_type": "stream",
     "text": [
      "C:\\Users\\atpha\\AppData\\Local\\Temp\\ipykernel_21116\\657607755.py:51: FutureWarning: The frame.append method is deprecated and will be removed from pandas in a future version. Use pandas.concat instead.\n",
      "  df2 = df2.append({'building id' : building_id, 'fan/heating ratio' : load_heating_annual}, ignore_index = True)\n"
     ]
    },
    {
     "name": "stdout",
     "output_type": "stream",
     "text": [
      "0.07005736081252667 0.3510241106826838\n"
     ]
    },
    {
     "name": "stderr",
     "output_type": "stream",
     "text": [
      "C:\\Users\\atpha\\AppData\\Local\\Temp\\ipykernel_21116\\657607755.py:51: FutureWarning: The frame.append method is deprecated and will be removed from pandas in a future version. Use pandas.concat instead.\n",
      "  df2 = df2.append({'building id' : building_id, 'fan/heating ratio' : load_heating_annual}, ignore_index = True)\n"
     ]
    },
    {
     "name": "stdout",
     "output_type": "stream",
     "text": [
      "0.06684986263460165 0.38940810861144437\n"
     ]
    },
    {
     "name": "stderr",
     "output_type": "stream",
     "text": [
      "C:\\Users\\atpha\\AppData\\Local\\Temp\\ipykernel_21116\\657607755.py:51: FutureWarning: The frame.append method is deprecated and will be removed from pandas in a future version. Use pandas.concat instead.\n",
      "  df2 = df2.append({'building id' : building_id, 'fan/heating ratio' : load_heating_annual}, ignore_index = True)\n"
     ]
    },
    {
     "name": "stdout",
     "output_type": "stream",
     "text": [
      "0.11356554838901489 0.39906956975828267\n"
     ]
    },
    {
     "name": "stderr",
     "output_type": "stream",
     "text": [
      "C:\\Users\\atpha\\AppData\\Local\\Temp\\ipykernel_21116\\657607755.py:51: FutureWarning: The frame.append method is deprecated and will be removed from pandas in a future version. Use pandas.concat instead.\n",
      "  df2 = df2.append({'building id' : building_id, 'fan/heating ratio' : load_heating_annual}, ignore_index = True)\n"
     ]
    },
    {
     "name": "stdout",
     "output_type": "stream",
     "text": [
      "0.08700723730308006 0.3980826498287485\n"
     ]
    },
    {
     "name": "stderr",
     "output_type": "stream",
     "text": [
      "C:\\Users\\atpha\\AppData\\Local\\Temp\\ipykernel_21116\\657607755.py:51: FutureWarning: The frame.append method is deprecated and will be removed from pandas in a future version. Use pandas.concat instead.\n",
      "  df2 = df2.append({'building id' : building_id, 'fan/heating ratio' : load_heating_annual}, ignore_index = True)\n"
     ]
    },
    {
     "name": "stdout",
     "output_type": "stream",
     "text": [
      "0.08264059615625347 0.395843368460883\n"
     ]
    },
    {
     "name": "stderr",
     "output_type": "stream",
     "text": [
      "C:\\Users\\atpha\\AppData\\Local\\Temp\\ipykernel_21116\\657607755.py:51: FutureWarning: The frame.append method is deprecated and will be removed from pandas in a future version. Use pandas.concat instead.\n",
      "  df2 = df2.append({'building id' : building_id, 'fan/heating ratio' : load_heating_annual}, ignore_index = True)\n"
     ]
    },
    {
     "name": "stdout",
     "output_type": "stream",
     "text": [
      "0.08389342172537619 0.3949167718443113\n"
     ]
    },
    {
     "name": "stderr",
     "output_type": "stream",
     "text": [
      "C:\\Users\\atpha\\AppData\\Local\\Temp\\ipykernel_21116\\657607755.py:51: FutureWarning: The frame.append method is deprecated and will be removed from pandas in a future version. Use pandas.concat instead.\n",
      "  df2 = df2.append({'building id' : building_id, 'fan/heating ratio' : load_heating_annual}, ignore_index = True)\n"
     ]
    },
    {
     "name": "stdout",
     "output_type": "stream",
     "text": [
      "0.08559012990684596 0.39756501432365504\n"
     ]
    },
    {
     "name": "stderr",
     "output_type": "stream",
     "text": [
      "C:\\Users\\atpha\\AppData\\Local\\Temp\\ipykernel_21116\\657607755.py:51: FutureWarning: The frame.append method is deprecated and will be removed from pandas in a future version. Use pandas.concat instead.\n",
      "  df2 = df2.append({'building id' : building_id, 'fan/heating ratio' : load_heating_annual}, ignore_index = True)\n"
     ]
    },
    {
     "name": "stdout",
     "output_type": "stream",
     "text": [
      "0.09011752144971205 0.4005621455946529\n"
     ]
    },
    {
     "name": "stderr",
     "output_type": "stream",
     "text": [
      "C:\\Users\\atpha\\AppData\\Local\\Temp\\ipykernel_21116\\657607755.py:51: FutureWarning: The frame.append method is deprecated and will be removed from pandas in a future version. Use pandas.concat instead.\n",
      "  df2 = df2.append({'building id' : building_id, 'fan/heating ratio' : load_heating_annual}, ignore_index = True)\n"
     ]
    },
    {
     "name": "stdout",
     "output_type": "stream",
     "text": [
      "0.09360620433744078 0.3946148666157706\n"
     ]
    },
    {
     "name": "stderr",
     "output_type": "stream",
     "text": [
      "C:\\Users\\atpha\\AppData\\Local\\Temp\\ipykernel_21116\\657607755.py:51: FutureWarning: The frame.append method is deprecated and will be removed from pandas in a future version. Use pandas.concat instead.\n",
      "  df2 = df2.append({'building id' : building_id, 'fan/heating ratio' : load_heating_annual}, ignore_index = True)\n"
     ]
    },
    {
     "name": "stdout",
     "output_type": "stream",
     "text": [
      "0.09909771065305409 0.33684825680312597\n"
     ]
    },
    {
     "name": "stderr",
     "output_type": "stream",
     "text": [
      "C:\\Users\\atpha\\AppData\\Local\\Temp\\ipykernel_21116\\657607755.py:51: FutureWarning: The frame.append method is deprecated and will be removed from pandas in a future version. Use pandas.concat instead.\n",
      "  df2 = df2.append({'building id' : building_id, 'fan/heating ratio' : load_heating_annual}, ignore_index = True)\n"
     ]
    },
    {
     "name": "stdout",
     "output_type": "stream",
     "text": [
      "0.09163858520513664 0.3951926656482948\n"
     ]
    },
    {
     "name": "stderr",
     "output_type": "stream",
     "text": [
      "C:\\Users\\atpha\\AppData\\Local\\Temp\\ipykernel_21116\\657607755.py:51: FutureWarning: The frame.append method is deprecated and will be removed from pandas in a future version. Use pandas.concat instead.\n",
      "  df2 = df2.append({'building id' : building_id, 'fan/heating ratio' : load_heating_annual}, ignore_index = True)\n"
     ]
    },
    {
     "name": "stdout",
     "output_type": "stream",
     "text": [
      "0.09547461024556 0.3975756174291411\n"
     ]
    },
    {
     "name": "stderr",
     "output_type": "stream",
     "text": [
      "C:\\Users\\atpha\\AppData\\Local\\Temp\\ipykernel_21116\\657607755.py:51: FutureWarning: The frame.append method is deprecated and will be removed from pandas in a future version. Use pandas.concat instead.\n",
      "  df2 = df2.append({'building id' : building_id, 'fan/heating ratio' : load_heating_annual}, ignore_index = True)\n"
     ]
    },
    {
     "name": "stdout",
     "output_type": "stream",
     "text": [
      "0.06432197315592242 0.32723713229497825\n"
     ]
    },
    {
     "name": "stderr",
     "output_type": "stream",
     "text": [
      "C:\\Users\\atpha\\AppData\\Local\\Temp\\ipykernel_21116\\657607755.py:51: FutureWarning: The frame.append method is deprecated and will be removed from pandas in a future version. Use pandas.concat instead.\n",
      "  df2 = df2.append({'building id' : building_id, 'fan/heating ratio' : load_heating_annual}, ignore_index = True)\n"
     ]
    },
    {
     "name": "stdout",
     "output_type": "stream",
     "text": [
      "0.08324278843977587 0.3961296934894817\n"
     ]
    },
    {
     "name": "stderr",
     "output_type": "stream",
     "text": [
      "C:\\Users\\atpha\\AppData\\Local\\Temp\\ipykernel_21116\\657607755.py:51: FutureWarning: The frame.append method is deprecated and will be removed from pandas in a future version. Use pandas.concat instead.\n",
      "  df2 = df2.append({'building id' : building_id, 'fan/heating ratio' : load_heating_annual}, ignore_index = True)\n"
     ]
    },
    {
     "name": "stdout",
     "output_type": "stream",
     "text": [
      "0.12150403453603012 0.3863285973216246\n"
     ]
    },
    {
     "name": "stderr",
     "output_type": "stream",
     "text": [
      "C:\\Users\\atpha\\AppData\\Local\\Temp\\ipykernel_21116\\657607755.py:51: FutureWarning: The frame.append method is deprecated and will be removed from pandas in a future version. Use pandas.concat instead.\n",
      "  df2 = df2.append({'building id' : building_id, 'fan/heating ratio' : load_heating_annual}, ignore_index = True)\n"
     ]
    },
    {
     "name": "stdout",
     "output_type": "stream",
     "text": [
      "0.09604408726088562 0.3988802103537412\n"
     ]
    },
    {
     "name": "stderr",
     "output_type": "stream",
     "text": [
      "C:\\Users\\atpha\\AppData\\Local\\Temp\\ipykernel_21116\\657607755.py:51: FutureWarning: The frame.append method is deprecated and will be removed from pandas in a future version. Use pandas.concat instead.\n",
      "  df2 = df2.append({'building id' : building_id, 'fan/heating ratio' : load_heating_annual}, ignore_index = True)\n"
     ]
    },
    {
     "name": "stdout",
     "output_type": "stream",
     "text": [
      "0.05928124173007046 0.3283157764483962\n"
     ]
    },
    {
     "name": "stderr",
     "output_type": "stream",
     "text": [
      "C:\\Users\\atpha\\AppData\\Local\\Temp\\ipykernel_21116\\657607755.py:51: FutureWarning: The frame.append method is deprecated and will be removed from pandas in a future version. Use pandas.concat instead.\n",
      "  df2 = df2.append({'building id' : building_id, 'fan/heating ratio' : load_heating_annual}, ignore_index = True)\n"
     ]
    },
    {
     "name": "stdout",
     "output_type": "stream",
     "text": [
      "0.09727929662384366 0.4030915712298751\n"
     ]
    },
    {
     "name": "stderr",
     "output_type": "stream",
     "text": [
      "C:\\Users\\atpha\\AppData\\Local\\Temp\\ipykernel_21116\\657607755.py:51: FutureWarning: The frame.append method is deprecated and will be removed from pandas in a future version. Use pandas.concat instead.\n",
      "  df2 = df2.append({'building id' : building_id, 'fan/heating ratio' : load_heating_annual}, ignore_index = True)\n"
     ]
    },
    {
     "name": "stdout",
     "output_type": "stream",
     "text": [
      "0.07083793694631585 0.4024752623004943\n"
     ]
    },
    {
     "name": "stderr",
     "output_type": "stream",
     "text": [
      "C:\\Users\\atpha\\AppData\\Local\\Temp\\ipykernel_21116\\657607755.py:51: FutureWarning: The frame.append method is deprecated and will be removed from pandas in a future version. Use pandas.concat instead.\n",
      "  df2 = df2.append({'building id' : building_id, 'fan/heating ratio' : load_heating_annual}, ignore_index = True)\n"
     ]
    },
    {
     "name": "stdout",
     "output_type": "stream",
     "text": [
      "0.0842026415540619 0.3956290398876125\n"
     ]
    },
    {
     "name": "stderr",
     "output_type": "stream",
     "text": [
      "C:\\Users\\atpha\\AppData\\Local\\Temp\\ipykernel_21116\\657607755.py:51: FutureWarning: The frame.append method is deprecated and will be removed from pandas in a future version. Use pandas.concat instead.\n",
      "  df2 = df2.append({'building id' : building_id, 'fan/heating ratio' : load_heating_annual}, ignore_index = True)\n"
     ]
    },
    {
     "name": "stdout",
     "output_type": "stream",
     "text": [
      "0.10363396261198882 0.40230703864217104\n"
     ]
    },
    {
     "name": "stderr",
     "output_type": "stream",
     "text": [
      "C:\\Users\\atpha\\AppData\\Local\\Temp\\ipykernel_21116\\657607755.py:51: FutureWarning: The frame.append method is deprecated and will be removed from pandas in a future version. Use pandas.concat instead.\n",
      "  df2 = df2.append({'building id' : building_id, 'fan/heating ratio' : load_heating_annual}, ignore_index = True)\n"
     ]
    },
    {
     "name": "stdout",
     "output_type": "stream",
     "text": [
      "0.07805926382156912 0.3966756607379308\n"
     ]
    },
    {
     "name": "stderr",
     "output_type": "stream",
     "text": [
      "C:\\Users\\atpha\\AppData\\Local\\Temp\\ipykernel_21116\\657607755.py:51: FutureWarning: The frame.append method is deprecated and will be removed from pandas in a future version. Use pandas.concat instead.\n",
      "  df2 = df2.append({'building id' : building_id, 'fan/heating ratio' : load_heating_annual}, ignore_index = True)\n"
     ]
    },
    {
     "name": "stdout",
     "output_type": "stream",
     "text": [
      "0.11618722790282182 0.39773298201389995\n"
     ]
    },
    {
     "name": "stderr",
     "output_type": "stream",
     "text": [
      "C:\\Users\\atpha\\AppData\\Local\\Temp\\ipykernel_21116\\657607755.py:51: FutureWarning: The frame.append method is deprecated and will be removed from pandas in a future version. Use pandas.concat instead.\n",
      "  df2 = df2.append({'building id' : building_id, 'fan/heating ratio' : load_heating_annual}, ignore_index = True)\n"
     ]
    },
    {
     "name": "stdout",
     "output_type": "stream",
     "text": [
      "0.10515119983340862 0.400042271159252\n"
     ]
    },
    {
     "name": "stderr",
     "output_type": "stream",
     "text": [
      "C:\\Users\\atpha\\AppData\\Local\\Temp\\ipykernel_21116\\657607755.py:51: FutureWarning: The frame.append method is deprecated and will be removed from pandas in a future version. Use pandas.concat instead.\n",
      "  df2 = df2.append({'building id' : building_id, 'fan/heating ratio' : load_heating_annual}, ignore_index = True)\n"
     ]
    },
    {
     "name": "stdout",
     "output_type": "stream",
     "text": [
      "0.09516690685521188 0.4009351574843865\n",
      "0.06992187389391992 0.39052109482837194\n"
     ]
    },
    {
     "name": "stderr",
     "output_type": "stream",
     "text": [
      "C:\\Users\\atpha\\AppData\\Local\\Temp\\ipykernel_21116\\657607755.py:51: FutureWarning: The frame.append method is deprecated and will be removed from pandas in a future version. Use pandas.concat instead.\n",
      "  df2 = df2.append({'building id' : building_id, 'fan/heating ratio' : load_heating_annual}, ignore_index = True)\n",
      "C:\\Users\\atpha\\AppData\\Local\\Temp\\ipykernel_21116\\657607755.py:51: FutureWarning: The frame.append method is deprecated and will be removed from pandas in a future version. Use pandas.concat instead.\n",
      "  df2 = df2.append({'building id' : building_id, 'fan/heating ratio' : load_heating_annual}, ignore_index = True)\n"
     ]
    },
    {
     "name": "stdout",
     "output_type": "stream",
     "text": [
      "0.11026476982769044 0.3970852344591024\n",
      "0.11189529884809886 0.39093330275717647\n"
     ]
    },
    {
     "name": "stderr",
     "output_type": "stream",
     "text": [
      "C:\\Users\\atpha\\AppData\\Local\\Temp\\ipykernel_21116\\657607755.py:51: FutureWarning: The frame.append method is deprecated and will be removed from pandas in a future version. Use pandas.concat instead.\n",
      "  df2 = df2.append({'building id' : building_id, 'fan/heating ratio' : load_heating_annual}, ignore_index = True)\n",
      "C:\\Users\\atpha\\AppData\\Local\\Temp\\ipykernel_21116\\657607755.py:51: FutureWarning: The frame.append method is deprecated and will be removed from pandas in a future version. Use pandas.concat instead.\n",
      "  df2 = df2.append({'building id' : building_id, 'fan/heating ratio' : load_heating_annual}, ignore_index = True)\n"
     ]
    },
    {
     "name": "stdout",
     "output_type": "stream",
     "text": [
      "0.12679735913380036 0.39778473422167643\n",
      "0.11115419065730588 0.39442005546073894\n"
     ]
    },
    {
     "name": "stderr",
     "output_type": "stream",
     "text": [
      "C:\\Users\\atpha\\AppData\\Local\\Temp\\ipykernel_21116\\657607755.py:51: FutureWarning: The frame.append method is deprecated and will be removed from pandas in a future version. Use pandas.concat instead.\n",
      "  df2 = df2.append({'building id' : building_id, 'fan/heating ratio' : load_heating_annual}, ignore_index = True)\n",
      "C:\\Users\\atpha\\AppData\\Local\\Temp\\ipykernel_21116\\657607755.py:51: FutureWarning: The frame.append method is deprecated and will be removed from pandas in a future version. Use pandas.concat instead.\n",
      "  df2 = df2.append({'building id' : building_id, 'fan/heating ratio' : load_heating_annual}, ignore_index = True)\n"
     ]
    },
    {
     "name": "stdout",
     "output_type": "stream",
     "text": [
      "0.05453512602689787 0.3947545877517502\n",
      "0.08715800143588442 0.3944372777930644\n"
     ]
    },
    {
     "name": "stderr",
     "output_type": "stream",
     "text": [
      "C:\\Users\\atpha\\AppData\\Local\\Temp\\ipykernel_21116\\657607755.py:51: FutureWarning: The frame.append method is deprecated and will be removed from pandas in a future version. Use pandas.concat instead.\n",
      "  df2 = df2.append({'building id' : building_id, 'fan/heating ratio' : load_heating_annual}, ignore_index = True)\n",
      "C:\\Users\\atpha\\AppData\\Local\\Temp\\ipykernel_21116\\657607755.py:51: FutureWarning: The frame.append method is deprecated and will be removed from pandas in a future version. Use pandas.concat instead.\n",
      "  df2 = df2.append({'building id' : building_id, 'fan/heating ratio' : load_heating_annual}, ignore_index = True)\n"
     ]
    },
    {
     "name": "stdout",
     "output_type": "stream",
     "text": [
      "0.07934664964120267 0.3950752653452424\n",
      "0.0759833453860128 0.39520428797789947\n"
     ]
    },
    {
     "name": "stderr",
     "output_type": "stream",
     "text": [
      "C:\\Users\\atpha\\AppData\\Local\\Temp\\ipykernel_21116\\657607755.py:51: FutureWarning: The frame.append method is deprecated and will be removed from pandas in a future version. Use pandas.concat instead.\n",
      "  df2 = df2.append({'building id' : building_id, 'fan/heating ratio' : load_heating_annual}, ignore_index = True)\n",
      "C:\\Users\\atpha\\AppData\\Local\\Temp\\ipykernel_21116\\657607755.py:51: FutureWarning: The frame.append method is deprecated and will be removed from pandas in a future version. Use pandas.concat instead.\n",
      "  df2 = df2.append({'building id' : building_id, 'fan/heating ratio' : load_heating_annual}, ignore_index = True)\n"
     ]
    },
    {
     "name": "stdout",
     "output_type": "stream",
     "text": [
      "0.0708970053595849 0.3917747698564189\n",
      "0.08468745026981525 0.39636808285185754\n"
     ]
    },
    {
     "name": "stderr",
     "output_type": "stream",
     "text": [
      "C:\\Users\\atpha\\AppData\\Local\\Temp\\ipykernel_21116\\657607755.py:51: FutureWarning: The frame.append method is deprecated and will be removed from pandas in a future version. Use pandas.concat instead.\n",
      "  df2 = df2.append({'building id' : building_id, 'fan/heating ratio' : load_heating_annual}, ignore_index = True)\n",
      "C:\\Users\\atpha\\AppData\\Local\\Temp\\ipykernel_21116\\657607755.py:51: FutureWarning: The frame.append method is deprecated and will be removed from pandas in a future version. Use pandas.concat instead.\n",
      "  df2 = df2.append({'building id' : building_id, 'fan/heating ratio' : load_heating_annual}, ignore_index = True)\n"
     ]
    },
    {
     "name": "stdout",
     "output_type": "stream",
     "text": [
      "0.07356709843805943 0.3312618431294485\n",
      "0.10870145009165293 0.40219480221241194\n"
     ]
    },
    {
     "name": "stderr",
     "output_type": "stream",
     "text": [
      "C:\\Users\\atpha\\AppData\\Local\\Temp\\ipykernel_21116\\657607755.py:51: FutureWarning: The frame.append method is deprecated and will be removed from pandas in a future version. Use pandas.concat instead.\n",
      "  df2 = df2.append({'building id' : building_id, 'fan/heating ratio' : load_heating_annual}, ignore_index = True)\n",
      "C:\\Users\\atpha\\AppData\\Local\\Temp\\ipykernel_21116\\657607755.py:51: FutureWarning: The frame.append method is deprecated and will be removed from pandas in a future version. Use pandas.concat instead.\n",
      "  df2 = df2.append({'building id' : building_id, 'fan/heating ratio' : load_heating_annual}, ignore_index = True)\n"
     ]
    },
    {
     "name": "stdout",
     "output_type": "stream",
     "text": [
      "0.06532866130714364 0.3908999747995525\n",
      "0.07650320798897423 0.39637151641591245\n"
     ]
    },
    {
     "name": "stderr",
     "output_type": "stream",
     "text": [
      "C:\\Users\\atpha\\AppData\\Local\\Temp\\ipykernel_21116\\657607755.py:51: FutureWarning: The frame.append method is deprecated and will be removed from pandas in a future version. Use pandas.concat instead.\n",
      "  df2 = df2.append({'building id' : building_id, 'fan/heating ratio' : load_heating_annual}, ignore_index = True)\n",
      "C:\\Users\\atpha\\AppData\\Local\\Temp\\ipykernel_21116\\657607755.py:51: FutureWarning: The frame.append method is deprecated and will be removed from pandas in a future version. Use pandas.concat instead.\n",
      "  df2 = df2.append({'building id' : building_id, 'fan/heating ratio' : load_heating_annual}, ignore_index = True)\n"
     ]
    },
    {
     "name": "stdout",
     "output_type": "stream",
     "text": [
      "0.11034569937268997 0.39826803594091376\n",
      "0.11534991089143805 0.3974542448195832\n"
     ]
    },
    {
     "name": "stderr",
     "output_type": "stream",
     "text": [
      "C:\\Users\\atpha\\AppData\\Local\\Temp\\ipykernel_21116\\657607755.py:51: FutureWarning: The frame.append method is deprecated and will be removed from pandas in a future version. Use pandas.concat instead.\n",
      "  df2 = df2.append({'building id' : building_id, 'fan/heating ratio' : load_heating_annual}, ignore_index = True)\n",
      "C:\\Users\\atpha\\AppData\\Local\\Temp\\ipykernel_21116\\657607755.py:51: FutureWarning: The frame.append method is deprecated and will be removed from pandas in a future version. Use pandas.concat instead.\n",
      "  df2 = df2.append({'building id' : building_id, 'fan/heating ratio' : load_heating_annual}, ignore_index = True)\n"
     ]
    },
    {
     "name": "stdout",
     "output_type": "stream",
     "text": [
      "0.06995480930265341 0.39710243651925736\n",
      "0.07657768331221439 0.39035023714112255\n"
     ]
    },
    {
     "name": "stderr",
     "output_type": "stream",
     "text": [
      "C:\\Users\\atpha\\AppData\\Local\\Temp\\ipykernel_21116\\657607755.py:51: FutureWarning: The frame.append method is deprecated and will be removed from pandas in a future version. Use pandas.concat instead.\n",
      "  df2 = df2.append({'building id' : building_id, 'fan/heating ratio' : load_heating_annual}, ignore_index = True)\n",
      "C:\\Users\\atpha\\AppData\\Local\\Temp\\ipykernel_21116\\657607755.py:51: FutureWarning: The frame.append method is deprecated and will be removed from pandas in a future version. Use pandas.concat instead.\n",
      "  df2 = df2.append({'building id' : building_id, 'fan/heating ratio' : load_heating_annual}, ignore_index = True)\n"
     ]
    },
    {
     "name": "stdout",
     "output_type": "stream",
     "text": [
      "0.0741881196050685 0.3912542669428902\n",
      "0.08923966887749 0.3963447042846277\n"
     ]
    },
    {
     "name": "stderr",
     "output_type": "stream",
     "text": [
      "C:\\Users\\atpha\\AppData\\Local\\Temp\\ipykernel_21116\\657607755.py:51: FutureWarning: The frame.append method is deprecated and will be removed from pandas in a future version. Use pandas.concat instead.\n",
      "  df2 = df2.append({'building id' : building_id, 'fan/heating ratio' : load_heating_annual}, ignore_index = True)\n",
      "C:\\Users\\atpha\\AppData\\Local\\Temp\\ipykernel_21116\\657607755.py:51: FutureWarning: The frame.append method is deprecated and will be removed from pandas in a future version. Use pandas.concat instead.\n",
      "  df2 = df2.append({'building id' : building_id, 'fan/heating ratio' : load_heating_annual}, ignore_index = True)\n"
     ]
    },
    {
     "name": "stdout",
     "output_type": "stream",
     "text": [
      "0.07466711982756813 0.3916084497459476\n",
      "0.09880857710555281 0.39789312845593955\n"
     ]
    },
    {
     "name": "stderr",
     "output_type": "stream",
     "text": [
      "C:\\Users\\atpha\\AppData\\Local\\Temp\\ipykernel_21116\\657607755.py:51: FutureWarning: The frame.append method is deprecated and will be removed from pandas in a future version. Use pandas.concat instead.\n",
      "  df2 = df2.append({'building id' : building_id, 'fan/heating ratio' : load_heating_annual}, ignore_index = True)\n",
      "C:\\Users\\atpha\\AppData\\Local\\Temp\\ipykernel_21116\\657607755.py:51: FutureWarning: The frame.append method is deprecated and will be removed from pandas in a future version. Use pandas.concat instead.\n",
      "  df2 = df2.append({'building id' : building_id, 'fan/heating ratio' : load_heating_annual}, ignore_index = True)\n"
     ]
    },
    {
     "name": "stdout",
     "output_type": "stream",
     "text": [
      "0.0714561135339546 0.3940410283337598\n",
      "0.06435196274514814 0.3228589429335868\n"
     ]
    },
    {
     "name": "stderr",
     "output_type": "stream",
     "text": [
      "C:\\Users\\atpha\\AppData\\Local\\Temp\\ipykernel_21116\\657607755.py:51: FutureWarning: The frame.append method is deprecated and will be removed from pandas in a future version. Use pandas.concat instead.\n",
      "  df2 = df2.append({'building id' : building_id, 'fan/heating ratio' : load_heating_annual}, ignore_index = True)\n",
      "C:\\Users\\atpha\\AppData\\Local\\Temp\\ipykernel_21116\\657607755.py:51: FutureWarning: The frame.append method is deprecated and will be removed from pandas in a future version. Use pandas.concat instead.\n",
      "  df2 = df2.append({'building id' : building_id, 'fan/heating ratio' : load_heating_annual}, ignore_index = True)\n"
     ]
    },
    {
     "name": "stdout",
     "output_type": "stream",
     "text": [
      "0.10941450163889008 0.4031090382719371\n"
     ]
    },
    {
     "name": "stderr",
     "output_type": "stream",
     "text": [
      "C:\\Users\\atpha\\AppData\\Local\\Temp\\ipykernel_21116\\657607755.py:51: FutureWarning: The frame.append method is deprecated and will be removed from pandas in a future version. Use pandas.concat instead.\n",
      "  df2 = df2.append({'building id' : building_id, 'fan/heating ratio' : load_heating_annual}, ignore_index = True)\n"
     ]
    },
    {
     "name": "stdout",
     "output_type": "stream",
     "text": [
      "0.104007230475172 0.39693358457250466\n"
     ]
    },
    {
     "name": "stderr",
     "output_type": "stream",
     "text": [
      "C:\\Users\\atpha\\AppData\\Local\\Temp\\ipykernel_21116\\657607755.py:51: FutureWarning: The frame.append method is deprecated and will be removed from pandas in a future version. Use pandas.concat instead.\n",
      "  df2 = df2.append({'building id' : building_id, 'fan/heating ratio' : load_heating_annual}, ignore_index = True)\n"
     ]
    },
    {
     "name": "stdout",
     "output_type": "stream",
     "text": [
      "0.12873099332278864 0.4035644409141226\n",
      "0.06568071049219713 0.3882053383031322\n"
     ]
    },
    {
     "name": "stderr",
     "output_type": "stream",
     "text": [
      "C:\\Users\\atpha\\AppData\\Local\\Temp\\ipykernel_21116\\657607755.py:51: FutureWarning: The frame.append method is deprecated and will be removed from pandas in a future version. Use pandas.concat instead.\n",
      "  df2 = df2.append({'building id' : building_id, 'fan/heating ratio' : load_heating_annual}, ignore_index = True)\n",
      "C:\\Users\\atpha\\AppData\\Local\\Temp\\ipykernel_21116\\657607755.py:51: FutureWarning: The frame.append method is deprecated and will be removed from pandas in a future version. Use pandas.concat instead.\n",
      "  df2 = df2.append({'building id' : building_id, 'fan/heating ratio' : load_heating_annual}, ignore_index = True)\n"
     ]
    },
    {
     "name": "stdout",
     "output_type": "stream",
     "text": [
      "0.06737103056397933 0.39140233879855263\n"
     ]
    },
    {
     "name": "stderr",
     "output_type": "stream",
     "text": [
      "C:\\Users\\atpha\\AppData\\Local\\Temp\\ipykernel_21116\\657607755.py:51: FutureWarning: The frame.append method is deprecated and will be removed from pandas in a future version. Use pandas.concat instead.\n",
      "  df2 = df2.append({'building id' : building_id, 'fan/heating ratio' : load_heating_annual}, ignore_index = True)\n"
     ]
    },
    {
     "name": "stdout",
     "output_type": "stream",
     "text": [
      "0.08340640466298352 0.3908131602763087\n"
     ]
    },
    {
     "name": "stderr",
     "output_type": "stream",
     "text": [
      "C:\\Users\\atpha\\AppData\\Local\\Temp\\ipykernel_21116\\657607755.py:51: FutureWarning: The frame.append method is deprecated and will be removed from pandas in a future version. Use pandas.concat instead.\n",
      "  df2 = df2.append({'building id' : building_id, 'fan/heating ratio' : load_heating_annual}, ignore_index = True)\n"
     ]
    },
    {
     "name": "stdout",
     "output_type": "stream",
     "text": [
      "0.08088612587650083 0.3932557037661143\n"
     ]
    },
    {
     "name": "stderr",
     "output_type": "stream",
     "text": [
      "C:\\Users\\atpha\\AppData\\Local\\Temp\\ipykernel_21116\\657607755.py:51: FutureWarning: The frame.append method is deprecated and will be removed from pandas in a future version. Use pandas.concat instead.\n",
      "  df2 = df2.append({'building id' : building_id, 'fan/heating ratio' : load_heating_annual}, ignore_index = True)\n"
     ]
    },
    {
     "name": "stdout",
     "output_type": "stream",
     "text": [
      "0.06328065539623742 0.39509328660967\n"
     ]
    },
    {
     "name": "stderr",
     "output_type": "stream",
     "text": [
      "C:\\Users\\atpha\\AppData\\Local\\Temp\\ipykernel_21116\\657607755.py:51: FutureWarning: The frame.append method is deprecated and will be removed from pandas in a future version. Use pandas.concat instead.\n",
      "  df2 = df2.append({'building id' : building_id, 'fan/heating ratio' : load_heating_annual}, ignore_index = True)\n"
     ]
    },
    {
     "name": "stdout",
     "output_type": "stream",
     "text": [
      "0.07695856385543356 0.39543145853989153\n"
     ]
    },
    {
     "name": "stderr",
     "output_type": "stream",
     "text": [
      "C:\\Users\\atpha\\AppData\\Local\\Temp\\ipykernel_21116\\657607755.py:51: FutureWarning: The frame.append method is deprecated and will be removed from pandas in a future version. Use pandas.concat instead.\n",
      "  df2 = df2.append({'building id' : building_id, 'fan/heating ratio' : load_heating_annual}, ignore_index = True)\n"
     ]
    },
    {
     "name": "stdout",
     "output_type": "stream",
     "text": [
      "0.09442810607617405 0.3970530874543506\n"
     ]
    },
    {
     "name": "stderr",
     "output_type": "stream",
     "text": [
      "C:\\Users\\atpha\\AppData\\Local\\Temp\\ipykernel_21116\\657607755.py:51: FutureWarning: The frame.append method is deprecated and will be removed from pandas in a future version. Use pandas.concat instead.\n",
      "  df2 = df2.append({'building id' : building_id, 'fan/heating ratio' : load_heating_annual}, ignore_index = True)\n"
     ]
    },
    {
     "name": "stdout",
     "output_type": "stream",
     "text": [
      "0.08165624712057781 0.3927358333316818\n"
     ]
    },
    {
     "name": "stderr",
     "output_type": "stream",
     "text": [
      "C:\\Users\\atpha\\AppData\\Local\\Temp\\ipykernel_21116\\657607755.py:51: FutureWarning: The frame.append method is deprecated and will be removed from pandas in a future version. Use pandas.concat instead.\n",
      "  df2 = df2.append({'building id' : building_id, 'fan/heating ratio' : load_heating_annual}, ignore_index = True)\n"
     ]
    },
    {
     "name": "stdout",
     "output_type": "stream",
     "text": [
      "0.08899498284494523 0.39565353470770154\n"
     ]
    },
    {
     "name": "stderr",
     "output_type": "stream",
     "text": [
      "C:\\Users\\atpha\\AppData\\Local\\Temp\\ipykernel_21116\\657607755.py:51: FutureWarning: The frame.append method is deprecated and will be removed from pandas in a future version. Use pandas.concat instead.\n",
      "  df2 = df2.append({'building id' : building_id, 'fan/heating ratio' : load_heating_annual}, ignore_index = True)\n"
     ]
    },
    {
     "name": "stdout",
     "output_type": "stream",
     "text": [
      "0.07202845304148354 0.393340243915951\n"
     ]
    },
    {
     "name": "stderr",
     "output_type": "stream",
     "text": [
      "C:\\Users\\atpha\\AppData\\Local\\Temp\\ipykernel_21116\\657607755.py:51: FutureWarning: The frame.append method is deprecated and will be removed from pandas in a future version. Use pandas.concat instead.\n",
      "  df2 = df2.append({'building id' : building_id, 'fan/heating ratio' : load_heating_annual}, ignore_index = True)\n"
     ]
    },
    {
     "name": "stdout",
     "output_type": "stream",
     "text": [
      "0.08522953885670187 0.3975095008271167\n"
     ]
    },
    {
     "name": "stderr",
     "output_type": "stream",
     "text": [
      "C:\\Users\\atpha\\AppData\\Local\\Temp\\ipykernel_21116\\657607755.py:51: FutureWarning: The frame.append method is deprecated and will be removed from pandas in a future version. Use pandas.concat instead.\n",
      "  df2 = df2.append({'building id' : building_id, 'fan/heating ratio' : load_heating_annual}, ignore_index = True)\n"
     ]
    },
    {
     "name": "stdout",
     "output_type": "stream",
     "text": [
      "0.05672546214410126 0.321856739424167\n"
     ]
    },
    {
     "name": "stderr",
     "output_type": "stream",
     "text": [
      "C:\\Users\\atpha\\AppData\\Local\\Temp\\ipykernel_21116\\657607755.py:51: FutureWarning: The frame.append method is deprecated and will be removed from pandas in a future version. Use pandas.concat instead.\n",
      "  df2 = df2.append({'building id' : building_id, 'fan/heating ratio' : load_heating_annual}, ignore_index = True)\n"
     ]
    },
    {
     "name": "stdout",
     "output_type": "stream",
     "text": [
      "0.07142028070007851 0.3894513977235777\n"
     ]
    },
    {
     "name": "stderr",
     "output_type": "stream",
     "text": [
      "C:\\Users\\atpha\\AppData\\Local\\Temp\\ipykernel_21116\\657607755.py:51: FutureWarning: The frame.append method is deprecated and will be removed from pandas in a future version. Use pandas.concat instead.\n",
      "  df2 = df2.append({'building id' : building_id, 'fan/heating ratio' : load_heating_annual}, ignore_index = True)\n"
     ]
    },
    {
     "name": "stdout",
     "output_type": "stream",
     "text": [
      "0.056609927822861277 0.31985206490068346\n"
     ]
    },
    {
     "name": "stderr",
     "output_type": "stream",
     "text": [
      "C:\\Users\\atpha\\AppData\\Local\\Temp\\ipykernel_21116\\657607755.py:51: FutureWarning: The frame.append method is deprecated and will be removed from pandas in a future version. Use pandas.concat instead.\n",
      "  df2 = df2.append({'building id' : building_id, 'fan/heating ratio' : load_heating_annual}, ignore_index = True)\n"
     ]
    },
    {
     "name": "stdout",
     "output_type": "stream",
     "text": [
      "0.09765239252896221 0.3980583860605854\n"
     ]
    },
    {
     "name": "stderr",
     "output_type": "stream",
     "text": [
      "C:\\Users\\atpha\\AppData\\Local\\Temp\\ipykernel_21116\\657607755.py:51: FutureWarning: The frame.append method is deprecated and will be removed from pandas in a future version. Use pandas.concat instead.\n",
      "  df2 = df2.append({'building id' : building_id, 'fan/heating ratio' : load_heating_annual}, ignore_index = True)\n"
     ]
    },
    {
     "name": "stdout",
     "output_type": "stream",
     "text": [
      "0.058104702934707556 0.39162453985459017\n"
     ]
    },
    {
     "name": "stderr",
     "output_type": "stream",
     "text": [
      "C:\\Users\\atpha\\AppData\\Local\\Temp\\ipykernel_21116\\657607755.py:51: FutureWarning: The frame.append method is deprecated and will be removed from pandas in a future version. Use pandas.concat instead.\n",
      "  df2 = df2.append({'building id' : building_id, 'fan/heating ratio' : load_heating_annual}, ignore_index = True)\n"
     ]
    },
    {
     "name": "stdout",
     "output_type": "stream",
     "text": [
      "0.09845396046442084 0.39469340049013407\n",
      "0.09556307276551372 0.3956694988439078\n"
     ]
    },
    {
     "name": "stderr",
     "output_type": "stream",
     "text": [
      "C:\\Users\\atpha\\AppData\\Local\\Temp\\ipykernel_21116\\657607755.py:51: FutureWarning: The frame.append method is deprecated and will be removed from pandas in a future version. Use pandas.concat instead.\n",
      "  df2 = df2.append({'building id' : building_id, 'fan/heating ratio' : load_heating_annual}, ignore_index = True)\n",
      "C:\\Users\\atpha\\AppData\\Local\\Temp\\ipykernel_21116\\657607755.py:51: FutureWarning: The frame.append method is deprecated and will be removed from pandas in a future version. Use pandas.concat instead.\n",
      "  df2 = df2.append({'building id' : building_id, 'fan/heating ratio' : load_heating_annual}, ignore_index = True)\n"
     ]
    },
    {
     "name": "stdout",
     "output_type": "stream",
     "text": [
      "0.07635855692412596 0.3983019168757512\n"
     ]
    },
    {
     "name": "stderr",
     "output_type": "stream",
     "text": [
      "C:\\Users\\atpha\\AppData\\Local\\Temp\\ipykernel_21116\\657607755.py:51: FutureWarning: The frame.append method is deprecated and will be removed from pandas in a future version. Use pandas.concat instead.\n",
      "  df2 = df2.append({'building id' : building_id, 'fan/heating ratio' : load_heating_annual}, ignore_index = True)\n"
     ]
    },
    {
     "name": "stdout",
     "output_type": "stream",
     "text": [
      "0.07226210384537007 0.40169828655678746\n"
     ]
    },
    {
     "name": "stderr",
     "output_type": "stream",
     "text": [
      "C:\\Users\\atpha\\AppData\\Local\\Temp\\ipykernel_21116\\657607755.py:51: FutureWarning: The frame.append method is deprecated and will be removed from pandas in a future version. Use pandas.concat instead.\n",
      "  df2 = df2.append({'building id' : building_id, 'fan/heating ratio' : load_heating_annual}, ignore_index = True)\n"
     ]
    },
    {
     "name": "stdout",
     "output_type": "stream",
     "text": [
      "0.07125556847251412 0.39093844922001797\n"
     ]
    },
    {
     "name": "stderr",
     "output_type": "stream",
     "text": [
      "C:\\Users\\atpha\\AppData\\Local\\Temp\\ipykernel_21116\\657607755.py:51: FutureWarning: The frame.append method is deprecated and will be removed from pandas in a future version. Use pandas.concat instead.\n",
      "  df2 = df2.append({'building id' : building_id, 'fan/heating ratio' : load_heating_annual}, ignore_index = True)\n"
     ]
    },
    {
     "name": "stdout",
     "output_type": "stream",
     "text": [
      "0.07917519034201366 0.38971593402328275\n",
      "0.08674693714368607 0.3968481776484117\n"
     ]
    },
    {
     "name": "stderr",
     "output_type": "stream",
     "text": [
      "C:\\Users\\atpha\\AppData\\Local\\Temp\\ipykernel_21116\\657607755.py:51: FutureWarning: The frame.append method is deprecated and will be removed from pandas in a future version. Use pandas.concat instead.\n",
      "  df2 = df2.append({'building id' : building_id, 'fan/heating ratio' : load_heating_annual}, ignore_index = True)\n",
      "C:\\Users\\atpha\\AppData\\Local\\Temp\\ipykernel_21116\\657607755.py:51: FutureWarning: The frame.append method is deprecated and will be removed from pandas in a future version. Use pandas.concat instead.\n",
      "  df2 = df2.append({'building id' : building_id, 'fan/heating ratio' : load_heating_annual}, ignore_index = True)\n"
     ]
    },
    {
     "name": "stdout",
     "output_type": "stream",
     "text": [
      "0.10630502203377162 0.3969851213232875\n"
     ]
    },
    {
     "name": "stderr",
     "output_type": "stream",
     "text": [
      "C:\\Users\\atpha\\AppData\\Local\\Temp\\ipykernel_21116\\657607755.py:51: FutureWarning: The frame.append method is deprecated and will be removed from pandas in a future version. Use pandas.concat instead.\n",
      "  df2 = df2.append({'building id' : building_id, 'fan/heating ratio' : load_heating_annual}, ignore_index = True)\n"
     ]
    },
    {
     "name": "stdout",
     "output_type": "stream",
     "text": [
      "0.1119963599860691 0.39760261060955787\n"
     ]
    },
    {
     "name": "stderr",
     "output_type": "stream",
     "text": [
      "C:\\Users\\atpha\\AppData\\Local\\Temp\\ipykernel_21116\\657607755.py:51: FutureWarning: The frame.append method is deprecated and will be removed from pandas in a future version. Use pandas.concat instead.\n",
      "  df2 = df2.append({'building id' : building_id, 'fan/heating ratio' : load_heating_annual}, ignore_index = True)\n"
     ]
    },
    {
     "name": "stdout",
     "output_type": "stream",
     "text": [
      "0.08536214266634476 0.3959409329514316\n"
     ]
    },
    {
     "name": "stderr",
     "output_type": "stream",
     "text": [
      "C:\\Users\\atpha\\AppData\\Local\\Temp\\ipykernel_21116\\657607755.py:51: FutureWarning: The frame.append method is deprecated and will be removed from pandas in a future version. Use pandas.concat instead.\n",
      "  df2 = df2.append({'building id' : building_id, 'fan/heating ratio' : load_heating_annual}, ignore_index = True)\n"
     ]
    },
    {
     "name": "stdout",
     "output_type": "stream",
     "text": [
      "0.1195557336425886 0.40006677599247703\n"
     ]
    },
    {
     "name": "stderr",
     "output_type": "stream",
     "text": [
      "C:\\Users\\atpha\\AppData\\Local\\Temp\\ipykernel_21116\\657607755.py:51: FutureWarning: The frame.append method is deprecated and will be removed from pandas in a future version. Use pandas.concat instead.\n",
      "  df2 = df2.append({'building id' : building_id, 'fan/heating ratio' : load_heating_annual}, ignore_index = True)\n"
     ]
    },
    {
     "name": "stdout",
     "output_type": "stream",
     "text": [
      "0.06619667922336823 0.3936968389325372\n"
     ]
    },
    {
     "name": "stderr",
     "output_type": "stream",
     "text": [
      "C:\\Users\\atpha\\AppData\\Local\\Temp\\ipykernel_21116\\657607755.py:51: FutureWarning: The frame.append method is deprecated and will be removed from pandas in a future version. Use pandas.concat instead.\n",
      "  df2 = df2.append({'building id' : building_id, 'fan/heating ratio' : load_heating_annual}, ignore_index = True)\n"
     ]
    },
    {
     "name": "stdout",
     "output_type": "stream",
     "text": [
      "0.06817852173461204 0.321649984457925\n"
     ]
    },
    {
     "name": "stderr",
     "output_type": "stream",
     "text": [
      "C:\\Users\\atpha\\AppData\\Local\\Temp\\ipykernel_21116\\657607755.py:51: FutureWarning: The frame.append method is deprecated and will be removed from pandas in a future version. Use pandas.concat instead.\n",
      "  df2 = df2.append({'building id' : building_id, 'fan/heating ratio' : load_heating_annual}, ignore_index = True)\n"
     ]
    },
    {
     "name": "stdout",
     "output_type": "stream",
     "text": [
      "0.09058184605204342 0.3965446541471292\n"
     ]
    },
    {
     "name": "stderr",
     "output_type": "stream",
     "text": [
      "C:\\Users\\atpha\\AppData\\Local\\Temp\\ipykernel_21116\\657607755.py:51: FutureWarning: The frame.append method is deprecated and will be removed from pandas in a future version. Use pandas.concat instead.\n",
      "  df2 = df2.append({'building id' : building_id, 'fan/heating ratio' : load_heating_annual}, ignore_index = True)\n"
     ]
    },
    {
     "name": "stdout",
     "output_type": "stream",
     "text": [
      "0.10597361295865373 0.3991027743417451\n"
     ]
    },
    {
     "name": "stderr",
     "output_type": "stream",
     "text": [
      "C:\\Users\\atpha\\AppData\\Local\\Temp\\ipykernel_21116\\657607755.py:51: FutureWarning: The frame.append method is deprecated and will be removed from pandas in a future version. Use pandas.concat instead.\n",
      "  df2 = df2.append({'building id' : building_id, 'fan/heating ratio' : load_heating_annual}, ignore_index = True)\n"
     ]
    },
    {
     "name": "stdout",
     "output_type": "stream",
     "text": [
      "0.0667932207343357 0.3190751940842219\n"
     ]
    },
    {
     "name": "stderr",
     "output_type": "stream",
     "text": [
      "C:\\Users\\atpha\\AppData\\Local\\Temp\\ipykernel_21116\\657607755.py:51: FutureWarning: The frame.append method is deprecated and will be removed from pandas in a future version. Use pandas.concat instead.\n",
      "  df2 = df2.append({'building id' : building_id, 'fan/heating ratio' : load_heating_annual}, ignore_index = True)\n"
     ]
    },
    {
     "name": "stdout",
     "output_type": "stream",
     "text": [
      "0.12189341109787466 0.36064044720847294\n"
     ]
    },
    {
     "name": "stderr",
     "output_type": "stream",
     "text": [
      "C:\\Users\\atpha\\AppData\\Local\\Temp\\ipykernel_21116\\657607755.py:51: FutureWarning: The frame.append method is deprecated and will be removed from pandas in a future version. Use pandas.concat instead.\n",
      "  df2 = df2.append({'building id' : building_id, 'fan/heating ratio' : load_heating_annual}, ignore_index = True)\n"
     ]
    },
    {
     "name": "stdout",
     "output_type": "stream",
     "text": [
      "0.08956324665070893 0.3965133586749652\n"
     ]
    },
    {
     "name": "stderr",
     "output_type": "stream",
     "text": [
      "C:\\Users\\atpha\\AppData\\Local\\Temp\\ipykernel_21116\\657607755.py:51: FutureWarning: The frame.append method is deprecated and will be removed from pandas in a future version. Use pandas.concat instead.\n",
      "  df2 = df2.append({'building id' : building_id, 'fan/heating ratio' : load_heating_annual}, ignore_index = True)\n"
     ]
    },
    {
     "name": "stdout",
     "output_type": "stream",
     "text": [
      "0.06683897605584571 0.39093711503916184\n"
     ]
    },
    {
     "name": "stderr",
     "output_type": "stream",
     "text": [
      "C:\\Users\\atpha\\AppData\\Local\\Temp\\ipykernel_21116\\657607755.py:51: FutureWarning: The frame.append method is deprecated and will be removed from pandas in a future version. Use pandas.concat instead.\n",
      "  df2 = df2.append({'building id' : building_id, 'fan/heating ratio' : load_heating_annual}, ignore_index = True)\n"
     ]
    },
    {
     "name": "stdout",
     "output_type": "stream",
     "text": [
      "0.11294129685846165 0.402588846132158\n"
     ]
    },
    {
     "name": "stderr",
     "output_type": "stream",
     "text": [
      "C:\\Users\\atpha\\AppData\\Local\\Temp\\ipykernel_21116\\657607755.py:51: FutureWarning: The frame.append method is deprecated and will be removed from pandas in a future version. Use pandas.concat instead.\n",
      "  df2 = df2.append({'building id' : building_id, 'fan/heating ratio' : load_heating_annual}, ignore_index = True)\n"
     ]
    },
    {
     "name": "stdout",
     "output_type": "stream",
     "text": [
      "0.1426852840453627 0.3965812098101711\n"
     ]
    },
    {
     "name": "stderr",
     "output_type": "stream",
     "text": [
      "C:\\Users\\atpha\\AppData\\Local\\Temp\\ipykernel_21116\\657607755.py:51: FutureWarning: The frame.append method is deprecated and will be removed from pandas in a future version. Use pandas.concat instead.\n",
      "  df2 = df2.append({'building id' : building_id, 'fan/heating ratio' : load_heating_annual}, ignore_index = True)\n"
     ]
    },
    {
     "name": "stdout",
     "output_type": "stream",
     "text": [
      "0.08529329508203813 0.4003688770027991\n"
     ]
    },
    {
     "name": "stderr",
     "output_type": "stream",
     "text": [
      "C:\\Users\\atpha\\AppData\\Local\\Temp\\ipykernel_21116\\657607755.py:51: FutureWarning: The frame.append method is deprecated and will be removed from pandas in a future version. Use pandas.concat instead.\n",
      "  df2 = df2.append({'building id' : building_id, 'fan/heating ratio' : load_heating_annual}, ignore_index = True)\n"
     ]
    },
    {
     "name": "stdout",
     "output_type": "stream",
     "text": [
      "0.06185267873957268 0.37666244428551765\n"
     ]
    },
    {
     "name": "stderr",
     "output_type": "stream",
     "text": [
      "C:\\Users\\atpha\\AppData\\Local\\Temp\\ipykernel_21116\\657607755.py:51: FutureWarning: The frame.append method is deprecated and will be removed from pandas in a future version. Use pandas.concat instead.\n",
      "  df2 = df2.append({'building id' : building_id, 'fan/heating ratio' : load_heating_annual}, ignore_index = True)\n"
     ]
    },
    {
     "name": "stdout",
     "output_type": "stream",
     "text": [
      "0.0681543011609364 0.3969135029523796\n"
     ]
    },
    {
     "name": "stderr",
     "output_type": "stream",
     "text": [
      "C:\\Users\\atpha\\AppData\\Local\\Temp\\ipykernel_21116\\657607755.py:51: FutureWarning: The frame.append method is deprecated and will be removed from pandas in a future version. Use pandas.concat instead.\n",
      "  df2 = df2.append({'building id' : building_id, 'fan/heating ratio' : load_heating_annual}, ignore_index = True)\n"
     ]
    },
    {
     "name": "stdout",
     "output_type": "stream",
     "text": [
      "0.07059561949381461 0.39053155369481124\n"
     ]
    },
    {
     "name": "stderr",
     "output_type": "stream",
     "text": [
      "C:\\Users\\atpha\\AppData\\Local\\Temp\\ipykernel_21116\\657607755.py:51: FutureWarning: The frame.append method is deprecated and will be removed from pandas in a future version. Use pandas.concat instead.\n",
      "  df2 = df2.append({'building id' : building_id, 'fan/heating ratio' : load_heating_annual}, ignore_index = True)\n"
     ]
    },
    {
     "name": "stdout",
     "output_type": "stream",
     "text": [
      "0.10470954397067281 0.39495709363509646\n"
     ]
    },
    {
     "name": "stderr",
     "output_type": "stream",
     "text": [
      "C:\\Users\\atpha\\AppData\\Local\\Temp\\ipykernel_21116\\657607755.py:51: FutureWarning: The frame.append method is deprecated and will be removed from pandas in a future version. Use pandas.concat instead.\n",
      "  df2 = df2.append({'building id' : building_id, 'fan/heating ratio' : load_heating_annual}, ignore_index = True)\n"
     ]
    },
    {
     "name": "stdout",
     "output_type": "stream",
     "text": [
      "0.08197369642526764 0.3938073788997685\n"
     ]
    },
    {
     "name": "stderr",
     "output_type": "stream",
     "text": [
      "C:\\Users\\atpha\\AppData\\Local\\Temp\\ipykernel_21116\\657607755.py:51: FutureWarning: The frame.append method is deprecated and will be removed from pandas in a future version. Use pandas.concat instead.\n",
      "  df2 = df2.append({'building id' : building_id, 'fan/heating ratio' : load_heating_annual}, ignore_index = True)\n"
     ]
    },
    {
     "name": "stdout",
     "output_type": "stream",
     "text": [
      "0.08129152869254302 0.391174679006498\n"
     ]
    },
    {
     "name": "stderr",
     "output_type": "stream",
     "text": [
      "C:\\Users\\atpha\\AppData\\Local\\Temp\\ipykernel_21116\\657607755.py:51: FutureWarning: The frame.append method is deprecated and will be removed from pandas in a future version. Use pandas.concat instead.\n",
      "  df2 = df2.append({'building id' : building_id, 'fan/heating ratio' : load_heating_annual}, ignore_index = True)\n"
     ]
    },
    {
     "name": "stdout",
     "output_type": "stream",
     "text": [
      "0.05566648830163734 0.3211774421103549\n"
     ]
    },
    {
     "name": "stderr",
     "output_type": "stream",
     "text": [
      "C:\\Users\\atpha\\AppData\\Local\\Temp\\ipykernel_21116\\657607755.py:51: FutureWarning: The frame.append method is deprecated and will be removed from pandas in a future version. Use pandas.concat instead.\n",
      "  df2 = df2.append({'building id' : building_id, 'fan/heating ratio' : load_heating_annual}, ignore_index = True)\n"
     ]
    },
    {
     "name": "stdout",
     "output_type": "stream",
     "text": [
      "0.07803370226737581 0.39587429502176447\n"
     ]
    },
    {
     "name": "stderr",
     "output_type": "stream",
     "text": [
      "C:\\Users\\atpha\\AppData\\Local\\Temp\\ipykernel_21116\\657607755.py:51: FutureWarning: The frame.append method is deprecated and will be removed from pandas in a future version. Use pandas.concat instead.\n",
      "  df2 = df2.append({'building id' : building_id, 'fan/heating ratio' : load_heating_annual}, ignore_index = True)\n"
     ]
    },
    {
     "name": "stdout",
     "output_type": "stream",
     "text": [
      "0.10030026857737352 0.39760102944658937\n"
     ]
    },
    {
     "name": "stderr",
     "output_type": "stream",
     "text": [
      "C:\\Users\\atpha\\AppData\\Local\\Temp\\ipykernel_21116\\657607755.py:51: FutureWarning: The frame.append method is deprecated and will be removed from pandas in a future version. Use pandas.concat instead.\n",
      "  df2 = df2.append({'building id' : building_id, 'fan/heating ratio' : load_heating_annual}, ignore_index = True)\n"
     ]
    },
    {
     "name": "stdout",
     "output_type": "stream",
     "text": [
      "0.07826489737368833 0.3960194922768181\n"
     ]
    },
    {
     "name": "stderr",
     "output_type": "stream",
     "text": [
      "C:\\Users\\atpha\\AppData\\Local\\Temp\\ipykernel_21116\\657607755.py:51: FutureWarning: The frame.append method is deprecated and will be removed from pandas in a future version. Use pandas.concat instead.\n",
      "  df2 = df2.append({'building id' : building_id, 'fan/heating ratio' : load_heating_annual}, ignore_index = True)\n"
     ]
    },
    {
     "name": "stdout",
     "output_type": "stream",
     "text": [
      "0.10725717013231115 0.3975968290171828\n"
     ]
    },
    {
     "name": "stderr",
     "output_type": "stream",
     "text": [
      "C:\\Users\\atpha\\AppData\\Local\\Temp\\ipykernel_21116\\657607755.py:51: FutureWarning: The frame.append method is deprecated and will be removed from pandas in a future version. Use pandas.concat instead.\n",
      "  df2 = df2.append({'building id' : building_id, 'fan/heating ratio' : load_heating_annual}, ignore_index = True)\n"
     ]
    },
    {
     "name": "stdout",
     "output_type": "stream",
     "text": [
      "0.08882242197654962 0.3954266008512657\n",
      "0.06303255367276858 0.39071242356999675\n"
     ]
    },
    {
     "name": "stderr",
     "output_type": "stream",
     "text": [
      "C:\\Users\\atpha\\AppData\\Local\\Temp\\ipykernel_21116\\657607755.py:51: FutureWarning: The frame.append method is deprecated and will be removed from pandas in a future version. Use pandas.concat instead.\n",
      "  df2 = df2.append({'building id' : building_id, 'fan/heating ratio' : load_heating_annual}, ignore_index = True)\n",
      "C:\\Users\\atpha\\AppData\\Local\\Temp\\ipykernel_21116\\657607755.py:51: FutureWarning: The frame.append method is deprecated and will be removed from pandas in a future version. Use pandas.concat instead.\n",
      "  df2 = df2.append({'building id' : building_id, 'fan/heating ratio' : load_heating_annual}, ignore_index = True)\n"
     ]
    },
    {
     "name": "stdout",
     "output_type": "stream",
     "text": [
      "0.17717784196353512 0.39171406268059655\n",
      "0.09435280633139778 0.4001278202857189\n"
     ]
    },
    {
     "name": "stderr",
     "output_type": "stream",
     "text": [
      "C:\\Users\\atpha\\AppData\\Local\\Temp\\ipykernel_21116\\657607755.py:51: FutureWarning: The frame.append method is deprecated and will be removed from pandas in a future version. Use pandas.concat instead.\n",
      "  df2 = df2.append({'building id' : building_id, 'fan/heating ratio' : load_heating_annual}, ignore_index = True)\n",
      "C:\\Users\\atpha\\AppData\\Local\\Temp\\ipykernel_21116\\657607755.py:51: FutureWarning: The frame.append method is deprecated and will be removed from pandas in a future version. Use pandas.concat instead.\n",
      "  df2 = df2.append({'building id' : building_id, 'fan/heating ratio' : load_heating_annual}, ignore_index = True)\n"
     ]
    },
    {
     "name": "stdout",
     "output_type": "stream",
     "text": [
      "0.12325143814878367 0.3996389276118086\n",
      "0.08301967938788399 0.3749986638142262\n"
     ]
    },
    {
     "name": "stderr",
     "output_type": "stream",
     "text": [
      "C:\\Users\\atpha\\AppData\\Local\\Temp\\ipykernel_21116\\657607755.py:51: FutureWarning: The frame.append method is deprecated and will be removed from pandas in a future version. Use pandas.concat instead.\n",
      "  df2 = df2.append({'building id' : building_id, 'fan/heating ratio' : load_heating_annual}, ignore_index = True)\n",
      "C:\\Users\\atpha\\AppData\\Local\\Temp\\ipykernel_21116\\657607755.py:51: FutureWarning: The frame.append method is deprecated and will be removed from pandas in a future version. Use pandas.concat instead.\n",
      "  df2 = df2.append({'building id' : building_id, 'fan/heating ratio' : load_heating_annual}, ignore_index = True)\n"
     ]
    },
    {
     "name": "stdout",
     "output_type": "stream",
     "text": [
      "0.08198934223109289 0.3947453673972595\n"
     ]
    },
    {
     "name": "stderr",
     "output_type": "stream",
     "text": [
      "C:\\Users\\atpha\\AppData\\Local\\Temp\\ipykernel_21116\\657607755.py:51: FutureWarning: The frame.append method is deprecated and will be removed from pandas in a future version. Use pandas.concat instead.\n",
      "  df2 = df2.append({'building id' : building_id, 'fan/heating ratio' : load_heating_annual}, ignore_index = True)\n"
     ]
    },
    {
     "name": "stdout",
     "output_type": "stream",
     "text": [
      "0.07412999373527451 0.39687362980391877\n"
     ]
    },
    {
     "name": "stderr",
     "output_type": "stream",
     "text": [
      "C:\\Users\\atpha\\AppData\\Local\\Temp\\ipykernel_21116\\657607755.py:51: FutureWarning: The frame.append method is deprecated and will be removed from pandas in a future version. Use pandas.concat instead.\n",
      "  df2 = df2.append({'building id' : building_id, 'fan/heating ratio' : load_heating_annual}, ignore_index = True)\n"
     ]
    },
    {
     "name": "stdout",
     "output_type": "stream",
     "text": [
      "0.09632666217431841 0.4010918961699865\n"
     ]
    },
    {
     "name": "stderr",
     "output_type": "stream",
     "text": [
      "C:\\Users\\atpha\\AppData\\Local\\Temp\\ipykernel_21116\\657607755.py:51: FutureWarning: The frame.append method is deprecated and will be removed from pandas in a future version. Use pandas.concat instead.\n",
      "  df2 = df2.append({'building id' : building_id, 'fan/heating ratio' : load_heating_annual}, ignore_index = True)\n"
     ]
    },
    {
     "name": "stdout",
     "output_type": "stream",
     "text": [
      "0.13741037759645003 0.39358788683901286\n"
     ]
    },
    {
     "name": "stderr",
     "output_type": "stream",
     "text": [
      "C:\\Users\\atpha\\AppData\\Local\\Temp\\ipykernel_21116\\657607755.py:51: FutureWarning: The frame.append method is deprecated and will be removed from pandas in a future version. Use pandas.concat instead.\n",
      "  df2 = df2.append({'building id' : building_id, 'fan/heating ratio' : load_heating_annual}, ignore_index = True)\n"
     ]
    },
    {
     "name": "stdout",
     "output_type": "stream",
     "text": [
      "0.09144839985258528 0.39287881767212596\n"
     ]
    },
    {
     "name": "stderr",
     "output_type": "stream",
     "text": [
      "C:\\Users\\atpha\\AppData\\Local\\Temp\\ipykernel_21116\\657607755.py:51: FutureWarning: The frame.append method is deprecated and will be removed from pandas in a future version. Use pandas.concat instead.\n",
      "  df2 = df2.append({'building id' : building_id, 'fan/heating ratio' : load_heating_annual}, ignore_index = True)\n"
     ]
    },
    {
     "name": "stdout",
     "output_type": "stream",
     "text": [
      "0.10002636404301758 0.3611939512476702\n"
     ]
    },
    {
     "name": "stderr",
     "output_type": "stream",
     "text": [
      "C:\\Users\\atpha\\AppData\\Local\\Temp\\ipykernel_21116\\657607755.py:51: FutureWarning: The frame.append method is deprecated and will be removed from pandas in a future version. Use pandas.concat instead.\n",
      "  df2 = df2.append({'building id' : building_id, 'fan/heating ratio' : load_heating_annual}, ignore_index = True)\n"
     ]
    },
    {
     "name": "stdout",
     "output_type": "stream",
     "text": [
      "0.08641427779584875 0.32748626507611844\n"
     ]
    },
    {
     "name": "stderr",
     "output_type": "stream",
     "text": [
      "C:\\Users\\atpha\\AppData\\Local\\Temp\\ipykernel_21116\\657607755.py:51: FutureWarning: The frame.append method is deprecated and will be removed from pandas in a future version. Use pandas.concat instead.\n",
      "  df2 = df2.append({'building id' : building_id, 'fan/heating ratio' : load_heating_annual}, ignore_index = True)\n"
     ]
    },
    {
     "name": "stdout",
     "output_type": "stream",
     "text": [
      "0.06812791222524174 0.3233827344646191\n"
     ]
    },
    {
     "name": "stderr",
     "output_type": "stream",
     "text": [
      "C:\\Users\\atpha\\AppData\\Local\\Temp\\ipykernel_21116\\657607755.py:51: FutureWarning: The frame.append method is deprecated and will be removed from pandas in a future version. Use pandas.concat instead.\n",
      "  df2 = df2.append({'building id' : building_id, 'fan/heating ratio' : load_heating_annual}, ignore_index = True)\n"
     ]
    },
    {
     "name": "stdout",
     "output_type": "stream",
     "text": [
      "0.06413564768905292 0.39726876694974855\n"
     ]
    },
    {
     "name": "stderr",
     "output_type": "stream",
     "text": [
      "C:\\Users\\atpha\\AppData\\Local\\Temp\\ipykernel_21116\\657607755.py:51: FutureWarning: The frame.append method is deprecated and will be removed from pandas in a future version. Use pandas.concat instead.\n",
      "  df2 = df2.append({'building id' : building_id, 'fan/heating ratio' : load_heating_annual}, ignore_index = True)\n"
     ]
    },
    {
     "name": "stdout",
     "output_type": "stream",
     "text": [
      "0.06583511662003304 0.3801359134004217\n",
      "0.07727363260744202 0.39336454072571875\n"
     ]
    },
    {
     "name": "stderr",
     "output_type": "stream",
     "text": [
      "C:\\Users\\atpha\\AppData\\Local\\Temp\\ipykernel_21116\\657607755.py:51: FutureWarning: The frame.append method is deprecated and will be removed from pandas in a future version. Use pandas.concat instead.\n",
      "  df2 = df2.append({'building id' : building_id, 'fan/heating ratio' : load_heating_annual}, ignore_index = True)\n",
      "C:\\Users\\atpha\\AppData\\Local\\Temp\\ipykernel_21116\\657607755.py:51: FutureWarning: The frame.append method is deprecated and will be removed from pandas in a future version. Use pandas.concat instead.\n",
      "  df2 = df2.append({'building id' : building_id, 'fan/heating ratio' : load_heating_annual}, ignore_index = True)\n"
     ]
    },
    {
     "name": "stdout",
     "output_type": "stream",
     "text": [
      "0.09279115484153731 0.3990861602136685\n",
      "0.07174135597309433 0.3918627335053732\n"
     ]
    },
    {
     "name": "stderr",
     "output_type": "stream",
     "text": [
      "C:\\Users\\atpha\\AppData\\Local\\Temp\\ipykernel_21116\\657607755.py:51: FutureWarning: The frame.append method is deprecated and will be removed from pandas in a future version. Use pandas.concat instead.\n",
      "  df2 = df2.append({'building id' : building_id, 'fan/heating ratio' : load_heating_annual}, ignore_index = True)\n",
      "C:\\Users\\atpha\\AppData\\Local\\Temp\\ipykernel_21116\\657607755.py:51: FutureWarning: The frame.append method is deprecated and will be removed from pandas in a future version. Use pandas.concat instead.\n",
      "  df2 = df2.append({'building id' : building_id, 'fan/heating ratio' : load_heating_annual}, ignore_index = True)\n"
     ]
    },
    {
     "name": "stdout",
     "output_type": "stream",
     "text": [
      "0.08227445418014598 0.39570415635485434\n",
      "0.0631397926218883 0.3917418929761154\n"
     ]
    },
    {
     "name": "stderr",
     "output_type": "stream",
     "text": [
      "C:\\Users\\atpha\\AppData\\Local\\Temp\\ipykernel_21116\\657607755.py:51: FutureWarning: The frame.append method is deprecated and will be removed from pandas in a future version. Use pandas.concat instead.\n",
      "  df2 = df2.append({'building id' : building_id, 'fan/heating ratio' : load_heating_annual}, ignore_index = True)\n",
      "C:\\Users\\atpha\\AppData\\Local\\Temp\\ipykernel_21116\\657607755.py:51: FutureWarning: The frame.append method is deprecated and will be removed from pandas in a future version. Use pandas.concat instead.\n",
      "  df2 = df2.append({'building id' : building_id, 'fan/heating ratio' : load_heating_annual}, ignore_index = True)\n"
     ]
    },
    {
     "name": "stdout",
     "output_type": "stream",
     "text": [
      "0.07409427082141874 0.3241222092906589\n",
      "0.1921381783400868 0.3928638415980836\n"
     ]
    },
    {
     "name": "stderr",
     "output_type": "stream",
     "text": [
      "C:\\Users\\atpha\\AppData\\Local\\Temp\\ipykernel_21116\\657607755.py:51: FutureWarning: The frame.append method is deprecated and will be removed from pandas in a future version. Use pandas.concat instead.\n",
      "  df2 = df2.append({'building id' : building_id, 'fan/heating ratio' : load_heating_annual}, ignore_index = True)\n",
      "C:\\Users\\atpha\\AppData\\Local\\Temp\\ipykernel_21116\\657607755.py:51: FutureWarning: The frame.append method is deprecated and will be removed from pandas in a future version. Use pandas.concat instead.\n",
      "  df2 = df2.append({'building id' : building_id, 'fan/heating ratio' : load_heating_annual}, ignore_index = True)\n"
     ]
    },
    {
     "name": "stdout",
     "output_type": "stream",
     "text": [
      "0.0821708038140562 0.3926888725905682\n"
     ]
    },
    {
     "name": "stderr",
     "output_type": "stream",
     "text": [
      "C:\\Users\\atpha\\AppData\\Local\\Temp\\ipykernel_21116\\657607755.py:51: FutureWarning: The frame.append method is deprecated and will be removed from pandas in a future version. Use pandas.concat instead.\n",
      "  df2 = df2.append({'building id' : building_id, 'fan/heating ratio' : load_heating_annual}, ignore_index = True)\n"
     ]
    },
    {
     "name": "stdout",
     "output_type": "stream",
     "text": [
      "0.07787069602299898 0.3962971936181278\n"
     ]
    },
    {
     "name": "stderr",
     "output_type": "stream",
     "text": [
      "C:\\Users\\atpha\\AppData\\Local\\Temp\\ipykernel_21116\\657607755.py:51: FutureWarning: The frame.append method is deprecated and will be removed from pandas in a future version. Use pandas.concat instead.\n",
      "  df2 = df2.append({'building id' : building_id, 'fan/heating ratio' : load_heating_annual}, ignore_index = True)\n"
     ]
    },
    {
     "name": "stdout",
     "output_type": "stream",
     "text": [
      "0.06882731312227172 0.35007552825753313\n"
     ]
    },
    {
     "name": "stderr",
     "output_type": "stream",
     "text": [
      "C:\\Users\\atpha\\AppData\\Local\\Temp\\ipykernel_21116\\657607755.py:51: FutureWarning: The frame.append method is deprecated and will be removed from pandas in a future version. Use pandas.concat instead.\n",
      "  df2 = df2.append({'building id' : building_id, 'fan/heating ratio' : load_heating_annual}, ignore_index = True)\n"
     ]
    },
    {
     "name": "stdout",
     "output_type": "stream",
     "text": [
      "0.08871900940231178 0.3970416274727828\n"
     ]
    },
    {
     "name": "stderr",
     "output_type": "stream",
     "text": [
      "C:\\Users\\atpha\\AppData\\Local\\Temp\\ipykernel_21116\\657607755.py:51: FutureWarning: The frame.append method is deprecated and will be removed from pandas in a future version. Use pandas.concat instead.\n",
      "  df2 = df2.append({'building id' : building_id, 'fan/heating ratio' : load_heating_annual}, ignore_index = True)\n"
     ]
    },
    {
     "name": "stdout",
     "output_type": "stream",
     "text": [
      "0.0727409919571163 0.39498651642247234\n"
     ]
    },
    {
     "name": "stderr",
     "output_type": "stream",
     "text": [
      "C:\\Users\\atpha\\AppData\\Local\\Temp\\ipykernel_21116\\657607755.py:51: FutureWarning: The frame.append method is deprecated and will be removed from pandas in a future version. Use pandas.concat instead.\n",
      "  df2 = df2.append({'building id' : building_id, 'fan/heating ratio' : load_heating_annual}, ignore_index = True)\n"
     ]
    },
    {
     "name": "stdout",
     "output_type": "stream",
     "text": [
      "0.06416184615029052 0.3245476026555531\n"
     ]
    },
    {
     "name": "stderr",
     "output_type": "stream",
     "text": [
      "C:\\Users\\atpha\\AppData\\Local\\Temp\\ipykernel_21116\\657607755.py:51: FutureWarning: The frame.append method is deprecated and will be removed from pandas in a future version. Use pandas.concat instead.\n",
      "  df2 = df2.append({'building id' : building_id, 'fan/heating ratio' : load_heating_annual}, ignore_index = True)\n"
     ]
    },
    {
     "name": "stdout",
     "output_type": "stream",
     "text": [
      "0.0709548603460856 0.40060322252034203\n"
     ]
    },
    {
     "name": "stderr",
     "output_type": "stream",
     "text": [
      "C:\\Users\\atpha\\AppData\\Local\\Temp\\ipykernel_21116\\657607755.py:51: FutureWarning: The frame.append method is deprecated and will be removed from pandas in a future version. Use pandas.concat instead.\n",
      "  df2 = df2.append({'building id' : building_id, 'fan/heating ratio' : load_heating_annual}, ignore_index = True)\n"
     ]
    },
    {
     "name": "stdout",
     "output_type": "stream",
     "text": [
      "0.16270064147728347 0.395128725693691\n"
     ]
    },
    {
     "name": "stderr",
     "output_type": "stream",
     "text": [
      "C:\\Users\\atpha\\AppData\\Local\\Temp\\ipykernel_21116\\657607755.py:51: FutureWarning: The frame.append method is deprecated and will be removed from pandas in a future version. Use pandas.concat instead.\n",
      "  df2 = df2.append({'building id' : building_id, 'fan/heating ratio' : load_heating_annual}, ignore_index = True)\n"
     ]
    },
    {
     "name": "stdout",
     "output_type": "stream",
     "text": [
      "0.0883916523684318 0.40015233930234856\n"
     ]
    },
    {
     "name": "stderr",
     "output_type": "stream",
     "text": [
      "C:\\Users\\atpha\\AppData\\Local\\Temp\\ipykernel_21116\\657607755.py:51: FutureWarning: The frame.append method is deprecated and will be removed from pandas in a future version. Use pandas.concat instead.\n",
      "  df2 = df2.append({'building id' : building_id, 'fan/heating ratio' : load_heating_annual}, ignore_index = True)\n"
     ]
    },
    {
     "name": "stdout",
     "output_type": "stream",
     "text": [
      "0.06356262012687074 0.39985671956268276\n"
     ]
    },
    {
     "name": "stderr",
     "output_type": "stream",
     "text": [
      "C:\\Users\\atpha\\AppData\\Local\\Temp\\ipykernel_21116\\657607755.py:51: FutureWarning: The frame.append method is deprecated and will be removed from pandas in a future version. Use pandas.concat instead.\n",
      "  df2 = df2.append({'building id' : building_id, 'fan/heating ratio' : load_heating_annual}, ignore_index = True)\n"
     ]
    },
    {
     "name": "stdout",
     "output_type": "stream",
     "text": [
      "0.11260636890642699 0.40332510549015094\n"
     ]
    },
    {
     "name": "stderr",
     "output_type": "stream",
     "text": [
      "C:\\Users\\atpha\\AppData\\Local\\Temp\\ipykernel_21116\\657607755.py:51: FutureWarning: The frame.append method is deprecated and will be removed from pandas in a future version. Use pandas.concat instead.\n",
      "  df2 = df2.append({'building id' : building_id, 'fan/heating ratio' : load_heating_annual}, ignore_index = True)\n"
     ]
    },
    {
     "name": "stdout",
     "output_type": "stream",
     "text": [
      "0.07938052977572371 0.3895318217751371\n"
     ]
    },
    {
     "name": "stderr",
     "output_type": "stream",
     "text": [
      "C:\\Users\\atpha\\AppData\\Local\\Temp\\ipykernel_21116\\657607755.py:51: FutureWarning: The frame.append method is deprecated and will be removed from pandas in a future version. Use pandas.concat instead.\n",
      "  df2 = df2.append({'building id' : building_id, 'fan/heating ratio' : load_heating_annual}, ignore_index = True)\n"
     ]
    },
    {
     "name": "stdout",
     "output_type": "stream",
     "text": [
      "0.057150095941748906 0.32738996536122494\n"
     ]
    },
    {
     "name": "stderr",
     "output_type": "stream",
     "text": [
      "C:\\Users\\atpha\\AppData\\Local\\Temp\\ipykernel_21116\\657607755.py:51: FutureWarning: The frame.append method is deprecated and will be removed from pandas in a future version. Use pandas.concat instead.\n",
      "  df2 = df2.append({'building id' : building_id, 'fan/heating ratio' : load_heating_annual}, ignore_index = True)\n"
     ]
    },
    {
     "name": "stdout",
     "output_type": "stream",
     "text": [
      "0.07059031968919571 0.39399455508987336\n"
     ]
    },
    {
     "name": "stderr",
     "output_type": "stream",
     "text": [
      "C:\\Users\\atpha\\AppData\\Local\\Temp\\ipykernel_21116\\657607755.py:51: FutureWarning: The frame.append method is deprecated and will be removed from pandas in a future version. Use pandas.concat instead.\n",
      "  df2 = df2.append({'building id' : building_id, 'fan/heating ratio' : load_heating_annual}, ignore_index = True)\n"
     ]
    },
    {
     "name": "stdout",
     "output_type": "stream",
     "text": [
      "0.07871970020748158 0.39393365969779937\n"
     ]
    },
    {
     "name": "stderr",
     "output_type": "stream",
     "text": [
      "C:\\Users\\atpha\\AppData\\Local\\Temp\\ipykernel_21116\\657607755.py:51: FutureWarning: The frame.append method is deprecated and will be removed from pandas in a future version. Use pandas.concat instead.\n",
      "  df2 = df2.append({'building id' : building_id, 'fan/heating ratio' : load_heating_annual}, ignore_index = True)\n"
     ]
    },
    {
     "name": "stdout",
     "output_type": "stream",
     "text": [
      "0.09087012099523438 0.39728479104988595\n"
     ]
    },
    {
     "name": "stderr",
     "output_type": "stream",
     "text": [
      "C:\\Users\\atpha\\AppData\\Local\\Temp\\ipykernel_21116\\657607755.py:51: FutureWarning: The frame.append method is deprecated and will be removed from pandas in a future version. Use pandas.concat instead.\n",
      "  df2 = df2.append({'building id' : building_id, 'fan/heating ratio' : load_heating_annual}, ignore_index = True)\n"
     ]
    },
    {
     "name": "stdout",
     "output_type": "stream",
     "text": [
      "0.08282065008598234 0.39708040659508914\n"
     ]
    },
    {
     "name": "stderr",
     "output_type": "stream",
     "text": [
      "C:\\Users\\atpha\\AppData\\Local\\Temp\\ipykernel_21116\\657607755.py:51: FutureWarning: The frame.append method is deprecated and will be removed from pandas in a future version. Use pandas.concat instead.\n",
      "  df2 = df2.append({'building id' : building_id, 'fan/heating ratio' : load_heating_annual}, ignore_index = True)\n"
     ]
    },
    {
     "name": "stdout",
     "output_type": "stream",
     "text": [
      "0.08456028275047281 0.40277639463438364\n"
     ]
    },
    {
     "name": "stderr",
     "output_type": "stream",
     "text": [
      "C:\\Users\\atpha\\AppData\\Local\\Temp\\ipykernel_21116\\657607755.py:51: FutureWarning: The frame.append method is deprecated and will be removed from pandas in a future version. Use pandas.concat instead.\n",
      "  df2 = df2.append({'building id' : building_id, 'fan/heating ratio' : load_heating_annual}, ignore_index = True)\n"
     ]
    },
    {
     "name": "stdout",
     "output_type": "stream",
     "text": [
      "0.0738527528332909 0.3937528625380138\n"
     ]
    },
    {
     "name": "stderr",
     "output_type": "stream",
     "text": [
      "C:\\Users\\atpha\\AppData\\Local\\Temp\\ipykernel_21116\\657607755.py:51: FutureWarning: The frame.append method is deprecated and will be removed from pandas in a future version. Use pandas.concat instead.\n",
      "  df2 = df2.append({'building id' : building_id, 'fan/heating ratio' : load_heating_annual}, ignore_index = True)\n"
     ]
    },
    {
     "name": "stdout",
     "output_type": "stream",
     "text": [
      "0.04719977190600456 0.3253110544738809\n"
     ]
    },
    {
     "name": "stderr",
     "output_type": "stream",
     "text": [
      "C:\\Users\\atpha\\AppData\\Local\\Temp\\ipykernel_21116\\657607755.py:51: FutureWarning: The frame.append method is deprecated and will be removed from pandas in a future version. Use pandas.concat instead.\n",
      "  df2 = df2.append({'building id' : building_id, 'fan/heating ratio' : load_heating_annual}, ignore_index = True)\n"
     ]
    },
    {
     "name": "stdout",
     "output_type": "stream",
     "text": [
      "0.1399088485580187 0.33900876765214205\n"
     ]
    },
    {
     "name": "stderr",
     "output_type": "stream",
     "text": [
      "C:\\Users\\atpha\\AppData\\Local\\Temp\\ipykernel_21116\\657607755.py:51: FutureWarning: The frame.append method is deprecated and will be removed from pandas in a future version. Use pandas.concat instead.\n",
      "  df2 = df2.append({'building id' : building_id, 'fan/heating ratio' : load_heating_annual}, ignore_index = True)\n"
     ]
    },
    {
     "name": "stdout",
     "output_type": "stream",
     "text": [
      "0.10509707649696692 0.40131943141212056\n"
     ]
    },
    {
     "name": "stderr",
     "output_type": "stream",
     "text": [
      "C:\\Users\\atpha\\AppData\\Local\\Temp\\ipykernel_21116\\657607755.py:51: FutureWarning: The frame.append method is deprecated and will be removed from pandas in a future version. Use pandas.concat instead.\n",
      "  df2 = df2.append({'building id' : building_id, 'fan/heating ratio' : load_heating_annual}, ignore_index = True)\n"
     ]
    },
    {
     "name": "stdout",
     "output_type": "stream",
     "text": [
      "0.06457401559624243 0.3953397605141519\n"
     ]
    },
    {
     "name": "stderr",
     "output_type": "stream",
     "text": [
      "C:\\Users\\atpha\\AppData\\Local\\Temp\\ipykernel_21116\\657607755.py:51: FutureWarning: The frame.append method is deprecated and will be removed from pandas in a future version. Use pandas.concat instead.\n",
      "  df2 = df2.append({'building id' : building_id, 'fan/heating ratio' : load_heating_annual}, ignore_index = True)\n"
     ]
    },
    {
     "name": "stdout",
     "output_type": "stream",
     "text": [
      "0.09949245013281936 0.40361691352375456\n"
     ]
    },
    {
     "name": "stderr",
     "output_type": "stream",
     "text": [
      "C:\\Users\\atpha\\AppData\\Local\\Temp\\ipykernel_21116\\657607755.py:51: FutureWarning: The frame.append method is deprecated and will be removed from pandas in a future version. Use pandas.concat instead.\n",
      "  df2 = df2.append({'building id' : building_id, 'fan/heating ratio' : load_heating_annual}, ignore_index = True)\n"
     ]
    },
    {
     "name": "stdout",
     "output_type": "stream",
     "text": [
      "0.05719918290002206 0.3230508864057759\n"
     ]
    },
    {
     "name": "stderr",
     "output_type": "stream",
     "text": [
      "C:\\Users\\atpha\\AppData\\Local\\Temp\\ipykernel_21116\\657607755.py:51: FutureWarning: The frame.append method is deprecated and will be removed from pandas in a future version. Use pandas.concat instead.\n",
      "  df2 = df2.append({'building id' : building_id, 'fan/heating ratio' : load_heating_annual}, ignore_index = True)\n"
     ]
    },
    {
     "name": "stdout",
     "output_type": "stream",
     "text": [
      "0.10584545865843581 0.3955725947132019\n"
     ]
    },
    {
     "name": "stderr",
     "output_type": "stream",
     "text": [
      "C:\\Users\\atpha\\AppData\\Local\\Temp\\ipykernel_21116\\657607755.py:51: FutureWarning: The frame.append method is deprecated and will be removed from pandas in a future version. Use pandas.concat instead.\n",
      "  df2 = df2.append({'building id' : building_id, 'fan/heating ratio' : load_heating_annual}, ignore_index = True)\n"
     ]
    },
    {
     "name": "stdout",
     "output_type": "stream",
     "text": [
      "0.06345038418319451 0.3213491950819567\n"
     ]
    },
    {
     "name": "stderr",
     "output_type": "stream",
     "text": [
      "C:\\Users\\atpha\\AppData\\Local\\Temp\\ipykernel_21116\\657607755.py:51: FutureWarning: The frame.append method is deprecated and will be removed from pandas in a future version. Use pandas.concat instead.\n",
      "  df2 = df2.append({'building id' : building_id, 'fan/heating ratio' : load_heating_annual}, ignore_index = True)\n"
     ]
    },
    {
     "name": "stdout",
     "output_type": "stream",
     "text": [
      "0.07332265147942339 0.39778647296026126\n"
     ]
    },
    {
     "name": "stderr",
     "output_type": "stream",
     "text": [
      "C:\\Users\\atpha\\AppData\\Local\\Temp\\ipykernel_21116\\657607755.py:51: FutureWarning: The frame.append method is deprecated and will be removed from pandas in a future version. Use pandas.concat instead.\n",
      "  df2 = df2.append({'building id' : building_id, 'fan/heating ratio' : load_heating_annual}, ignore_index = True)\n"
     ]
    },
    {
     "name": "stdout",
     "output_type": "stream",
     "text": [
      "0.09080266843232218 0.3960719000786632\n"
     ]
    },
    {
     "name": "stderr",
     "output_type": "stream",
     "text": [
      "C:\\Users\\atpha\\AppData\\Local\\Temp\\ipykernel_21116\\657607755.py:51: FutureWarning: The frame.append method is deprecated and will be removed from pandas in a future version. Use pandas.concat instead.\n",
      "  df2 = df2.append({'building id' : building_id, 'fan/heating ratio' : load_heating_annual}, ignore_index = True)\n"
     ]
    },
    {
     "name": "stdout",
     "output_type": "stream",
     "text": [
      "0.07577475091545481 0.3899917835641757\n"
     ]
    },
    {
     "name": "stderr",
     "output_type": "stream",
     "text": [
      "C:\\Users\\atpha\\AppData\\Local\\Temp\\ipykernel_21116\\657607755.py:51: FutureWarning: The frame.append method is deprecated and will be removed from pandas in a future version. Use pandas.concat instead.\n",
      "  df2 = df2.append({'building id' : building_id, 'fan/heating ratio' : load_heating_annual}, ignore_index = True)\n"
     ]
    },
    {
     "name": "stdout",
     "output_type": "stream",
     "text": [
      "0.08354356014547436 0.3954995941969495\n"
     ]
    },
    {
     "name": "stderr",
     "output_type": "stream",
     "text": [
      "C:\\Users\\atpha\\AppData\\Local\\Temp\\ipykernel_21116\\657607755.py:51: FutureWarning: The frame.append method is deprecated and will be removed from pandas in a future version. Use pandas.concat instead.\n",
      "  df2 = df2.append({'building id' : building_id, 'fan/heating ratio' : load_heating_annual}, ignore_index = True)\n"
     ]
    },
    {
     "name": "stdout",
     "output_type": "stream",
     "text": [
      "0.0821743756574999 0.32684856959048286\n"
     ]
    },
    {
     "name": "stderr",
     "output_type": "stream",
     "text": [
      "C:\\Users\\atpha\\AppData\\Local\\Temp\\ipykernel_21116\\657607755.py:51: FutureWarning: The frame.append method is deprecated and will be removed from pandas in a future version. Use pandas.concat instead.\n",
      "  df2 = df2.append({'building id' : building_id, 'fan/heating ratio' : load_heating_annual}, ignore_index = True)\n"
     ]
    },
    {
     "name": "stdout",
     "output_type": "stream",
     "text": [
      "0.0782543463133886 0.3969211219632159\n"
     ]
    },
    {
     "name": "stderr",
     "output_type": "stream",
     "text": [
      "C:\\Users\\atpha\\AppData\\Local\\Temp\\ipykernel_21116\\657607755.py:51: FutureWarning: The frame.append method is deprecated and will be removed from pandas in a future version. Use pandas.concat instead.\n",
      "  df2 = df2.append({'building id' : building_id, 'fan/heating ratio' : load_heating_annual}, ignore_index = True)\n"
     ]
    },
    {
     "name": "stdout",
     "output_type": "stream",
     "text": [
      "0.11732152094252338 0.40194377912105367\n"
     ]
    },
    {
     "name": "stderr",
     "output_type": "stream",
     "text": [
      "C:\\Users\\atpha\\AppData\\Local\\Temp\\ipykernel_21116\\657607755.py:51: FutureWarning: The frame.append method is deprecated and will be removed from pandas in a future version. Use pandas.concat instead.\n",
      "  df2 = df2.append({'building id' : building_id, 'fan/heating ratio' : load_heating_annual}, ignore_index = True)\n"
     ]
    },
    {
     "name": "stdout",
     "output_type": "stream",
     "text": [
      "0.08841617511290832 0.39090344850354847\n"
     ]
    },
    {
     "name": "stderr",
     "output_type": "stream",
     "text": [
      "C:\\Users\\atpha\\AppData\\Local\\Temp\\ipykernel_21116\\657607755.py:51: FutureWarning: The frame.append method is deprecated and will be removed from pandas in a future version. Use pandas.concat instead.\n",
      "  df2 = df2.append({'building id' : building_id, 'fan/heating ratio' : load_heating_annual}, ignore_index = True)\n"
     ]
    },
    {
     "name": "stdout",
     "output_type": "stream",
     "text": [
      "0.11461570966196687 0.3955667477864422\n"
     ]
    },
    {
     "name": "stderr",
     "output_type": "stream",
     "text": [
      "C:\\Users\\atpha\\AppData\\Local\\Temp\\ipykernel_21116\\657607755.py:51: FutureWarning: The frame.append method is deprecated and will be removed from pandas in a future version. Use pandas.concat instead.\n",
      "  df2 = df2.append({'building id' : building_id, 'fan/heating ratio' : load_heating_annual}, ignore_index = True)\n"
     ]
    },
    {
     "name": "stdout",
     "output_type": "stream",
     "text": [
      "0.08094226569075562 0.3647643233000639\n"
     ]
    },
    {
     "name": "stderr",
     "output_type": "stream",
     "text": [
      "C:\\Users\\atpha\\AppData\\Local\\Temp\\ipykernel_21116\\657607755.py:51: FutureWarning: The frame.append method is deprecated and will be removed from pandas in a future version. Use pandas.concat instead.\n",
      "  df2 = df2.append({'building id' : building_id, 'fan/heating ratio' : load_heating_annual}, ignore_index = True)\n"
     ]
    },
    {
     "name": "stdout",
     "output_type": "stream",
     "text": [
      "0.07136917843902663 0.38311278106008995\n"
     ]
    },
    {
     "name": "stderr",
     "output_type": "stream",
     "text": [
      "C:\\Users\\atpha\\AppData\\Local\\Temp\\ipykernel_21116\\657607755.py:51: FutureWarning: The frame.append method is deprecated and will be removed from pandas in a future version. Use pandas.concat instead.\n",
      "  df2 = df2.append({'building id' : building_id, 'fan/heating ratio' : load_heating_annual}, ignore_index = True)\n"
     ]
    },
    {
     "name": "stdout",
     "output_type": "stream",
     "text": [
      "0.14687006091323512 0.39551132724064664\n"
     ]
    },
    {
     "name": "stderr",
     "output_type": "stream",
     "text": [
      "C:\\Users\\atpha\\AppData\\Local\\Temp\\ipykernel_21116\\657607755.py:51: FutureWarning: The frame.append method is deprecated and will be removed from pandas in a future version. Use pandas.concat instead.\n",
      "  df2 = df2.append({'building id' : building_id, 'fan/heating ratio' : load_heating_annual}, ignore_index = True)\n"
     ]
    },
    {
     "name": "stdout",
     "output_type": "stream",
     "text": [
      "0.08014556180245669 0.3933883048144577\n"
     ]
    },
    {
     "name": "stderr",
     "output_type": "stream",
     "text": [
      "C:\\Users\\atpha\\AppData\\Local\\Temp\\ipykernel_21116\\657607755.py:51: FutureWarning: The frame.append method is deprecated and will be removed from pandas in a future version. Use pandas.concat instead.\n",
      "  df2 = df2.append({'building id' : building_id, 'fan/heating ratio' : load_heating_annual}, ignore_index = True)\n"
     ]
    },
    {
     "name": "stdout",
     "output_type": "stream",
     "text": [
      "0.06565500115405574 0.3958007307607263\n"
     ]
    },
    {
     "name": "stderr",
     "output_type": "stream",
     "text": [
      "C:\\Users\\atpha\\AppData\\Local\\Temp\\ipykernel_21116\\657607755.py:51: FutureWarning: The frame.append method is deprecated and will be removed from pandas in a future version. Use pandas.concat instead.\n",
      "  df2 = df2.append({'building id' : building_id, 'fan/heating ratio' : load_heating_annual}, ignore_index = True)\n"
     ]
    },
    {
     "name": "stdout",
     "output_type": "stream",
     "text": [
      "0.06658024063874159 0.3943490165940101\n"
     ]
    },
    {
     "name": "stderr",
     "output_type": "stream",
     "text": [
      "C:\\Users\\atpha\\AppData\\Local\\Temp\\ipykernel_21116\\657607755.py:51: FutureWarning: The frame.append method is deprecated and will be removed from pandas in a future version. Use pandas.concat instead.\n",
      "  df2 = df2.append({'building id' : building_id, 'fan/heating ratio' : load_heating_annual}, ignore_index = True)\n"
     ]
    },
    {
     "name": "stdout",
     "output_type": "stream",
     "text": [
      "0.09571744594939267 0.39585596421023933\n"
     ]
    },
    {
     "name": "stderr",
     "output_type": "stream",
     "text": [
      "C:\\Users\\atpha\\AppData\\Local\\Temp\\ipykernel_21116\\657607755.py:51: FutureWarning: The frame.append method is deprecated and will be removed from pandas in a future version. Use pandas.concat instead.\n",
      "  df2 = df2.append({'building id' : building_id, 'fan/heating ratio' : load_heating_annual}, ignore_index = True)\n"
     ]
    },
    {
     "name": "stdout",
     "output_type": "stream",
     "text": [
      "0.07834335425147727 0.3970891255885138\n"
     ]
    },
    {
     "name": "stderr",
     "output_type": "stream",
     "text": [
      "C:\\Users\\atpha\\AppData\\Local\\Temp\\ipykernel_21116\\657607755.py:51: FutureWarning: The frame.append method is deprecated and will be removed from pandas in a future version. Use pandas.concat instead.\n",
      "  df2 = df2.append({'building id' : building_id, 'fan/heating ratio' : load_heating_annual}, ignore_index = True)\n"
     ]
    },
    {
     "name": "stdout",
     "output_type": "stream",
     "text": [
      "0.050884945336118856 0.3620337450181187\n"
     ]
    },
    {
     "name": "stderr",
     "output_type": "stream",
     "text": [
      "C:\\Users\\atpha\\AppData\\Local\\Temp\\ipykernel_21116\\657607755.py:51: FutureWarning: The frame.append method is deprecated and will be removed from pandas in a future version. Use pandas.concat instead.\n",
      "  df2 = df2.append({'building id' : building_id, 'fan/heating ratio' : load_heating_annual}, ignore_index = True)\n"
     ]
    },
    {
     "name": "stdout",
     "output_type": "stream",
     "text": [
      "0.11772622277148824 0.40319911383134505\n"
     ]
    },
    {
     "name": "stderr",
     "output_type": "stream",
     "text": [
      "C:\\Users\\atpha\\AppData\\Local\\Temp\\ipykernel_21116\\657607755.py:51: FutureWarning: The frame.append method is deprecated and will be removed from pandas in a future version. Use pandas.concat instead.\n",
      "  df2 = df2.append({'building id' : building_id, 'fan/heating ratio' : load_heating_annual}, ignore_index = True)\n"
     ]
    },
    {
     "name": "stdout",
     "output_type": "stream",
     "text": [
      "0.10250746565734327 0.3977280179913387\n"
     ]
    },
    {
     "name": "stderr",
     "output_type": "stream",
     "text": [
      "C:\\Users\\atpha\\AppData\\Local\\Temp\\ipykernel_21116\\657607755.py:51: FutureWarning: The frame.append method is deprecated and will be removed from pandas in a future version. Use pandas.concat instead.\n",
      "  df2 = df2.append({'building id' : building_id, 'fan/heating ratio' : load_heating_annual}, ignore_index = True)\n"
     ]
    },
    {
     "name": "stdout",
     "output_type": "stream",
     "text": [
      "0.09169430737022297 0.3994259885957833\n"
     ]
    },
    {
     "name": "stderr",
     "output_type": "stream",
     "text": [
      "C:\\Users\\atpha\\AppData\\Local\\Temp\\ipykernel_21116\\657607755.py:51: FutureWarning: The frame.append method is deprecated and will be removed from pandas in a future version. Use pandas.concat instead.\n",
      "  df2 = df2.append({'building id' : building_id, 'fan/heating ratio' : load_heating_annual}, ignore_index = True)\n"
     ]
    },
    {
     "name": "stdout",
     "output_type": "stream",
     "text": [
      "0.1012305218939789 0.3976310205391212\n"
     ]
    },
    {
     "name": "stderr",
     "output_type": "stream",
     "text": [
      "C:\\Users\\atpha\\AppData\\Local\\Temp\\ipykernel_21116\\657607755.py:51: FutureWarning: The frame.append method is deprecated and will be removed from pandas in a future version. Use pandas.concat instead.\n",
      "  df2 = df2.append({'building id' : building_id, 'fan/heating ratio' : load_heating_annual}, ignore_index = True)\n"
     ]
    },
    {
     "name": "stdout",
     "output_type": "stream",
     "text": [
      "0.06322205273663029 0.38906978491181504\n"
     ]
    },
    {
     "name": "stderr",
     "output_type": "stream",
     "text": [
      "C:\\Users\\atpha\\AppData\\Local\\Temp\\ipykernel_21116\\657607755.py:51: FutureWarning: The frame.append method is deprecated and will be removed from pandas in a future version. Use pandas.concat instead.\n",
      "  df2 = df2.append({'building id' : building_id, 'fan/heating ratio' : load_heating_annual}, ignore_index = True)\n"
     ]
    },
    {
     "name": "stdout",
     "output_type": "stream",
     "text": [
      "0.07365205110760431 0.39125289051510403\n"
     ]
    },
    {
     "name": "stderr",
     "output_type": "stream",
     "text": [
      "C:\\Users\\atpha\\AppData\\Local\\Temp\\ipykernel_21116\\657607755.py:51: FutureWarning: The frame.append method is deprecated and will be removed from pandas in a future version. Use pandas.concat instead.\n",
      "  df2 = df2.append({'building id' : building_id, 'fan/heating ratio' : load_heating_annual}, ignore_index = True)\n"
     ]
    },
    {
     "name": "stdout",
     "output_type": "stream",
     "text": [
      "0.07560022118315368 0.3988466051322963\n"
     ]
    },
    {
     "name": "stderr",
     "output_type": "stream",
     "text": [
      "C:\\Users\\atpha\\AppData\\Local\\Temp\\ipykernel_21116\\657607755.py:51: FutureWarning: The frame.append method is deprecated and will be removed from pandas in a future version. Use pandas.concat instead.\n",
      "  df2 = df2.append({'building id' : building_id, 'fan/heating ratio' : load_heating_annual}, ignore_index = True)\n"
     ]
    },
    {
     "name": "stdout",
     "output_type": "stream",
     "text": [
      "0.07359702532029602 0.39858237011945064\n"
     ]
    },
    {
     "name": "stderr",
     "output_type": "stream",
     "text": [
      "C:\\Users\\atpha\\AppData\\Local\\Temp\\ipykernel_21116\\657607755.py:51: FutureWarning: The frame.append method is deprecated and will be removed from pandas in a future version. Use pandas.concat instead.\n",
      "  df2 = df2.append({'building id' : building_id, 'fan/heating ratio' : load_heating_annual}, ignore_index = True)\n"
     ]
    },
    {
     "name": "stdout",
     "output_type": "stream",
     "text": [
      "0.08594670482655489 0.37765473363586377\n",
      "0.08368434334987594 0.3941519267687915\n"
     ]
    },
    {
     "name": "stderr",
     "output_type": "stream",
     "text": [
      "C:\\Users\\atpha\\AppData\\Local\\Temp\\ipykernel_21116\\657607755.py:51: FutureWarning: The frame.append method is deprecated and will be removed from pandas in a future version. Use pandas.concat instead.\n",
      "  df2 = df2.append({'building id' : building_id, 'fan/heating ratio' : load_heating_annual}, ignore_index = True)\n",
      "C:\\Users\\atpha\\AppData\\Local\\Temp\\ipykernel_21116\\657607755.py:51: FutureWarning: The frame.append method is deprecated and will be removed from pandas in a future version. Use pandas.concat instead.\n",
      "  df2 = df2.append({'building id' : building_id, 'fan/heating ratio' : load_heating_annual}, ignore_index = True)\n"
     ]
    },
    {
     "name": "stdout",
     "output_type": "stream",
     "text": [
      "0.06995896681806639 0.3932546929911395\n"
     ]
    },
    {
     "name": "stderr",
     "output_type": "stream",
     "text": [
      "C:\\Users\\atpha\\AppData\\Local\\Temp\\ipykernel_21116\\657607755.py:51: FutureWarning: The frame.append method is deprecated and will be removed from pandas in a future version. Use pandas.concat instead.\n",
      "  df2 = df2.append({'building id' : building_id, 'fan/heating ratio' : load_heating_annual}, ignore_index = True)\n"
     ]
    }
   ],
   "source": [
    "# Choose city:\n",
    "city = 'Detroit'\n",
    "\n",
    "# Choose starting hour and number of hour to look at/graph\n",
    "starting_hour = 1\n",
    "hour = 8760             #choose number of hours to graph\n",
    "\n",
    "# Choose building id\n",
    "li = []\n",
    "for i in list(range(400)):\n",
    "    building_id = i+1\n",
    "\n",
    "    # Read resstock results summary folder:\n",
    "    B = list(range(400))\n",
    "    if city == 'Detroit':\n",
    "        load_folder = 'C:\\\\Users\\\\atpha\\\\Downloads\\\\400 Buildings - HP\\\\'\n",
    "    else:\n",
    "        load_folder = 'C:\\\\Users\\\\atpha\\\\Documents\\\\Postdocs\\\\Projects\\\\TES\\\\Data\\\\400_Buildings_EB\\\\LA_NYC_ORL_SEA_ATL_MIN_PHX\\\\'\n",
    "\n",
    "    resstock_results = pd.read_csv(load_folder + 'results.csv')\n",
    "    resstock_results = resstock_results[resstock_results['building_characteristics_report.location_city'].str.contains(city) == True]\n",
    "    #resstock_results = resstock_results[(resstock_results['apply_upgrade.run_measure'] == 0) & (resstock_results['apply_upgrade_2.run_measure'] == 0)]\n",
    "    resstock_results = resstock_results.sort_values(by='build_existing_model.building_id')\n",
    "    resstock_results['build_existing_model.building_id'] = resstock_results['build_existing_model.building_id'] % 400\n",
    "    resstock_results.loc[resstock_results['build_existing_model.building_id'] ==0, 'build_existing_model.building_id'] = 400\n",
    "    resstock_results = resstock_results.reset_index()\n",
    "    resstock_results = resstock_results.drop(['index'], axis=1)\n",
    "\n",
    "    resstock_building_id = building_id\n",
    "\n",
    "    folder_id = resstock_results.loc[resstock_results['build_existing_model.building_id'] == resstock_building_id, '_id']\n",
    "    folder_id = folder_id.reset_index()\n",
    "    folder_id = folder_id.drop(['index'], axis=1)\n",
    "    folder_id = folder_id.iloc[0,0]\n",
    "\n",
    "    archive = zipfile.ZipFile(load_folder + folder_id + '\\\\' + 'data_point.zip')\n",
    "\n",
    "    load_data_path = archive.extract('enduse_timeseries.csv', load_folder + folder_id + '\\\\')\n",
    "    load_data_raw = pd.read_csv(load_data_path)\n",
    "    archive.close()\n",
    "\n",
    "    # Hourly load\n",
    "    #load_data_annual = load_data_raw['total_site_electricity_kwh']\n",
    "    load_heating_annual = load_data_raw['electricity_fans_heating_kwh'].sum()/load_data_raw['electricity_heating_kwh'].sum()\n",
    "\n",
    "    load_cooling_annual = load_data_raw['electricity_fans_cooling_kwh'].sum()/load_data_raw['electricity_cooling_kwh'].sum()\n",
    "\n",
    "    print(load_heating_annual, load_cooling_annual)\n",
    "\n",
    "    df2 = pd.DataFrame()\n",
    "    df2 = df2.append({'building id' : building_id, 'fan/heating ratio' : load_heating_annual}, ignore_index = True)\n",
    "    li.append(df2)\n",
    "\n",
    "fan_load_ratio = pd.concat(li, axis=0)\n",
    "fan_load_ratio.to_excel(\"C:\\\\Users\\\\atpha\\\\Downloads\\\\fanload.xlsx\")\n"
   ],
   "metadata": {
    "collapsed": false,
    "pycharm": {
     "name": "#%%\n"
    }
   }
  },
  {
   "cell_type": "code",
   "execution_count": null,
   "outputs": [],
   "source": [],
   "metadata": {
    "collapsed": false,
    "pycharm": {
     "name": "#%%\n"
    }
   }
  }
 ],
 "metadata": {
  "kernelspec": {
   "display_name": "Python 3",
   "language": "python",
   "name": "python3"
  },
  "language_info": {
   "codemirror_mode": {
    "name": "ipython",
    "version": 2
   },
   "file_extension": ".py",
   "mimetype": "text/x-python",
   "name": "python",
   "nbconvert_exporter": "python",
   "pygments_lexer": "ipython2",
   "version": "2.7.6"
  }
 },
 "nbformat": 4,
 "nbformat_minor": 0
}