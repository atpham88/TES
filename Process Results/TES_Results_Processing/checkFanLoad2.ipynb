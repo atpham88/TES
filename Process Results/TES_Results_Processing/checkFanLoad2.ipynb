{
 "cells": [
  {
   "cell_type": "code",
   "execution_count": 1,
   "metadata": {
    "collapsed": true,
    "pycharm": {
     "name": "#%%\n"
    }
   },
   "outputs": [],
   "source": [
    "import pandas as pd\n",
    "import matplotlib.pyplot as plt\n",
    "import zipfile\n",
    "from datetime import datetime"
   ]
  },
  {
   "cell_type": "code",
   "execution_count": 3,
   "outputs": [],
   "source": [
    "# Choose city:\n",
    "city = 'Detroit'\n",
    "\n",
    "# Choose starting hour and number of hour to look at/graph\n",
    "starting_hour = 1\n",
    "hour = 8760             #choose number of hours to graph\n",
    "\n",
    "# Choose building id\n",
    "li = []\n",
    "li2 = []\n",
    "for i in list(range(400)):\n",
    "    building_id = i+1\n",
    "\n",
    "    # Read resstock results summary folder:\n",
    "    B = list(range(400))\n",
    "    if city == 'Detroit':\n",
    "        load_folder = 'C:\\\\Users\\\\atpha\\\\Downloads\\\\400 Buildings - HP\\\\'\n",
    "    else:\n",
    "        load_folder = 'C:\\\\Users\\\\atpha\\\\Documents\\\\Postdocs\\\\Projects\\\\TES\\\\Data\\\\400_Buildings_EB\\\\LA_NYC_ORL_SEA_ATL_MIN_PHX\\\\'\n",
    "\n",
    "    resstock_results = pd.read_csv(load_folder + 'results.csv')\n",
    "    resstock_results = resstock_results[resstock_results['building_characteristics_report.location_city'].str.contains(city) == True]\n",
    "    #resstock_results = resstock_results[(resstock_results['apply_upgrade.run_measure'] == 0) & (resstock_results['apply_upgrade_2.run_measure'] == 0)]\n",
    "    resstock_results = resstock_results.sort_values(by='build_existing_model.building_id')\n",
    "    resstock_results['build_existing_model.building_id'] = resstock_results['build_existing_model.building_id'] % 400\n",
    "    resstock_results.loc[resstock_results['build_existing_model.building_id'] ==0, 'build_existing_model.building_id'] = 400\n",
    "    resstock_results = resstock_results.reset_index()\n",
    "    resstock_results = resstock_results.drop(['index'], axis=1)\n",
    "\n",
    "    resstock_building_id = building_id\n",
    "\n",
    "    folder_id = resstock_results.loc[resstock_results['build_existing_model.building_id'] == resstock_building_id, '_id']\n",
    "    folder_id = folder_id.reset_index()\n",
    "    folder_id = folder_id.drop(['index'], axis=1)\n",
    "    folder_id = folder_id.iloc[0,0]\n",
    "\n",
    "    archive = zipfile.ZipFile(load_folder + folder_id + '\\\\' + 'data_point.zip')\n",
    "\n",
    "    load_data_path = archive.extract('enduse_timeseries.csv', load_folder + folder_id + '\\\\')\n",
    "    load_data_raw = pd.read_csv(load_data_path)\n",
    "    archive.close()\n",
    "\n",
    "    # Hourly load\n",
    "    #load_data_annual = load_data_raw['total_site_electricity_kwh']\n",
    "    df = pd.DataFrame()\n",
    "    df['building_id'] = building_id\n",
    "    df['heating load'] = load_data_raw['electricity_heating_kwh']\n",
    "    df['fan heating load'] = load_data_raw['electricity_fans_heating_kwh']\n",
    "    df['building_id'] = building_id\n",
    "\n",
    "    li.append(df)\n",
    "\n",
    "heating_load = pd.concat(li, axis=0)\n",
    "heating_load.to_csv(\"C:\\\\Users\\\\atpha\\\\Documents\\\\Postdocs\\\\Projects\\\\TES\\Data\\\\fan heating load\\\\heating_load.csv\")\n",
    "\n"
   ],
   "metadata": {
    "collapsed": false,
    "pycharm": {
     "name": "#%%\n"
    }
   }
  },
  {
   "cell_type": "code",
   "execution_count": null,
   "outputs": [],
   "source": [],
   "metadata": {
    "collapsed": false,
    "pycharm": {
     "name": "#%%\n"
    }
   }
  }
 ],
 "metadata": {
  "kernelspec": {
   "display_name": "Python 3",
   "language": "python",
   "name": "python3"
  },
  "language_info": {
   "codemirror_mode": {
    "name": "ipython",
    "version": 2
   },
   "file_extension": ".py",
   "mimetype": "text/x-python",
   "name": "python",
   "nbconvert_exporter": "python",
   "pygments_lexer": "ipython2",
   "version": "2.7.6"
  }
 },
 "nbformat": 4,
 "nbformat_minor": 0
}