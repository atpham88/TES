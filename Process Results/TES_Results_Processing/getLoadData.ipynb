{
 "cells": [
  {
   "cell_type": "code",
   "execution_count": 1,
   "metadata": {
    "collapsed": true,
    "pycharm": {
     "name": "#%%\n"
    }
   },
   "outputs": [],
   "source": [
    "import pandas as pd\n",
    "import numpy as np\n",
    "import zipfile\n",
    "from datetime import datetime"
   ]
  },
  {
   "cell_type": "code",
   "execution_count": 2,
   "outputs": [],
   "source": [
    " # Read resstock results summary folder:\n",
    "starting_hour = 0\n",
    "hour = 8760\n",
    "B = list(range(400))\n",
    "\n",
    "load_folder = 'C:\\\\Users\\\\atpha\\\\Documents\\\\Postdocs\\\\Projects\\\\TES\\\\Data\\\\400_Buildings_EB\\\\Detroit\\\\'\n",
    "building_id = 0\n",
    "resstock_results = pd.read_csv(load_folder + 'results.csv')\n",
    "resstock_building_id = building_id + 1\n",
    "\n",
    "folder_id = resstock_results.loc[resstock_results['build_existing_model.building_id'] == resstock_building_id, '_id']\n",
    "folder_id = folder_id.reset_index()\n",
    "folder_id = folder_id.drop(['index'], axis=1)\n",
    "folder_id = folder_id.iloc[0,0]\n",
    "\n",
    "archive = zipfile.ZipFile(load_folder + folder_id + '\\\\' + 'data_point.zip')\n",
    "\n",
    "load_data_path = archive.extract('enduse_timeseries.csv', load_folder + folder_id + '\\\\')\n",
    "load_data_raw = pd.read_csv(load_data_path)\n",
    "archive.close()\n",
    "\n",
    "# Hourly load\n",
    "load_data_annual = load_data_raw['total_site_electricity_kwh']\n",
    "load_data_annual = load_data_annual.iloc[starting_hour:starting_hour+hour]\n",
    "load_data_annual = load_data_annual.reset_index()\n",
    "load_data_annual = load_data_annual.drop(['index'], axis=1)\n",
    "\n",
    "load_data = pd.DataFrame(index=load_data_annual.index)\n",
    "for building_id in B:\n",
    "    resstock_results = pd.read_csv(load_folder + 'results.csv')\n",
    "    resstock_building_id = building_id + 1\n",
    "\n",
    "    folder_id = resstock_results.loc[resstock_results['build_existing_model.building_id'] == resstock_building_id, '_id']\n",
    "    folder_id = folder_id.reset_index()\n",
    "    folder_id = folder_id.drop(['index'], axis=1)\n",
    "    folder_id = folder_id.iloc[0,0]\n",
    "\n",
    "    archive = zipfile.ZipFile(load_folder + folder_id + '\\\\' + 'data_point.zip')\n",
    "\n",
    "    load_data_path = archive.extract('enduse_timeseries.csv', load_folder + folder_id + '\\\\')\n",
    "    load_data_raw = pd.read_csv(load_data_path)\n",
    "    archive.close()\n",
    "\n",
    "    # Hourly load\n",
    "    load_data_annual = load_data_raw['total_site_electricity_kwh']\n",
    "    load_data_annual = load_data_annual.iloc[starting_hour:starting_hour+hour]\n",
    "    load_data_annual = load_data_annual.reset_index()\n",
    "    load_data_annual = load_data_annual.drop(['index'], axis=1)\n",
    "    load_data_annual = load_data_annual.rename(columns={'total_site_electricity_kwh':resstock_building_id})\n",
    "    load_data = load_data.join(load_data_annual)\n",
    "\n",
    "load_data.to_csv('C:\\\\Users\\\\atpha\\\\Documents\\\\Postdocs\\\\Projects\\\\TES\\\\Data\\\\load_data_detroit.csv')"
   ],
   "metadata": {
    "collapsed": false,
    "pycharm": {
     "name": "#%%\n"
    }
   }
  },
  {
   "cell_type": "code",
   "execution_count": 12,
   "outputs": [],
   "source": [],
   "metadata": {
    "collapsed": false,
    "pycharm": {
     "name": "#%%\n"
    }
   }
  }
 ],
 "metadata": {
  "kernelspec": {
   "display_name": "Python 3",
   "language": "python",
   "name": "python3"
  },
  "language_info": {
   "codemirror_mode": {
    "name": "ipython",
    "version": 2
   },
   "file_extension": ".py",
   "mimetype": "text/x-python",
   "name": "python",
   "nbconvert_exporter": "python",
   "pygments_lexer": "ipython2",
   "version": "2.7.6"
  }
 },
 "nbformat": 4,
 "nbformat_minor": 0
}