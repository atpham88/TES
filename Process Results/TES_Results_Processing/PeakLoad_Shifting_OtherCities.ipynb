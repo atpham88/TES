{
 "cells": [
  {
   "cell_type": "code",
   "execution_count": 1,
   "outputs": [],
   "source": [
    "import pandas as pd\n",
    "import geopandas as gpd\n",
    "import matplotlib.pyplot as plt\n",
    "import numpy as np"
   ],
   "metadata": {
    "collapsed": false,
    "pycharm": {
     "name": "#%%\n"
    }
   }
  },
  {
   "cell_type": "code",
   "execution_count": 2,
   "outputs": [],
   "source": [
    "result_detroit = \"C:/Users/atpha/Documents/Postdocs/Projects/TES/Results/Detroit/Compiled/\"\n",
    "result_atlanta = \"C:/Users/atpha/Documents/Postdocs/Projects/TES/Results/Atlanta/Compiled/\"\n",
    "result_la = \"C:/Users/atpha/Documents/Postdocs/Projects/TES/Results/LA/Compiled/\"\n",
    "result_minneapolis = \"C:/Users/atpha/Documents/Postdocs/Projects/TES/Results/Minneapolis/Compiled/\"\n",
    "result_ny = \"C:/Users/atpha/Documents/Postdocs/Projects/TES/Results/NY/Compiled/\"\n",
    "result_orlando = \"C:/Users/atpha/Documents/Postdocs/Projects/TES/Results/Orlando/Compiled/\"\n",
    "result_phoenix = \"C:/Users/atpha/Documents/Postdocs/Projects/TES/Results/Phoenix/Compiled/\"\n",
    "result_seattle = \"C:/Users/atpha/Documents/Postdocs/Projects/TES/Results/Seattle/Compiled/\"\n",
    "result_boston = \"C:/Users/atpha/Documents/Postdocs/Projects/TES/Results/Boston/Compiled/\"\n",
    "result_boulder = \"C:/Users/atpha/Documents/Postdocs/Projects/TES/Results/Boulder/Compiled/\"\n",
    "result_chicago = \"C:/Users/atpha/Documents/Postdocs/Projects/TES/Results/Chicago/Compiled/\"\n",
    "result_dallas = \"C:/Users/atpha/Documents/Postdocs/Projects/TES/Results/Dallas/Compiled/\""
   ],
   "metadata": {
    "collapsed": false,
    "pycharm": {
     "name": "#%%\n"
    }
   }
  },
  {
   "cell_type": "code",
   "execution_count": 3,
   "outputs": [
    {
     "data": {
      "text/plain": "     Unnamed: 0  building id  purchased electricity\n0             0          255               6.253131\n1             0           61              13.738715\n2             0          302              17.577548\n3             0          106               6.137446\n4             0          126               5.751231\n..          ...          ...                    ...\n395           0          383              14.358119\n396           0           69              10.332105\n397           0          350              12.527907\n398           0           28               5.763401\n399           0          247              23.548661\n\n[400 rows x 3 columns]",
      "text/html": "<div>\n<style scoped>\n    .dataframe tbody tr th:only-of-type {\n        vertical-align: middle;\n    }\n\n    .dataframe tbody tr th {\n        vertical-align: top;\n    }\n\n    .dataframe thead th {\n        text-align: right;\n    }\n</style>\n<table border=\"1\" class=\"dataframe\">\n  <thead>\n    <tr style=\"text-align: right;\">\n      <th></th>\n      <th>Unnamed: 0</th>\n      <th>building id</th>\n      <th>purchased electricity</th>\n    </tr>\n  </thead>\n  <tbody>\n    <tr>\n      <th>0</th>\n      <td>0</td>\n      <td>255</td>\n      <td>6.253131</td>\n    </tr>\n    <tr>\n      <th>1</th>\n      <td>0</td>\n      <td>61</td>\n      <td>13.738715</td>\n    </tr>\n    <tr>\n      <th>2</th>\n      <td>0</td>\n      <td>302</td>\n      <td>17.577548</td>\n    </tr>\n    <tr>\n      <th>3</th>\n      <td>0</td>\n      <td>106</td>\n      <td>6.137446</td>\n    </tr>\n    <tr>\n      <th>4</th>\n      <td>0</td>\n      <td>126</td>\n      <td>5.751231</td>\n    </tr>\n    <tr>\n      <th>...</th>\n      <td>...</td>\n      <td>...</td>\n      <td>...</td>\n    </tr>\n    <tr>\n      <th>395</th>\n      <td>0</td>\n      <td>383</td>\n      <td>14.358119</td>\n    </tr>\n    <tr>\n      <th>396</th>\n      <td>0</td>\n      <td>69</td>\n      <td>10.332105</td>\n    </tr>\n    <tr>\n      <th>397</th>\n      <td>0</td>\n      <td>350</td>\n      <td>12.527907</td>\n    </tr>\n    <tr>\n      <th>398</th>\n      <td>0</td>\n      <td>28</td>\n      <td>5.763401</td>\n    </tr>\n    <tr>\n      <th>399</th>\n      <td>0</td>\n      <td>247</td>\n      <td>23.548661</td>\n    </tr>\n  </tbody>\n</table>\n<p>400 rows × 3 columns</p>\n</div>"
     },
     "execution_count": 3,
     "metadata": {},
     "output_type": "execute_result"
    }
   ],
   "source": [
    "# TES discharge:\n",
    "rate = 'Fixed_Rate'\n",
    "size_dt = 'Opt_Size'\n",
    "size = 'Opt_Size'\n",
    "\n",
    "cost_noTES_detroit = pd.read_excel(result_detroit + 'max_purchased_electricity_noTES_' + rate +'.xlsx')\n",
    "cost_MgSO4_detroit = pd.read_excel(result_detroit + 'max_purchased_electricity_salt_' + rate + '_' + size_dt + '_MgSO4'+'.xlsx')\n",
    "cost_noTES_atlanta = pd.read_excel(result_atlanta + 'max_purchased_electricity_noTES_' + rate +'.xlsx')\n",
    "cost_MgSO4_atlanta = pd.read_excel(result_atlanta + 'max_purchased_electricity_salt_' + rate + '_' + size + '_MgSO4'+'.xlsx')\n",
    "cost_noTES_la = pd.read_excel(result_la + 'max_purchased_electricity_noTES_' + rate +'.xlsx')\n",
    "cost_MgSO4_la = pd.read_excel(result_la + 'max_purchased_electricity_salt_' + rate + '_' + size + '_MgSO4'+'.xlsx')\n",
    "cost_noTES_minneapolis = pd.read_excel(result_minneapolis + 'max_purchased_electricity_noTES_' + rate +'.xlsx')\n",
    "cost_MgSO4_minneapolis = pd.read_excel(result_minneapolis + 'max_purchased_electricity_salt_' + rate + '_' + size + '_MgSO4'+'.xlsx')\n",
    "cost_noTES_ny = pd.read_excel(result_ny + 'max_purchased_electricity_noTES_' + rate +'.xlsx')\n",
    "cost_MgSO4_ny = pd.read_excel(result_ny + 'max_purchased_electricity_salt_' + rate + '_' + size + '_MgSO4'+'.xlsx')\n",
    "cost_noTES_orlando = pd.read_excel(result_orlando + 'max_purchased_electricity_noTES_' + rate +'.xlsx')\n",
    "cost_MgSO4_orlando = pd.read_excel(result_orlando + 'max_purchased_electricity_salt_' + rate + '_' + size + '_MgSO4'+'.xlsx')\n",
    "cost_noTES_phoenix = pd.read_excel(result_phoenix + 'max_purchased_electricity_noTES_' + rate +'.xlsx')\n",
    "cost_MgSO4_phoenix = pd.read_excel(result_phoenix + 'max_purchased_electricity_salt_' + rate + '_' + size + '_MgSO4'+'.xlsx')\n",
    "cost_noTES_seattle = pd.read_excel(result_seattle + 'max_purchased_electricity_noTES_' + rate +'.xlsx')\n",
    "cost_MgSO4_seattle = pd.read_excel(result_seattle + 'max_purchased_electricity_salt_' + rate + '_' + size + '_MgSO4'+'.xlsx')\n",
    "cost_noTES_boston = pd.read_excel(result_boston + 'max_purchased_electricity_noTES_' + rate +'.xlsx')\n",
    "cost_MgSO4_boston = pd.read_excel(result_boston + 'max_purchased_electricity_salt_' + rate + '_' + size + '_MgSO4'+'.xlsx')\n",
    "cost_noTES_boulder = pd.read_excel(result_boulder + 'max_purchased_electricity_noTES_' + rate +'.xlsx')\n",
    "cost_MgSO4_boulder = pd.read_excel(result_boulder + 'max_purchased_electricity_salt_' + rate + '_' + size + '_MgSO4'+'.xlsx')\n",
    "cost_noTES_chicago = pd.read_excel(result_chicago + 'max_purchased_electricity_noTES_' + rate +'.xlsx')\n",
    "cost_MgSO4_chicago = pd.read_excel(result_chicago + 'max_purchased_electricity_salt_' + rate + '_' + size + '_MgSO4'+'.xlsx')\n",
    "cost_noTES_dallas = pd.read_excel(result_dallas + 'max_purchased_electricity_noTES_' + rate +'.xlsx')\n",
    "cost_MgSO4_dallas = pd.read_excel(result_dallas + 'max_purchased_electricity_salt_' + rate + '_' + size + '_MgSO4'+'.xlsx')\n",
    "cost_MgSO4_detroit"
   ],
   "metadata": {
    "collapsed": false,
    "pycharm": {
     "name": "#%%\n"
    }
   }
  },
  {
   "cell_type": "code",
   "execution_count": 4,
   "outputs": [
    {
     "data": {
      "text/plain": "     building id  purchased electricity\n0              1               3.126746\n1              2               5.548814\n2              3               2.737115\n3              4               3.398651\n4              5               4.354322\n..           ...                    ...\n395          396               2.211095\n396          397               3.244603\n397          398               5.470384\n398          399               1.907049\n399          400               4.967771\n\n[400 rows x 2 columns]",
      "text/html": "<div>\n<style scoped>\n    .dataframe tbody tr th:only-of-type {\n        vertical-align: middle;\n    }\n\n    .dataframe tbody tr th {\n        vertical-align: top;\n    }\n\n    .dataframe thead th {\n        text-align: right;\n    }\n</style>\n<table border=\"1\" class=\"dataframe\">\n  <thead>\n    <tr style=\"text-align: right;\">\n      <th></th>\n      <th>building id</th>\n      <th>purchased electricity</th>\n    </tr>\n  </thead>\n  <tbody>\n    <tr>\n      <th>0</th>\n      <td>1</td>\n      <td>3.126746</td>\n    </tr>\n    <tr>\n      <th>1</th>\n      <td>2</td>\n      <td>5.548814</td>\n    </tr>\n    <tr>\n      <th>2</th>\n      <td>3</td>\n      <td>2.737115</td>\n    </tr>\n    <tr>\n      <th>3</th>\n      <td>4</td>\n      <td>3.398651</td>\n    </tr>\n    <tr>\n      <th>4</th>\n      <td>5</td>\n      <td>4.354322</td>\n    </tr>\n    <tr>\n      <th>...</th>\n      <td>...</td>\n      <td>...</td>\n    </tr>\n    <tr>\n      <th>395</th>\n      <td>396</td>\n      <td>2.211095</td>\n    </tr>\n    <tr>\n      <th>396</th>\n      <td>397</td>\n      <td>3.244603</td>\n    </tr>\n    <tr>\n      <th>397</th>\n      <td>398</td>\n      <td>5.470384</td>\n    </tr>\n    <tr>\n      <th>398</th>\n      <td>399</td>\n      <td>1.907049</td>\n    </tr>\n    <tr>\n      <th>399</th>\n      <td>400</td>\n      <td>4.967771</td>\n    </tr>\n  </tbody>\n</table>\n<p>400 rows × 2 columns</p>\n</div>"
     },
     "execution_count": 4,
     "metadata": {},
     "output_type": "execute_result"
    }
   ],
   "source": [
    "# Clean up:\n",
    "cost_noTES_detroit = cost_noTES_detroit.sort_values(by=['building id'])\n",
    "cost_noTES_detroit = cost_noTES_detroit.reset_index()\n",
    "cost_noTES_detroit = cost_noTES_detroit[['building id', 'purchased electricity']]\n",
    "cost_MgSO4_detroit = cost_MgSO4_detroit.sort_values(by=['building id'])\n",
    "cost_MgSO4_detroit = cost_MgSO4_detroit.reset_index()\n",
    "cost_MgSO4_detroit = cost_MgSO4_detroit[['building id', 'purchased electricity']]\n",
    "\n",
    "cost_noTES_atlanta = cost_noTES_atlanta.sort_values(by=['building id'])\n",
    "cost_noTES_atlanta = cost_noTES_atlanta.reset_index()\n",
    "cost_noTES_atlanta = cost_noTES_atlanta[['building id', 'purchased electricity']]\n",
    "cost_MgSO4_atlanta = cost_MgSO4_atlanta.sort_values(by=['building id'])\n",
    "cost_MgSO4_atlanta = cost_MgSO4_atlanta.reset_index()\n",
    "cost_MgSO4_atlanta = cost_MgSO4_atlanta[['building id', 'purchased electricity']]\n",
    "\n",
    "cost_noTES_la = cost_noTES_la.sort_values(by=['building id'])\n",
    "cost_noTES_la = cost_noTES_la.reset_index()\n",
    "cost_noTES_la = cost_noTES_la[['building id', 'purchased electricity']]\n",
    "cost_MgSO4_la = cost_MgSO4_la.sort_values(by=['building id'])\n",
    "cost_MgSO4_la = cost_MgSO4_la.reset_index()\n",
    "cost_MgSO4_la = cost_MgSO4_la[['building id', 'purchased electricity']]\n",
    "\n",
    "cost_noTES_minneapolis = cost_noTES_minneapolis.sort_values(by=['building id'])\n",
    "cost_noTES_minneapolis = cost_noTES_minneapolis.reset_index()\n",
    "cost_noTES_minneapolis = cost_noTES_minneapolis[['building id', 'purchased electricity']]\n",
    "cost_MgSO4_minneapolis = cost_MgSO4_minneapolis.sort_values(by=['building id'])\n",
    "cost_MgSO4_minneapolis = cost_MgSO4_minneapolis.reset_index()\n",
    "cost_MgSO4_minneapolis = cost_MgSO4_minneapolis[['building id', 'purchased electricity']]\n",
    "\n",
    "cost_noTES_ny = cost_noTES_ny.sort_values(by=['building id'])\n",
    "cost_noTES_ny = cost_noTES_ny.reset_index()\n",
    "cost_noTES_ny = cost_noTES_ny[['building id', 'purchased electricity']]\n",
    "cost_MgSO4_ny = cost_MgSO4_ny.sort_values(by=['building id'])\n",
    "cost_MgSO4_ny = cost_MgSO4_ny.reset_index()\n",
    "cost_MgSO4_ny = cost_MgSO4_ny[['building id', 'purchased electricity']]\n",
    "\n",
    "cost_noTES_orlando = cost_noTES_orlando.sort_values(by=['building id'])\n",
    "cost_noTES_orlando = cost_noTES_orlando.reset_index()\n",
    "cost_noTES_orlando = cost_noTES_orlando[['building id', 'purchased electricity']]\n",
    "cost_MgSO4_orlando = cost_MgSO4_orlando.sort_values(by=['building id'])\n",
    "cost_MgSO4_orlando = cost_MgSO4_orlando.reset_index()\n",
    "cost_MgSO4_orlando = cost_MgSO4_orlando[['building id', 'purchased electricity']]\n",
    "\n",
    "cost_noTES_phoenix = cost_noTES_phoenix.sort_values(by=['building id'])\n",
    "cost_noTES_phoenix = cost_noTES_phoenix.reset_index()\n",
    "cost_noTES_phoenix = cost_noTES_phoenix[['building id', 'purchased electricity']]\n",
    "cost_MgSO4_phoenix = cost_MgSO4_phoenix.sort_values(by=['building id'])\n",
    "cost_MgSO4_phoenix = cost_MgSO4_phoenix.reset_index()\n",
    "cost_MgSO4_phoenix = cost_MgSO4_phoenix[['building id', 'purchased electricity']]\n",
    "\n",
    "cost_noTES_seattle = cost_noTES_seattle.sort_values(by=['building id'])\n",
    "cost_noTES_seattle = cost_noTES_seattle.reset_index()\n",
    "cost_noTES_seattle = cost_noTES_seattle[['building id', 'purchased electricity']]\n",
    "cost_MgSO4_seattle = cost_MgSO4_seattle.sort_values(by=['building id'])\n",
    "cost_MgSO4_seattle = cost_MgSO4_seattle.reset_index()\n",
    "cost_MgSO4_seattle = cost_MgSO4_seattle[['building id', 'purchased electricity']]\n",
    "\n",
    "cost_noTES_boston = cost_noTES_boston.sort_values(by=['building id'])\n",
    "cost_noTES_boston = cost_noTES_boston.reset_index()\n",
    "cost_noTES_boston = cost_noTES_boston[['building id', 'purchased electricity']]\n",
    "cost_MgSO4_boston = cost_MgSO4_boston.sort_values(by=['building id'])\n",
    "cost_MgSO4_boston = cost_MgSO4_boston.reset_index()\n",
    "cost_MgSO4_boston = cost_MgSO4_boston[['building id', 'purchased electricity']]\n",
    "\n",
    "cost_noTES_boulder = cost_noTES_boulder.sort_values(by=['building id'])\n",
    "cost_noTES_boulder = cost_noTES_boulder.reset_index()\n",
    "cost_noTES_boulder = cost_noTES_boulder[['building id', 'purchased electricity']]\n",
    "cost_MgSO4_boulder = cost_MgSO4_boulder.sort_values(by=['building id'])\n",
    "cost_MgSO4_boulder = cost_MgSO4_boulder.reset_index()\n",
    "cost_MgSO4_boulder = cost_MgSO4_boulder[['building id', 'purchased electricity']]\n",
    "\n",
    "cost_noTES_chicago = cost_noTES_chicago.sort_values(by=['building id'])\n",
    "cost_noTES_chicago = cost_noTES_chicago.reset_index()\n",
    "cost_noTES_chicago = cost_noTES_chicago[['building id', 'purchased electricity']]\n",
    "cost_MgSO4_chicago = cost_MgSO4_chicago.sort_values(by=['building id'])\n",
    "cost_MgSO4_chicago = cost_MgSO4_chicago.reset_index()\n",
    "cost_MgSO4_chicago = cost_MgSO4_chicago[['building id', 'purchased electricity']]\n",
    "\n",
    "cost_noTES_dallas = cost_noTES_dallas.sort_values(by=['building id'])\n",
    "cost_noTES_dallas = cost_noTES_dallas.reset_index()\n",
    "cost_noTES_dallas = cost_noTES_dallas[['building id', 'purchased electricity']]\n",
    "cost_MgSO4_dallas = cost_MgSO4_dallas.sort_values(by=['building id'])\n",
    "cost_MgSO4_dallas = cost_MgSO4_dallas.reset_index()\n",
    "cost_MgSO4_dallas = cost_MgSO4_dallas[['building id', 'purchased electricity']]\n",
    "\n",
    "cost_MgSO4_dallas"
   ],
   "metadata": {
    "collapsed": false,
    "pycharm": {
     "name": "#%%\n"
    }
   }
  },
  {
   "cell_type": "code",
   "execution_count": 5,
   "outputs": [
    {
     "data": {
      "text/plain": "     building id  peak load - no TES  peak load - MgSO4  peak load reduction  \\\n0              1            4.283468           5.412526             1.129058   \n1              2           10.070072          11.060120             0.990048   \n2              3            5.993456           7.321096             1.327639   \n3              4            5.965445           6.925915             0.960470   \n4              5            6.699442           7.197522             0.498080   \n..           ...                 ...                ...                  ...   \n395          396            1.900449           2.053686             0.153237   \n396          397            6.537824           7.665788             1.127963   \n397          398            5.273155           6.338697             1.065542   \n398          399            6.000426           7.255987             1.255561   \n399          400            3.419647           4.188512             0.768864   \n\n     peak load reduction %           City  \n0                 0.263585  New York City  \n1                 0.098316  New York City  \n2                 0.221515  New York City  \n3                 0.161006  New York City  \n4                 0.074346  New York City  \n..                     ...            ...  \n395               0.080632  New York City  \n396               0.172529  New York City  \n397               0.202069  New York City  \n398               0.209245  New York City  \n399               0.224837  New York City  \n\n[400 rows x 6 columns]",
      "text/html": "<div>\n<style scoped>\n    .dataframe tbody tr th:only-of-type {\n        vertical-align: middle;\n    }\n\n    .dataframe tbody tr th {\n        vertical-align: top;\n    }\n\n    .dataframe thead th {\n        text-align: right;\n    }\n</style>\n<table border=\"1\" class=\"dataframe\">\n  <thead>\n    <tr style=\"text-align: right;\">\n      <th></th>\n      <th>building id</th>\n      <th>peak load - no TES</th>\n      <th>peak load - MgSO4</th>\n      <th>peak load reduction</th>\n      <th>peak load reduction %</th>\n      <th>City</th>\n    </tr>\n  </thead>\n  <tbody>\n    <tr>\n      <th>0</th>\n      <td>1</td>\n      <td>4.283468</td>\n      <td>5.412526</td>\n      <td>1.129058</td>\n      <td>0.263585</td>\n      <td>New York City</td>\n    </tr>\n    <tr>\n      <th>1</th>\n      <td>2</td>\n      <td>10.070072</td>\n      <td>11.060120</td>\n      <td>0.990048</td>\n      <td>0.098316</td>\n      <td>New York City</td>\n    </tr>\n    <tr>\n      <th>2</th>\n      <td>3</td>\n      <td>5.993456</td>\n      <td>7.321096</td>\n      <td>1.327639</td>\n      <td>0.221515</td>\n      <td>New York City</td>\n    </tr>\n    <tr>\n      <th>3</th>\n      <td>4</td>\n      <td>5.965445</td>\n      <td>6.925915</td>\n      <td>0.960470</td>\n      <td>0.161006</td>\n      <td>New York City</td>\n    </tr>\n    <tr>\n      <th>4</th>\n      <td>5</td>\n      <td>6.699442</td>\n      <td>7.197522</td>\n      <td>0.498080</td>\n      <td>0.074346</td>\n      <td>New York City</td>\n    </tr>\n    <tr>\n      <th>...</th>\n      <td>...</td>\n      <td>...</td>\n      <td>...</td>\n      <td>...</td>\n      <td>...</td>\n      <td>...</td>\n    </tr>\n    <tr>\n      <th>395</th>\n      <td>396</td>\n      <td>1.900449</td>\n      <td>2.053686</td>\n      <td>0.153237</td>\n      <td>0.080632</td>\n      <td>New York City</td>\n    </tr>\n    <tr>\n      <th>396</th>\n      <td>397</td>\n      <td>6.537824</td>\n      <td>7.665788</td>\n      <td>1.127963</td>\n      <td>0.172529</td>\n      <td>New York City</td>\n    </tr>\n    <tr>\n      <th>397</th>\n      <td>398</td>\n      <td>5.273155</td>\n      <td>6.338697</td>\n      <td>1.065542</td>\n      <td>0.202069</td>\n      <td>New York City</td>\n    </tr>\n    <tr>\n      <th>398</th>\n      <td>399</td>\n      <td>6.000426</td>\n      <td>7.255987</td>\n      <td>1.255561</td>\n      <td>0.209245</td>\n      <td>New York City</td>\n    </tr>\n    <tr>\n      <th>399</th>\n      <td>400</td>\n      <td>3.419647</td>\n      <td>4.188512</td>\n      <td>0.768864</td>\n      <td>0.224837</td>\n      <td>New York City</td>\n    </tr>\n  </tbody>\n</table>\n<p>400 rows × 6 columns</p>\n</div>"
     },
     "execution_count": 5,
     "metadata": {},
     "output_type": "execute_result"
    }
   ],
   "source": [
    "# Find changes in total costs:\n",
    "cost_impacts_TES_detroit = pd.DataFrame()\n",
    "cost_impacts_TES_detroit['building id'] = cost_noTES_detroit['building id']\n",
    "cost_impacts_TES_detroit['peak load - no TES'] = cost_noTES_detroit['purchased electricity']\n",
    "cost_impacts_TES_detroit['peak load - MgSO4'] = cost_MgSO4_detroit['purchased electricity']\n",
    "cost_impacts_TES_detroit['peak load reduction'] = abs(cost_impacts_TES_detroit['peak load - no TES'] - cost_impacts_TES_detroit['peak load - MgSO4'])\n",
    "cost_impacts_TES_detroit['peak load reduction %'] = abs((cost_impacts_TES_detroit['peak load - no TES'] - cost_impacts_TES_detroit['peak load - MgSO4']))/cost_impacts_TES_detroit['peak load - no TES']\n",
    "cost_impacts_TES_detroit['City'] = 'Detroit'\n",
    "\n",
    "cost_impacts_TES_atlanta = pd.DataFrame()\n",
    "cost_impacts_TES_atlanta['building id'] = cost_noTES_atlanta['building id']\n",
    "cost_impacts_TES_atlanta['peak load - no TES'] = cost_noTES_atlanta['purchased electricity']\n",
    "cost_impacts_TES_atlanta['peak load - MgSO4'] = cost_MgSO4_atlanta['purchased electricity']\n",
    "cost_impacts_TES_atlanta['peak load reduction'] = abs(cost_impacts_TES_atlanta['peak load - no TES'] - cost_impacts_TES_atlanta['peak load - MgSO4'])\n",
    "cost_impacts_TES_atlanta['peak load reduction %'] = abs((cost_impacts_TES_atlanta['peak load - no TES'] - cost_impacts_TES_atlanta['peak load - MgSO4']))/cost_impacts_TES_atlanta['peak load - no TES']\n",
    "cost_impacts_TES_atlanta['City'] = 'Atlanta'\n",
    "\n",
    "cost_impacts_TES_boston = pd.DataFrame()\n",
    "cost_impacts_TES_boston['building id'] = cost_noTES_boston['building id']\n",
    "cost_impacts_TES_boston['peak load - no TES'] = cost_noTES_boston['purchased electricity']\n",
    "cost_impacts_TES_boston['peak load - MgSO4'] = cost_MgSO4_boston['purchased electricity']\n",
    "cost_impacts_TES_boston['peak load reduction'] = abs(cost_impacts_TES_boston['peak load - no TES'] - cost_impacts_TES_boston['peak load - MgSO4'])\n",
    "cost_impacts_TES_boston['peak load reduction %'] = abs((cost_impacts_TES_boston['peak load - no TES'] - cost_impacts_TES_boston['peak load - MgSO4']))/cost_impacts_TES_boston['peak load - no TES']\n",
    "cost_impacts_TES_boston['City'] = 'Boston'\n",
    "\n",
    "cost_impacts_TES_boulder = pd.DataFrame()\n",
    "cost_impacts_TES_boulder['building id'] = cost_noTES_boulder['building id']\n",
    "cost_impacts_TES_boulder['peak load - no TES'] = cost_noTES_boulder['purchased electricity']\n",
    "cost_impacts_TES_boulder['peak load - MgSO4'] = cost_MgSO4_boulder['purchased electricity']\n",
    "cost_impacts_TES_boulder['peak load reduction'] = abs(cost_impacts_TES_boulder['peak load - no TES'] - cost_impacts_TES_boulder['peak load - MgSO4'])\n",
    "cost_impacts_TES_boulder['peak load reduction %'] = abs((cost_impacts_TES_boulder['peak load - no TES'] - cost_impacts_TES_boulder['peak load - MgSO4']))/cost_impacts_TES_boulder['peak load - no TES']\n",
    "cost_impacts_TES_boulder['City'] = 'Boulder'\n",
    "\n",
    "cost_impacts_TES_chicago = pd.DataFrame()\n",
    "cost_impacts_TES_chicago['building id'] = cost_noTES_chicago['building id']\n",
    "cost_impacts_TES_chicago['peak load - no TES'] = cost_noTES_chicago['purchased electricity']\n",
    "cost_impacts_TES_chicago['peak load - MgSO4'] = cost_MgSO4_chicago['purchased electricity']\n",
    "cost_impacts_TES_chicago['peak load reduction'] = abs(cost_impacts_TES_chicago['peak load - no TES'] - cost_impacts_TES_chicago['peak load - MgSO4'])\n",
    "cost_impacts_TES_chicago['peak load reduction %'] = abs((cost_impacts_TES_chicago['peak load - no TES'] - cost_impacts_TES_chicago['peak load - MgSO4']))/cost_impacts_TES_chicago['peak load - no TES']\n",
    "cost_impacts_TES_chicago['City'] = 'Chicago'\n",
    "\n",
    "cost_impacts_TES_dallas = pd.DataFrame()\n",
    "cost_impacts_TES_dallas['building id'] = cost_noTES_dallas['building id']\n",
    "cost_impacts_TES_dallas['peak load - no TES'] = cost_noTES_dallas['purchased electricity']\n",
    "cost_impacts_TES_dallas['peak load - MgSO4'] = cost_MgSO4_dallas['purchased electricity']\n",
    "cost_impacts_TES_dallas['peak load reduction'] = abs(cost_impacts_TES_dallas['peak load - no TES'] - cost_impacts_TES_dallas['peak load - MgSO4'])\n",
    "cost_impacts_TES_dallas['peak load reduction %'] = abs((cost_impacts_TES_dallas['peak load - no TES'] - cost_impacts_TES_dallas['peak load - MgSO4']))/cost_impacts_TES_dallas['peak load - no TES']\n",
    "cost_impacts_TES_dallas['City'] = 'Dallas'\n",
    "\n",
    "cost_impacts_TES_minneapolis = pd.DataFrame()\n",
    "cost_impacts_TES_minneapolis['building id'] = cost_noTES_minneapolis['building id']\n",
    "cost_impacts_TES_minneapolis['peak load - no TES'] = cost_noTES_minneapolis['purchased electricity']\n",
    "cost_impacts_TES_minneapolis['peak load - MgSO4'] = cost_MgSO4_minneapolis['purchased electricity']\n",
    "cost_impacts_TES_minneapolis['peak load reduction'] = abs(cost_impacts_TES_minneapolis['peak load - no TES'] - cost_impacts_TES_minneapolis['peak load - MgSO4'])\n",
    "cost_impacts_TES_minneapolis['peak load reduction %'] = abs((cost_impacts_TES_minneapolis['peak load - no TES'] - cost_impacts_TES_minneapolis['peak load - MgSO4']))/cost_impacts_TES_minneapolis['peak load - no TES']\n",
    "cost_impacts_TES_minneapolis['City'] = 'Minneapolis'\n",
    "\n",
    "cost_impacts_TES_la = pd.DataFrame()\n",
    "cost_impacts_TES_la['building id'] = cost_noTES_la['building id']\n",
    "cost_impacts_TES_la['peak load - no TES'] = cost_noTES_la['purchased electricity']\n",
    "cost_impacts_TES_la['peak load - MgSO4'] = cost_MgSO4_la['purchased electricity']\n",
    "cost_impacts_TES_la['peak load reduction'] = abs(cost_impacts_TES_la['peak load - no TES'] - cost_impacts_TES_la['peak load - MgSO4'])\n",
    "cost_impacts_TES_la['peak load reduction %'] = abs((cost_impacts_TES_la['peak load - no TES'] - cost_impacts_TES_la['peak load - MgSO4']))/cost_impacts_TES_la['peak load - no TES']\n",
    "cost_impacts_TES_la['City'] = 'Los Angeles'\n",
    "\n",
    "cost_impacts_TES_ny = pd.DataFrame()\n",
    "cost_impacts_TES_ny['building id'] = cost_noTES_ny['building id']\n",
    "cost_impacts_TES_ny['peak load - no TES'] = cost_noTES_ny['purchased electricity']\n",
    "cost_impacts_TES_ny['peak load - MgSO4'] = cost_MgSO4_ny['purchased electricity']\n",
    "cost_impacts_TES_ny['peak load reduction'] = abs(cost_impacts_TES_ny['peak load - no TES'] - cost_impacts_TES_ny['peak load - MgSO4'])\n",
    "cost_impacts_TES_ny['peak load reduction %'] = abs((cost_impacts_TES_ny['peak load - no TES'] - cost_impacts_TES_ny['peak load - MgSO4']))/cost_impacts_TES_ny['peak load - no TES']\n",
    "cost_impacts_TES_ny['City'] = 'New York City'\n",
    "\n",
    "cost_impacts_TES_orlando = pd.DataFrame()\n",
    "cost_impacts_TES_orlando['building id'] = cost_noTES_orlando['building id']\n",
    "cost_impacts_TES_orlando['peak load - no TES'] = cost_noTES_orlando['purchased electricity']\n",
    "cost_impacts_TES_orlando['peak load - MgSO4'] = cost_MgSO4_orlando['purchased electricity']\n",
    "cost_impacts_TES_orlando['peak load reduction'] = abs(cost_impacts_TES_orlando['peak load - no TES'] - cost_impacts_TES_orlando['peak load - MgSO4'])\n",
    "cost_impacts_TES_orlando['peak load reduction %'] = abs((cost_impacts_TES_orlando['peak load - no TES'] - cost_impacts_TES_orlando['peak load - MgSO4']))/cost_impacts_TES_orlando['peak load - no TES']\n",
    "cost_impacts_TES_orlando['City'] = 'orlando'\n",
    "\n",
    "cost_impacts_TES_phoenix = pd.DataFrame()\n",
    "cost_impacts_TES_phoenix['building id'] = cost_noTES_phoenix['building id']\n",
    "cost_impacts_TES_phoenix['peak load - no TES'] = cost_noTES_phoenix['purchased electricity']\n",
    "cost_impacts_TES_phoenix['peak load - MgSO4'] = cost_MgSO4_phoenix['purchased electricity']\n",
    "cost_impacts_TES_phoenix['peak load reduction'] = abs(cost_impacts_TES_phoenix['peak load - no TES'] - cost_impacts_TES_phoenix['peak load - MgSO4'])\n",
    "cost_impacts_TES_phoenix['peak load reduction %'] = abs((cost_impacts_TES_phoenix['peak load - no TES'] - cost_impacts_TES_phoenix['peak load - MgSO4']))/cost_impacts_TES_phoenix['peak load - no TES']\n",
    "cost_impacts_TES_phoenix['City'] = 'Phoenix'\n",
    "\n",
    "cost_impacts_TES_seattle = pd.DataFrame()\n",
    "cost_impacts_TES_seattle['building id'] = cost_noTES_seattle['building id']\n",
    "cost_impacts_TES_seattle['peak load - no TES'] = cost_noTES_seattle['purchased electricity']\n",
    "cost_impacts_TES_seattle['peak load - MgSO4'] = cost_MgSO4_seattle['purchased electricity']\n",
    "cost_impacts_TES_seattle['peak load reduction'] = abs(cost_impacts_TES_seattle['peak load - no TES'] - cost_impacts_TES_seattle['peak load - MgSO4'])\n",
    "cost_impacts_TES_seattle['peak load reduction %'] = abs((cost_impacts_TES_seattle['peak load - no TES'] - cost_impacts_TES_seattle['peak load - MgSO4']))/cost_impacts_TES_seattle['peak load - no TES']\n",
    "cost_impacts_TES_seattle['City'] = 'Seattle'\n",
    "cost_impacts_TES_ny"
   ],
   "metadata": {
    "collapsed": false,
    "pycharm": {
     "name": "#%%\n"
    }
   }
  },
  {
   "cell_type": "code",
   "execution_count": 6,
   "outputs": [],
   "source": [
    "# Location:\n",
    "location_detroit = pd.read_csv(r\"C:\\Users\\atpha\\Documents\\Postdocs\\Projects\\TES\\Data\\weather\\DTW.csv\")\n",
    "lon_detroit = location_detroit['lon'][0]\n",
    "lat_detroit = location_detroit['lat'][0]\n",
    "\n",
    "location_atlanta = pd.read_csv(r\"C:\\Users\\atpha\\Documents\\Postdocs\\Projects\\TES\\Data\\weather\\ATL.csv\")\n",
    "lon_atlanta = location_atlanta['lon'][0]\n",
    "lat_atlanta = location_atlanta['lat'][0]\n",
    "\n",
    "location_la = pd.read_csv(r\"C:\\Users\\atpha\\Documents\\Postdocs\\Projects\\TES\\Data\\weather\\LAX.csv\")\n",
    "lon_la = location_la['lon'][0]\n",
    "lat_la = location_la['lat'][0]\n",
    "\n",
    "location_minneapolis = pd.read_csv(r\"C:\\Users\\atpha\\Documents\\Postdocs\\Projects\\TES\\Data\\weather\\MSP.csv\")\n",
    "lon_minneapolis = location_minneapolis['lon'][0]\n",
    "lat_minneapolis = location_minneapolis['lat'][0]\n",
    "\n",
    "location_ny = pd.read_csv(r\"C:\\Users\\atpha\\Documents\\Postdocs\\Projects\\TES\\Data\\weather\\JFK.csv\")\n",
    "lon_ny = location_ny['lon'][0]\n",
    "lat_ny = location_ny['lat'][0]\n",
    "\n",
    "location_orlando = pd.read_csv(r\"C:\\Users\\atpha\\Documents\\Postdocs\\Projects\\TES\\Data\\weather\\MCO.csv\")\n",
    "lon_orlando = location_orlando['lon'][0]\n",
    "lat_orlando = location_orlando['lat'][0]\n",
    "\n",
    "location_phoenix = pd.read_csv(r\"C:\\Users\\atpha\\Documents\\Postdocs\\Projects\\TES\\Data\\weather\\PHX.csv\")\n",
    "lon_phoenix = location_phoenix['lon'][0]\n",
    "lat_phoenix = location_phoenix['lat'][0]\n",
    "\n",
    "location_seattle = pd.read_csv(r\"C:\\Users\\atpha\\Documents\\Postdocs\\Projects\\TES\\Data\\weather\\SEA.csv\")\n",
    "lon_seattle = location_seattle['lon'][0]\n",
    "lat_seattle = location_seattle['lat'][0]\n",
    "\n",
    "location_boston = pd.read_csv(r\"C:\\Users\\atpha\\Documents\\Postdocs\\Projects\\TES\\Data\\weather\\BOS.csv\")\n",
    "lon_boston = location_boston['lon'][0]\n",
    "lat_boston = location_boston['lat'][0]\n",
    "\n",
    "location_boulder = pd.read_csv(r\"C:\\Users\\atpha\\Documents\\Postdocs\\Projects\\TES\\Data\\weather\\BDU.csv\")\n",
    "lon_boulder = location_boulder['lon'][0]\n",
    "lat_boulder = location_boulder['lat'][0]\n",
    "\n",
    "location_chicago = pd.read_csv(r\"C:\\Users\\atpha\\Documents\\Postdocs\\Projects\\TES\\Data\\weather\\ORD.csv\")\n",
    "lon_chicago = location_chicago['lon'][0]\n",
    "lat_chicago = location_chicago['lat'][0]\n",
    "\n",
    "location_dallas = pd.read_csv(r\"C:\\Users\\atpha\\Documents\\Postdocs\\Projects\\TES\\Data\\weather\\DFW.csv\")\n",
    "lon_dallas = location_dallas['lon'][0]\n",
    "lat_dallas = location_dallas['lat'][0]"
   ],
   "metadata": {
    "collapsed": false,
    "pycharm": {
     "name": "#%%\n"
    }
   }
  },
  {
   "cell_type": "code",
   "execution_count": 7,
   "outputs": [
    {
     "data": {
      "text/plain": "121.24769737613764"
     },
     "execution_count": 7,
     "metadata": {},
     "output_type": "execute_result"
    }
   ],
   "source": [
    "# Map folder:\n",
    "us_states = gpd.read_file('C:/Users/atpha/Documents/Research/PJM Maps/tl_2016_us_state/tl_2016_us_state.shp')\n",
    "us_states_in_NA = us_states.drop(labels=[31, 34, 35, 36, 40, 41, 49], axis=0)\n",
    "\n",
    "cost_saving_detroit = cost_impacts_TES_detroit['peak load reduction'].sum()\n",
    "cost_saving_detroit_pct = cost_impacts_TES_detroit['peak load reduction'].sum()/cost_impacts_TES_detroit['peak load - no TES'].sum()\n",
    "\n",
    "cost_saving_atlanta = cost_impacts_TES_atlanta['peak load reduction'].sum()\n",
    "cost_saving_atlanta_pct = cost_impacts_TES_atlanta['peak load reduction'].sum()/cost_impacts_TES_atlanta['peak load - no TES'].sum()\n",
    "\n",
    "cost_saving_la = cost_impacts_TES_la['peak load reduction'].sum()\n",
    "cost_saving_la_pct = cost_impacts_TES_la['peak load reduction'].sum()/cost_impacts_TES_la['peak load - no TES'].sum()\n",
    "\n",
    "cost_saving_minneapolis = cost_impacts_TES_minneapolis['peak load reduction'].sum()\n",
    "cost_saving_minneapolis_pct = cost_impacts_TES_minneapolis['peak load reduction'].sum()/cost_impacts_TES_minneapolis['peak load - no TES'].sum()\n",
    "\n",
    "cost_saving_ny = cost_impacts_TES_ny['peak load reduction'].sum()\n",
    "cost_saving_ny_pct = cost_impacts_TES_ny['peak load reduction'].sum()/cost_impacts_TES_ny['peak load - no TES'].sum()\n",
    "\n",
    "cost_saving_orlando = cost_impacts_TES_orlando['peak load reduction'].sum()\n",
    "cost_saving_orlando_pct = cost_impacts_TES_orlando['peak load reduction'].sum()/cost_impacts_TES_orlando['peak load - no TES'].sum()\n",
    "\n",
    "cost_saving_phoenix = cost_impacts_TES_phoenix['peak load reduction'].sum()\n",
    "cost_saving_phoenix_pct = cost_impacts_TES_phoenix['peak load reduction'].sum()/cost_impacts_TES_phoenix['peak load - no TES'].sum()\n",
    "\n",
    "cost_saving_seattle = cost_impacts_TES_seattle['peak load reduction'].sum()\n",
    "cost_saving_seattle_pct = cost_impacts_TES_seattle['peak load reduction'].sum()/cost_impacts_TES_seattle['peak load - no TES'].sum()\n",
    "\n",
    "cost_saving_boston = cost_impacts_TES_boston['peak load reduction'].sum()\n",
    "cost_saving_boston_pct = cost_impacts_TES_boston['peak load reduction'].sum()/cost_impacts_TES_boston['peak load - no TES'].sum()\n",
    "\n",
    "cost_saving_boulder = cost_impacts_TES_boulder['peak load reduction'].sum()\n",
    "cost_saving_boulder_pct = cost_impacts_TES_boulder['peak load reduction'].sum()/cost_impacts_TES_boulder['peak load - no TES'].sum()\n",
    "\n",
    "cost_saving_chicago = cost_impacts_TES_chicago['peak load reduction'].sum()\n",
    "cost_saving_chicago_pct = cost_impacts_TES_chicago['peak load reduction'].sum()/cost_impacts_TES_chicago['peak load - no TES'].sum()\n",
    "\n",
    "cost_saving_dallas = cost_impacts_TES_dallas['peak load reduction'].sum()\n",
    "cost_saving_dallas_pct = cost_impacts_TES_dallas['peak load reduction'].sum()/cost_impacts_TES_dallas['peak load - no TES'].sum()\n",
    "\n",
    "cost_saving_dallas"
   ],
   "metadata": {
    "collapsed": false,
    "pycharm": {
     "name": "#%%\n"
    }
   }
  },
  {
   "cell_type": "code",
   "execution_count": 8,
   "outputs": [
    {
     "data": {
      "text/plain": "             City       lon      lat  Peak Reduction  Peak Reduction %\n0         Detroit  -83.3300  42.2300    2.077827e+05          6.279697\n1         Atlanta  -84.4418  33.6301    1.076110e+05         14.258773\n2     Los Angeles -118.3865  33.9382    7.944809e+04          6.120370\n3   New York City  -73.7622  40.6386    2.644117e+06         15.006321\n4     Minneapolis  -93.2313  44.8854    3.623088e+05         15.304617\n5         Orlando  -81.3090  28.4294    8.429957e+03          6.152355\n6         Phoenix -112.0116  33.4343    6.549185e+04         11.211831\n7         Seattle -122.3144  47.4447    6.844077e+03          1.057943\n8          Boston  -71.0097  42.3606    2.389435e+05         10.934265\n9         Boulder -105.2258  40.0394    6.693688e+04         18.084901\n10        Chicago  -87.9319  41.9875    2.925327e+06         22.614297\n11         Dallas  -97.0380  32.8968    1.642421e+05          8.986055",
      "text/html": "<div>\n<style scoped>\n    .dataframe tbody tr th:only-of-type {\n        vertical-align: middle;\n    }\n\n    .dataframe tbody tr th {\n        vertical-align: top;\n    }\n\n    .dataframe thead th {\n        text-align: right;\n    }\n</style>\n<table border=\"1\" class=\"dataframe\">\n  <thead>\n    <tr style=\"text-align: right;\">\n      <th></th>\n      <th>City</th>\n      <th>lon</th>\n      <th>lat</th>\n      <th>Peak Reduction</th>\n      <th>Peak Reduction %</th>\n    </tr>\n  </thead>\n  <tbody>\n    <tr>\n      <th>0</th>\n      <td>Detroit</td>\n      <td>-83.3300</td>\n      <td>42.2300</td>\n      <td>2.077827e+05</td>\n      <td>6.279697</td>\n    </tr>\n    <tr>\n      <th>1</th>\n      <td>Atlanta</td>\n      <td>-84.4418</td>\n      <td>33.6301</td>\n      <td>1.076110e+05</td>\n      <td>14.258773</td>\n    </tr>\n    <tr>\n      <th>2</th>\n      <td>Los Angeles</td>\n      <td>-118.3865</td>\n      <td>33.9382</td>\n      <td>7.944809e+04</td>\n      <td>6.120370</td>\n    </tr>\n    <tr>\n      <th>3</th>\n      <td>New York City</td>\n      <td>-73.7622</td>\n      <td>40.6386</td>\n      <td>2.644117e+06</td>\n      <td>15.006321</td>\n    </tr>\n    <tr>\n      <th>4</th>\n      <td>Minneapolis</td>\n      <td>-93.2313</td>\n      <td>44.8854</td>\n      <td>3.623088e+05</td>\n      <td>15.304617</td>\n    </tr>\n    <tr>\n      <th>5</th>\n      <td>Orlando</td>\n      <td>-81.3090</td>\n      <td>28.4294</td>\n      <td>8.429957e+03</td>\n      <td>6.152355</td>\n    </tr>\n    <tr>\n      <th>6</th>\n      <td>Phoenix</td>\n      <td>-112.0116</td>\n      <td>33.4343</td>\n      <td>6.549185e+04</td>\n      <td>11.211831</td>\n    </tr>\n    <tr>\n      <th>7</th>\n      <td>Seattle</td>\n      <td>-122.3144</td>\n      <td>47.4447</td>\n      <td>6.844077e+03</td>\n      <td>1.057943</td>\n    </tr>\n    <tr>\n      <th>8</th>\n      <td>Boston</td>\n      <td>-71.0097</td>\n      <td>42.3606</td>\n      <td>2.389435e+05</td>\n      <td>10.934265</td>\n    </tr>\n    <tr>\n      <th>9</th>\n      <td>Boulder</td>\n      <td>-105.2258</td>\n      <td>40.0394</td>\n      <td>6.693688e+04</td>\n      <td>18.084901</td>\n    </tr>\n    <tr>\n      <th>10</th>\n      <td>Chicago</td>\n      <td>-87.9319</td>\n      <td>41.9875</td>\n      <td>2.925327e+06</td>\n      <td>22.614297</td>\n    </tr>\n    <tr>\n      <th>11</th>\n      <td>Dallas</td>\n      <td>-97.0380</td>\n      <td>32.8968</td>\n      <td>1.642421e+05</td>\n      <td>8.986055</td>\n    </tr>\n  </tbody>\n</table>\n</div>"
     },
     "execution_count": 8,
     "metadata": {},
     "output_type": "execute_result"
    }
   ],
   "source": [
    "city = ['Detroit', 'Atlanta', 'Los Angeles', 'New York City', 'Minneapolis', 'Orlando', 'Phoenix', 'Seattle', 'Boston', 'Boulder', 'Chicago', 'Dallas']\n",
    "\n",
    "lon = [lon_detroit, lon_atlanta, lon_la, lon_ny, lon_minneapolis, lon_orlando, lon_phoenix, lon_seattle, lon_boston, lon_boulder, lon_chicago, lon_dallas]\n",
    "lat = [lat_detroit, lat_atlanta, lat_la, lat_ny, lat_minneapolis, lat_orlando, lat_phoenix, lat_seattle, lat_boston, lat_boulder, lat_chicago, lat_dallas]\n",
    "cost_saving = [cost_saving_detroit*664.3, cost_saving_atlanta*576.7, cost_saving_la*3610.0, cost_saving_ny*8509.9, cost_saving_minneapolis*448.9,\n",
    "               cost_saving_orlando*311.0, cost_saving_phoenix*1507.7, cost_saving_seattle*803.4, cost_saving_boston*701.8, cost_saving_boulder*113.1,\n",
    "               cost_saving_chicago*2964.5, cost_saving_dallas*1354.6]\n",
    "cost_saving_pct = [cost_saving_detroit_pct*100, cost_saving_atlanta_pct*100, cost_saving_la_pct*100, cost_saving_ny_pct*100, cost_saving_minneapolis_pct*100,\n",
    "                   cost_saving_orlando_pct*100, cost_saving_phoenix_pct*100, cost_saving_seattle_pct*100, cost_saving_boston_pct*100,\n",
    "                   cost_saving_boulder_pct*100, cost_saving_chicago_pct*100, cost_saving_dallas_pct*100]\n",
    "\n",
    "frame = np.vstack((city, lon, lat, cost_saving, cost_saving_pct))\n",
    "frame = pd.DataFrame(frame)\n",
    "frame = frame.transpose()\n",
    "frame.rename({0: 'City', 1: 'lon', 2: 'lat', 3: 'Peak Reduction', 4: 'Peak Reduction %'},axis=1, inplace=True)\n",
    "frame = frame.astype({'lon': float, 'lat': float, 'Peak Reduction': float, 'Peak Reduction %': float})\n",
    "frame"
   ],
   "metadata": {
    "collapsed": false,
    "pycharm": {
     "name": "#%%\n"
    }
   }
  },
  {
   "cell_type": "code",
   "execution_count": 9,
   "outputs": [
    {
     "name": "stderr",
     "output_type": "stream",
     "text": [
      "C:\\Users\\atpha\\Anaconda3\\lib\\site-packages\\IPython\\core\\interactiveshell.py:3309: FutureWarning: The `op` parameter is deprecated and will be removed in a future release. Please use the `predicate` parameter instead.\n",
      "  if await self.run_code(code, result, async_=asy):\n"
     ]
    },
    {
     "data": {
      "text/plain": "<Figure size 720x288 with 2 Axes>",
      "image/png": "[encoded data removed]"
     },
     "metadata": {},
     "output_type": "display_data"
    }
   ],
   "source": [
    "# Spatial join station data with states:\n",
    "from shapely.geometry import Point\n",
    "from geopandas import GeoDataFrame\n",
    "geometry = [Point(xy) for xy in zip(frame['lon'], frame['lat'])]\n",
    "gpdframe = GeoDataFrame(frame, crs='epsg:4269', geometry=geometry)\n",
    "costsaving_map = gpd.sjoin(gpdframe, us_states_in_NA, how=\"inner\", op='intersects')\n",
    "\n",
    "# Cost saving map for all cities:\n",
    "minx, miny, maxx, maxy = us_states_in_NA.total_bounds\n",
    "\n",
    "fig, ax = plt.subplots()\n",
    "ax.set_aspect('equal')\n",
    "us_states_in_NA.plot(ax=ax, color='white', figsize=(10,4), edgecolors='black', linewidth=0.5)\n",
    "costsaving_map.plot(ax=ax, kind=\"scatter\", x=\"lon\", y=\"lat\", s=700, edgecolors='black', #label=\"Cost Saving due to TES (%)\",\n",
    "                    c=\"Peak Reduction %\", cmap=\"Purples\", colorbar=True, legend=False, alpha=1, figsize=(10,4))\n",
    "plt.axis('off')\n",
    "f = plt.gcf()\n",
    "cax = f.get_axes()[1]\n",
    "cax.tick_params(labelsize=14)\n",
    "cax.set_ylabel(\"Peak Load Reduction due to TES (%)\", fontsize=14)\n",
    "ax.set_xlim(minx, maxx)\n",
    "ax.set_ylim(miny, maxy)\n",
    "plt.tight_layout()\n",
    "fig.savefig('C:/Users/atpha/Documents/Postdocs/Projects/TES/Draft/images/map_peak_pct.png', dpi=300, bbox_inches='tight')"
   ],
   "metadata": {
    "collapsed": false,
    "pycharm": {
     "name": "#%%\n"
    }
   }
  },
  {
   "cell_type": "code",
   "execution_count": 35,
   "outputs": [],
   "source": [
    "costsaving_map.to_csv(r'C:\\Users\\atpha\\Documents\\Postdocs\\Projects\\TES\\Results\\peak_load_reduction.csv')"
   ],
   "metadata": {
    "collapsed": false,
    "pycharm": {
     "name": "#%%\n"
    }
   }
  },
  {
   "cell_type": "code",
   "execution_count": 12,
   "outputs": [
    {
     "name": "stderr",
     "output_type": "stream",
     "text": [
      "C:\\Users\\atpha\\AppData\\Local\\Temp\\ipykernel_11996\\357721958.py:1: FutureWarning: Dropping of nuisance columns in DataFrame reductions (with 'numeric_only=None') is deprecated; in a future version this will raise TypeError.  Select only valid columns before calling the reduction.\n",
      "  costsaving_map.sum()\n"
     ]
    },
    {
     "data": {
      "text/plain": "City                DetroitAtlantaLos AngelesNew York CityMinneapo...\nlon                                                        -1129.9922\nlat                                                           461.915\nPeak Reduction                                         6877482.677533\nPeak Reduction %                                           136.011425\nindex_right                                                       296\nREGION                                                   234123441423\nDIVISION                                                 359245891837\nSTATEFP                                      261306362712045325081748\nSTATENS             0177978901705317017797780177979600662849002944...\nGEOID                                        261306362712045325081748\nSTUSPS                                       MIGACANYMNFLAZWAMACOILTX\nNAME                MichiganGeorgiaCaliforniaNew YorkMinnesotaFlor...\nLSAD                                         000000000000000000000000\nMTFCC               G4000G4000G4000G4000G4000G4000G4000G4000G4000G...\nFUNCSTAT                                                 AAAAAAAAAAAA\nALAND                                                      5809459766\nAWATER                                                     9698718705\nINTPTLAT            +44.8441757+32.6295789+37.1551773+42.9133974+4...\nINTPTLON            -085.6604930-083.4235109-119.5434183-075.59627...\ndtype: object"
     },
     "execution_count": 12,
     "metadata": {},
     "output_type": "execute_result"
    }
   ],
   "source": [
    "costsaving_map.sum()"
   ],
   "metadata": {
    "collapsed": false,
    "pycharm": {
     "name": "#%%\n"
    }
   }
  },
  {
   "cell_type": "code",
   "execution_count": null,
   "outputs": [],
   "source": [],
   "metadata": {
    "collapsed": false,
    "pycharm": {
     "name": "#%%\n"
    }
   }
  }
 ],
 "metadata": {
  "kernelspec": {
   "display_name": "Python 3",
   "language": "python",
   "name": "python3"
  },
  "language_info": {
   "codemirror_mode": {
    "name": "ipython",
    "version": 3
   },
   "file_extension": ".py",
   "mimetype": "text/x-python",
   "name": "python",
   "nbconvert_exporter": "python",
   "pygments_lexer": "ipython3",
   "version": "3.7.3"
  }
 },
 "nbformat": 4,
 "nbformat_minor": 1
}